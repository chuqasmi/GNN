{
  "cells": [
    {
      "cell_type": "markdown",
      "metadata": {
        "id": "view-in-github",
        "colab_type": "text"
      },
      "source": [
        "<a href=\"https://colab.research.google.com/github/chuqasmi/GNN/blob/main/MPhil_thesis_project_gnn_citations.ipynb\" target=\"_parent\"><img src=\"https://colab.research.google.com/assets/colab-badge.svg\" alt=\"Open In Colab\"/></a>"
      ]
    },
    {
      "cell_type": "markdown",
      "metadata": {
        "id": "wVtVCh20G2aR"
      },
      "source": [
        "# Node Classification with Graph Neural Networks\n",
        "\n",
        "**Redesign:** [MUHAMMAD USMAN](https://www.linkedin.com/in/muhammad-usman-538297229//)<br>\n",
        "**Date created:** 2024/03/30<br>\n",
        "**Last modified:** 2024/04/20<br>\n",
        "**About:** A project on Implementing a graph neural network model for predicting the topic of a paper given its citations."
      ]
    },
    {
      "cell_type": "markdown",
      "metadata": {
        "id": "PN0ee4aEG2aU"
      },
      "source": [
        "## Introduction\n",
        "\n",
        "Many datasets in various machine learning (ML) applications have structural relationships\n",
        "between their entities, which can be represented as graphs. Such application includes\n",
        "social and communication networks analysis, traffic prediction, and fraud detection.\n",
        "[Graph representation Learning](https://www.cs.mcgill.ca/~wlh/grl_book/)\n",
        "aims to build and train models for graph datasets to be used for a variety of ML tasks.\n",
        "\n",
        "This example demonstrate a simple implementation of a [Graph Neural Network](https://arxiv.org/pdf/1901.00596.pdf)\n",
        "(GNN) model. The model is used for a node prediction task on the [Cora dataset](https://relational.fit.cvut.cz/dataset/CORA)\n",
        "to predict the subject of a paper given its words and citations network.\n",
        "\n",
        "Note that, **we implement a Graph Convolution Layer from scratch** to provide better\n",
        "understanding of how they work. However, there is a number of specialized TensorFlow-based\n",
        "libraries that provide rich GNN APIs, such as [Spectral](https://graphneural.network/),\n",
        "[StellarGraph](https://stellargraph.readthedocs.io/en/stable/README.html), and\n",
        "[GraphNets](https://github.com/deepmind/graph_nets)."
      ]
    },
    {
      "cell_type": "markdown",
      "metadata": {
        "id": "F7mNRd72G2aW"
      },
      "source": [
        "## Setup"
      ]
    },
    {
      "cell_type": "code",
      "execution_count": null,
      "metadata": {
        "id": "dsZq-5vxG2aW"
      },
      "outputs": [],
      "source": [
        "import os\n",
        "import pandas as pd\n",
        "import numpy as np\n",
        "import networkx as nx\n",
        "import matplotlib.pyplot as plt\n",
        "import tensorflow as tf\n",
        "from tensorflow import keras\n",
        "from tensorflow.keras import layers"
      ]
    },
    {
      "cell_type": "markdown",
      "metadata": {
        "id": "jT8-ro7JG2aX"
      },
      "source": [
        "## Prepare the Dataset\n",
        "\n",
        "The Cora dataset consists of 2,708 scientific papers classified into one of seven classes.\n",
        "The citation network consists of 5,429 links. Each paper has a binary word vector of size\n",
        "1,433, indicating the presence of a corresponding word.\n",
        "\n",
        "### Download the dataset\n",
        "\n",
        "The dataset has two tap-separated files: `cora.cites` and `cora.content`.\n",
        "\n",
        "1. The `cora.cites` includes the citation records with two columns:\n",
        "`cited_paper_id` (target) and `citing_paper_id` (source).\n",
        "2. The `cora.content` includes the paper content records with 1,435 columns:\n",
        "`paper_id`, `subject`, and 1,433 binary features.\n",
        "\n",
        "Let's download the dataset."
      ]
    },
    {
      "cell_type": "code",
      "execution_count": null,
      "metadata": {
        "id": "QS0211RvG2aX"
      },
      "outputs": [],
      "source": [
        "zip_file = keras.utils.get_file(\n",
        "    fname=\"cora.tgz\",\n",
        "    origin=\"https://linqs-data.soe.ucsc.edu/public/lbc/cora.tgz\",\n",
        "    extract=True,\n",
        ")\n",
        "data_dir = os.path.join(os.path.dirname(zip_file), \"cora\")"
      ]
    },
    {
      "cell_type": "markdown",
      "metadata": {
        "id": "a-JpadWqG2aX"
      },
      "source": [
        "### Process and visualize the dataset\n",
        "\n",
        "Then we load the citations data into a Pandas DataFrame."
      ]
    },
    {
      "cell_type": "code",
      "execution_count": null,
      "metadata": {
        "id": "VPrDTSm9G2aY"
      },
      "outputs": [],
      "source": [
        "citations = pd.read_csv(\n",
        "    os.path.join(data_dir, \"cora.cites\"),\n",
        "    sep=\"\\t\",\n",
        "    header=None,\n",
        "    names=[\"target\", \"source\"],\n",
        ")\n",
        "print(\"Citations shape:\", citations.shape)"
      ]
    },
    {
      "cell_type": "markdown",
      "metadata": {
        "id": "fF9Bhc7eG2aY"
      },
      "source": [
        "Now we display a sample of the `citations` DataFrame.\n",
        "The `target` column includes the paper ids cited by the paper ids in the `source` column."
      ]
    },
    {
      "cell_type": "code",
      "execution_count": null,
      "metadata": {
        "id": "OS2z8_X1G2aY"
      },
      "outputs": [],
      "source": [
        "citations.sample(frac=1).head()"
      ]
    },
    {
      "cell_type": "markdown",
      "metadata": {
        "id": "H6nKx3GlG2aY"
      },
      "source": [
        "Now let's load the papers data into a Pandas DataFrame."
      ]
    },
    {
      "cell_type": "code",
      "execution_count": null,
      "metadata": {
        "id": "LLDwgyitG2aZ"
      },
      "outputs": [],
      "source": [
        "column_names = [\"paper_id\"] + [f\"term_{idx}\" for idx in range(1433)] + [\"subject\"]\n",
        "papers = pd.read_csv(\n",
        "    os.path.join(data_dir, \"cora.content\"), sep=\"\\t\", header=None, names=column_names,\n",
        ")\n",
        "print(\"Papers shape:\", papers.shape)"
      ]
    },
    {
      "cell_type": "markdown",
      "metadata": {
        "id": "A1plovnHG2aZ"
      },
      "source": [
        "Now we display a sample of the `papers` DataFrame. The DataFrame includes the `paper_id`\n",
        "and the `subject` columns, as well as 1,433 binary column representing whether a term exists\n",
        "in the paper or not."
      ]
    },
    {
      "cell_type": "code",
      "execution_count": null,
      "metadata": {
        "id": "u2G_L1ZEG2aZ"
      },
      "outputs": [],
      "source": [
        "print(papers.sample(5).T)"
      ]
    },
    {
      "cell_type": "markdown",
      "metadata": {
        "id": "EjO7TzOUG2aa"
      },
      "source": [
        "Let's display the count of the papers in each subject."
      ]
    },
    {
      "cell_type": "code",
      "execution_count": null,
      "metadata": {
        "id": "md2fvjkbG2aa"
      },
      "outputs": [],
      "source": [
        "print(papers.subject.value_counts())"
      ]
    },
    {
      "cell_type": "markdown",
      "metadata": {
        "id": "KOsDC5h-G2ab"
      },
      "source": [
        "We convert the paper ids and the subjects into zero-based indices."
      ]
    },
    {
      "cell_type": "code",
      "execution_count": null,
      "metadata": {
        "id": "9YxEV5YeG2ab"
      },
      "outputs": [],
      "source": [
        "class_values = sorted(papers[\"subject\"].unique())\n",
        "class_idx = {name: id for id, name in enumerate(class_values)}\n",
        "paper_idx = {name: idx for idx, name in enumerate(sorted(papers[\"paper_id\"].unique()))}\n",
        "\n",
        "papers[\"paper_id\"] = papers[\"paper_id\"].apply(lambda name: paper_idx[name])\n",
        "citations[\"source\"] = citations[\"source\"].apply(lambda name: paper_idx[name])\n",
        "citations[\"target\"] = citations[\"target\"].apply(lambda name: paper_idx[name])\n",
        "papers[\"subject\"] = papers[\"subject\"].apply(lambda value: class_idx[value])"
      ]
    },
    {
      "cell_type": "markdown",
      "metadata": {
        "id": "lkwjxpaEG2ac"
      },
      "source": [
        "Now let's visualize the citation graph. Each node in the graph represents a paper,\n",
        "and the color of the node corresponds to its subject. Note that we only show a sample of\n",
        "the papers in the dataset."
      ]
    },
    {
      "cell_type": "code",
      "execution_count": null,
      "metadata": {
        "id": "vbXPZ5r5G2ac"
      },
      "outputs": [],
      "source": [
        "plt.figure(figsize=(10, 10))\n",
        "colors = papers[\"subject\"].tolist()\n",
        "cora_graph = nx.from_pandas_edgelist(citations.sample(n=1500))\n",
        "subjects = list(papers[papers[\"paper_id\"].isin(list(cora_graph.nodes))][\"subject\"])\n",
        "nx.draw_spring(cora_graph, node_size=15, node_color=subjects)\n"
      ]
    },
    {
      "cell_type": "markdown",
      "metadata": {
        "id": "IT3hQulNG2ac"
      },
      "source": [
        "### Split the dataset into stratified train and test sets"
      ]
    },
    {
      "cell_type": "code",
      "execution_count": null,
      "metadata": {
        "id": "TTyW6lLmG2ac"
      },
      "outputs": [],
      "source": [
        "train_data, test_data = [], []\n",
        "\n",
        "for _, group_data in papers.groupby(\"subject\"):\n",
        "    # Select around 50% of the dataset for training.\n",
        "    random_selection = np.random.rand(len(group_data.index)) <= 0.5\n",
        "    train_data.append(group_data[random_selection])\n",
        "    test_data.append(group_data[~random_selection])\n",
        "\n",
        "train_data = pd.concat(train_data).sample(frac=1)\n",
        "test_data = pd.concat(test_data).sample(frac=1)\n",
        "\n",
        "print(\"Train data shape:\", train_data.shape)\n",
        "print(\"Test data shape:\", test_data.shape)"
      ]
    },
    {
      "cell_type": "markdown",
      "metadata": {
        "id": "V8oTAVwGG2ac"
      },
      "source": [
        "## Implement Train and Evaluate Experiment"
      ]
    },
    {
      "cell_type": "code",
      "execution_count": null,
      "metadata": {
        "id": "gX5NOqZMG2ad"
      },
      "outputs": [],
      "source": [
        "hidden_units = [32, 32]\n",
        "learning_rate = 0.01\n",
        "dropout_rate = 0.5\n",
        "num_epochs = 300\n",
        "batch_size = 256"
      ]
    },
    {
      "cell_type": "markdown",
      "metadata": {
        "id": "XjyGL5sAG2ad"
      },
      "source": [
        "This function compiles and trains an input model using the given training data."
      ]
    },
    {
      "cell_type": "code",
      "execution_count": null,
      "metadata": {
        "id": "mKAv3OFzG2ad"
      },
      "outputs": [],
      "source": [
        "\n",
        "def run_experiment(model, x_train, y_train):\n",
        "    # Compile the model.\n",
        "    model.compile(\n",
        "        optimizer=keras.optimizers.Adam(learning_rate),\n",
        "        loss=keras.losses.SparseCategoricalCrossentropy(from_logits=True),\n",
        "        metrics=[keras.metrics.SparseCategoricalAccuracy(name=\"acc\")],\n",
        "    )\n",
        "    # Create an early stopping callback.\n",
        "    early_stopping = keras.callbacks.EarlyStopping(\n",
        "        monitor=\"val_acc\", patience=50, restore_best_weights=True\n",
        "    )\n",
        "    # Fit the model.\n",
        "    history = model.fit(\n",
        "        x=x_train,\n",
        "        y=y_train,\n",
        "        epochs=num_epochs,\n",
        "        batch_size=batch_size,\n",
        "        validation_split=0.15,\n",
        "        callbacks=[early_stopping],\n",
        "    )\n",
        "\n",
        "    return history\n"
      ]
    },
    {
      "cell_type": "markdown",
      "metadata": {
        "id": "DjCayUvCG2ad"
      },
      "source": [
        "This function displays the loss and accuracy curves of the model during training."
      ]
    },
    {
      "cell_type": "code",
      "execution_count": null,
      "metadata": {
        "id": "78CN0St9G2ad"
      },
      "outputs": [],
      "source": [
        "\n",
        "def display_learning_curves(history):\n",
        "    fig, (ax1, ax2) = plt.subplots(1, 2, figsize=(15, 5))\n",
        "\n",
        "    ax1.plot(history.history[\"loss\"])\n",
        "    ax1.plot(history.history[\"val_loss\"])\n",
        "    ax1.legend([\"train\", \"test\"], loc=\"upper right\")\n",
        "    ax1.set_xlabel(\"Epochs\")\n",
        "    ax1.set_ylabel(\"Loss\")\n",
        "\n",
        "    ax2.plot(history.history[\"acc\"])\n",
        "    ax2.plot(history.history[\"val_acc\"])\n",
        "    ax2.legend([\"train\", \"test\"], loc=\"upper right\")\n",
        "    ax2.set_xlabel(\"Epochs\")\n",
        "    ax2.set_ylabel(\"Accuracy\")\n",
        "    plt.show()\n"
      ]
    },
    {
      "cell_type": "markdown",
      "metadata": {
        "id": "wdlKIOReG2ae"
      },
      "source": [
        "## Implement Feedforward Network (FFN) Module\n",
        "\n",
        "We will use this module in the baseline and the GNN models."
      ]
    },
    {
      "cell_type": "code",
      "execution_count": null,
      "metadata": {
        "id": "UJDtLJGpG2ae"
      },
      "outputs": [],
      "source": [
        "\n",
        "def create_ffn(hidden_units, dropout_rate, name=None):\n",
        "    fnn_layers = []\n",
        "\n",
        "    for units in hidden_units:\n",
        "        fnn_layers.append(layers.BatchNormalization())\n",
        "        fnn_layers.append(layers.Dropout(dropout_rate))\n",
        "        fnn_layers.append(layers.Dense(units, activation=tf.nn.gelu))\n",
        "\n",
        "    return keras.Sequential(fnn_layers, name=name)\n"
      ]
    },
    {
      "cell_type": "markdown",
      "metadata": {
        "id": "lBEk8NEXG2ae"
      },
      "source": [
        "## Build a Baseline Neural Network Model\n",
        "\n",
        "### Prepare the data for the baseline model"
      ]
    },
    {
      "cell_type": "code",
      "execution_count": null,
      "metadata": {
        "id": "P0Zt8CvdG2ae"
      },
      "outputs": [],
      "source": [
        "feature_names = list(set(papers.columns) - {\"paper_id\", \"subject\"})\n",
        "num_features = len(feature_names)\n",
        "num_classes = len(class_idx)\n",
        "\n",
        "# Create train and test features as a numpy array.\n",
        "x_train = train_data[feature_names].to_numpy()\n",
        "x_test = test_data[feature_names].to_numpy()\n",
        "# Create train and test targets as a numpy array.\n",
        "y_train = train_data[\"subject\"]\n",
        "y_test = test_data[\"subject\"]"
      ]
    },
    {
      "cell_type": "markdown",
      "metadata": {
        "id": "SxvtNmZgG2af"
      },
      "source": [
        "### Implement a baseline classifier\n",
        "\n",
        "We add five FFN blocks with skip connections, so that we generate a baseline model with\n",
        "roughly the same number of parameters as the GNN models to be built later."
      ]
    },
    {
      "cell_type": "code",
      "execution_count": null,
      "metadata": {
        "id": "0VIxLVEmG2af"
      },
      "outputs": [],
      "source": [
        "\n",
        "def create_baseline_model(hidden_units, num_classes, dropout_rate=0.2):\n",
        "    inputs = layers.Input(shape=(num_features,), name=\"input_features\")\n",
        "    x = create_ffn(hidden_units, dropout_rate, name=f\"ffn_block1\")(inputs)\n",
        "    for block_idx in range(4):\n",
        "        # Create an FFN block.\n",
        "        x1 = create_ffn(hidden_units, dropout_rate, name=f\"ffn_block{block_idx + 2}\")(x)\n",
        "        # Add skip connection.\n",
        "        x = layers.Add(name=f\"skip_connection{block_idx + 2}\")([x, x1])\n",
        "    # Compute logits.\n",
        "    logits = layers.Dense(num_classes, name=\"logits\")(x)\n",
        "    # Create the model.\n",
        "    return keras.Model(inputs=inputs, outputs=logits, name=\"baseline\")\n",
        "\n",
        "\n",
        "baseline_model = create_baseline_model(hidden_units, num_classes, dropout_rate)\n",
        "baseline_model.summary()"
      ]
    },
    {
      "cell_type": "markdown",
      "metadata": {
        "id": "E4vOYVVrG2af"
      },
      "source": [
        "### Train the baseline classifier"
      ]
    },
    {
      "cell_type": "code",
      "execution_count": null,
      "metadata": {
        "id": "_uL6D-wkG2ag"
      },
      "outputs": [],
      "source": [
        "history = run_experiment(baseline_model, x_train, y_train)"
      ]
    },
    {
      "cell_type": "markdown",
      "metadata": {
        "id": "N-POTVD5G2ag"
      },
      "source": [
        "Let's plot the learning curves."
      ]
    },
    {
      "cell_type": "code",
      "execution_count": null,
      "metadata": {
        "id": "I2OWnrPjG2ag"
      },
      "outputs": [],
      "source": [
        "display_learning_curves(history)"
      ]
    },
    {
      "cell_type": "markdown",
      "metadata": {
        "id": "nbmRp6aUG2ag"
      },
      "source": [
        "Now we evaluate the baseline model on the test data split."
      ]
    },
    {
      "cell_type": "code",
      "execution_count": null,
      "metadata": {
        "id": "UzZUOCmhG2ah"
      },
      "outputs": [],
      "source": [
        "_, test_accuracy = baseline_model.evaluate(x=x_test, y=y_test, verbose=0)\n",
        "print(f\"Test accuracy: {round(test_accuracy * 100, 2)}%\")"
      ]
    },
    {
      "cell_type": "markdown",
      "metadata": {
        "id": "kxBdwgb6G2ah"
      },
      "source": [
        "### Examine the baseline model predictions\n",
        "\n",
        "Let's create new data instances by randomly generating binary word vectors with respect to\n",
        "the word presence probabilities."
      ]
    },
    {
      "cell_type": "code",
      "execution_count": null,
      "metadata": {
        "id": "UeQWRgPoG2ah"
      },
      "outputs": [],
      "source": [
        "\n",
        "def generate_random_instances(num_instances):\n",
        "    token_probability = x_train.mean(axis=0)\n",
        "    instances = []\n",
        "    for _ in range(num_instances):\n",
        "        probabilities = np.random.uniform(size=len(token_probability))\n",
        "        instance = (probabilities <= token_probability).astype(int)\n",
        "        instances.append(instance)\n",
        "\n",
        "    return np.array(instances)\n",
        "\n",
        "\n",
        "def display_class_probabilities(probabilities):\n",
        "    for instance_idx, probs in enumerate(probabilities):\n",
        "        print(f\"Instance {instance_idx + 1}:\")\n",
        "        for class_idx, prob in enumerate(probs):\n",
        "            print(f\"- {class_values[class_idx]}: {round(prob * 100, 2)}%\")\n"
      ]
    },
    {
      "cell_type": "markdown",
      "metadata": {
        "id": "iw1X5kxzG2ah"
      },
      "source": [
        "Now we show the baseline model predictions given these randomly generated instances."
      ]
    },
    {
      "cell_type": "code",
      "execution_count": null,
      "metadata": {
        "id": "OSZxF4EEG2ah"
      },
      "outputs": [],
      "source": [
        "new_instances = generate_random_instances(num_classes)\n",
        "logits = baseline_model.predict(new_instances)\n",
        "probabilities = keras.activations.softmax(tf.convert_to_tensor(logits)).numpy()\n",
        "display_class_probabilities(probabilities)"
      ]
    },
    {
      "cell_type": "markdown",
      "metadata": {
        "id": "t7CbcohbG2ai"
      },
      "source": [
        "## Build a Graph Neural Network Model\n",
        "\n",
        "### Prepare the data for the graph model\n",
        "\n",
        "Preparing and loading the graphs data into the model for training is the most challenging\n",
        "part in GNN models, which is addressed in different ways by the specialised libraries.\n",
        "In this example, we show a simple approach for preparing and using graph data that is suitable\n",
        "if your dataset consists of a single graph that fits entirely in memory.\n",
        "\n",
        "The graph data is represented by the `graph_info` tuple, which consists of the following\n",
        "three elements:\n",
        "\n",
        "1. `node_features`: This is a `[num_nodes, num_features]` NumPy array that includes the\n",
        "node features. In this dataset, the nodes are the papers, and the `node_features` are the\n",
        "word-presence binary vectors of each paper.\n",
        "2. `edges`:  This is `[num_edges, num_edges]` NumPy array representing a sparse\n",
        "[adjacency matrix](https://en.wikipedia.org/wiki/Adjacency_matrix#:~:text=In%20graph%20theory%20and%20computer,with%20zeros%20on%20its%20diagonal.)\n",
        "of the links between the nodes. In this example, the links are the citations between the papers.\n",
        "3. `edge_weights` (optional): This is a `[num_edges]` NumPy array that includes the edge weights, which *quantify*\n",
        "the relationships between nodes in the graph. In this example, there are no weights for the paper citations."
      ]
    },
    {
      "cell_type": "code",
      "execution_count": null,
      "metadata": {
        "id": "4CPC9UGmG2ai"
      },
      "outputs": [],
      "source": [
        "# Create an edges array (sparse adjacency matrix) of shape [2, num_edges].\n",
        "edges = citations[[\"source\", \"target\"]].to_numpy().T\n",
        "# Create an edge weights array of ones.\n",
        "edge_weights = tf.ones(shape=edges.shape[1])\n",
        "# Create a node features array of shape [num_nodes, num_features].\n",
        "node_features = tf.cast(\n",
        "    papers.sort_values(\"paper_id\")[feature_names].to_numpy(), dtype=tf.dtypes.float32\n",
        ")\n",
        "# Create graph info tuple with node_features, edges, and edge_weights.\n",
        "graph_info = (node_features, edges, edge_weights)\n",
        "\n",
        "print(\"Edges shape:\", edges.shape)\n",
        "print(\"Nodes shape:\", node_features.shape)"
      ]
    },
    {
      "cell_type": "markdown",
      "metadata": {
        "id": "blcnQKX6G2aj"
      },
      "source": [
        "### Implement a graph convolution layer\n",
        "\n",
        "We implement a graph convolution module as a [Keras Layer](https://www.tensorflow.org/api_docs/python/tf/keras/layers/Layer?version=nightly).\n",
        "Our `GraphConvLayer` performs the following steps:\n",
        "\n",
        "1. **Prepare**: The input node representations are processed using a FFN to produce a *message*. You can simplify\n",
        "the processing by only applying linear transformation to the representations.\n",
        "2. **Aggregate**: The messages of the neighbours of each node are aggregated with\n",
        "respect to the `edge_weights` using a *permutation invariant* pooling operation, such as *sum*, *mean*, and *max*,\n",
        "to prepare a single aggregated message for each node. See, for example, [tf.math.unsorted_segment_sum](https://www.tensorflow.org/api_docs/python/tf/math/unsorted_segment_sum)\n",
        "APIs used to aggregate neighbour messages.\n",
        "3. **Update**: The `node_repesentations` and `aggregated_messages`—both of shape `[num_nodes, representation_dim]`—\n",
        "are combined and processed to produce the new state of the node representations (node embeddings).\n",
        "If `combination_type` is `gru`, the `node_repesentations` and `aggregated_messages` are stacked to create a sequence,\n",
        "then processed by a GRU layer. Otherwise, the `node_repesentations` and `aggregated_messages` are added\n",
        "or concatenated, then processed using a FFN.\n",
        "\n",
        "\n",
        "The technique implemented use ideas from [Graph Convolutional Networks](https://arxiv.org/abs/1609.02907),\n",
        "[GraphSage](https://arxiv.org/abs/1706.02216), [Graph Isomorphism Network](https://arxiv.org/abs/1810.00826),\n",
        "[Simple Graph Networks](https://arxiv.org/abs/1902.07153), and\n",
        "[Gated Graph Sequence Neural Networks](https://arxiv.org/abs/1511.05493).\n",
        "Two other key techniques that are not covered are [Graph Attention Networks](https://arxiv.org/abs/1710.10903)\n",
        "and [Message Passing Neural Networks](https://arxiv.org/abs/1704.01212)."
      ]
    },
    {
      "cell_type": "code",
      "execution_count": null,
      "metadata": {
        "id": "uiUDqEumG2ak"
      },
      "outputs": [],
      "source": [
        "\n",
        "def create_gru(hidden_units, dropout_rate):\n",
        "    inputs = keras.layers.Input(shape=(2, hidden_units[0]))\n",
        "    x = inputs\n",
        "    for units in hidden_units:\n",
        "      x = layers.GRU(\n",
        "          units=units,\n",
        "          activation=\"tanh\",\n",
        "          recurrent_activation=\"sigmoid\",\n",
        "          return_sequences=True,\n",
        "          dropout=dropout_rate,\n",
        "          return_state=False,\n",
        "          recurrent_dropout=dropout_rate,\n",
        "      )(x)\n",
        "    return keras.Model(inputs=inputs, outputs=x)\n",
        "\n",
        "\n",
        "class GraphConvLayer(layers.Layer):\n",
        "    def __init__(\n",
        "        self,\n",
        "        hidden_units,\n",
        "        dropout_rate=0.2,\n",
        "        aggregation_type=\"mean\",\n",
        "        combination_type=\"concat\",\n",
        "        normalize=False,\n",
        "        *args,\n",
        "        **kwargs,\n",
        "    ):\n",
        "        super().__init__(*args, **kwargs)\n",
        "\n",
        "        self.aggregation_type = aggregation_type\n",
        "        self.combination_type = combination_type\n",
        "        self.normalize = normalize\n",
        "\n",
        "        self.ffn_prepare = create_ffn(hidden_units, dropout_rate)\n",
        "        if self.combination_type == \"gru\":\n",
        "            self.update_fn = create_gru(hidden_units, dropout_rate)\n",
        "        else:\n",
        "            self.update_fn = create_ffn(hidden_units, dropout_rate)\n",
        "\n",
        "    def prepare(self, node_repesentations, weights=None):\n",
        "        # node_repesentations shape is [num_edges, embedding_dim].\n",
        "        messages = self.ffn_prepare(node_repesentations)\n",
        "        if weights is not None:\n",
        "            messages = messages * tf.expand_dims(weights, -1)\n",
        "        return messages\n",
        "\n",
        "    def aggregate(self, node_indices, neighbour_messages, node_repesentations):\n",
        "        # node_indices shape is [num_edges].\n",
        "        # neighbour_messages shape: [num_edges, representation_dim].\n",
        "        # node_repesentations shape is [num_nodes, representation_dim].\n",
        "        num_nodes = node_repesentations.shape[0]\n",
        "        if self.aggregation_type == \"sum\":\n",
        "            aggregated_message = tf.math.unsorted_segment_sum(\n",
        "                neighbour_messages, node_indices, num_segments=num_nodes\n",
        "            )\n",
        "        elif self.aggregation_type == \"mean\":\n",
        "            aggregated_message = tf.math.unsorted_segment_mean(\n",
        "                neighbour_messages, node_indices, num_segments=num_nodes\n",
        "            )\n",
        "        elif self.aggregation_type == \"max\":\n",
        "            aggregated_message = tf.math.unsorted_segment_max(\n",
        "                neighbour_messages, node_indices, num_segments=num_nodes\n",
        "            )\n",
        "        else:\n",
        "            raise ValueError(f\"Invalid aggregation type: {self.aggregation_type}.\")\n",
        "\n",
        "        return aggregated_message\n",
        "\n",
        "    def update(self, node_repesentations, aggregated_messages):\n",
        "        # node_repesentations shape is [num_nodes, representation_dim].\n",
        "        # aggregated_messages shape is [num_nodes, representation_dim].\n",
        "        if self.combination_type == \"gru\":\n",
        "            # Create a sequence of two elements for the GRU layer.\n",
        "            h = tf.stack([node_repesentations, aggregated_messages], axis=1)\n",
        "        elif self.combination_type == \"concat\":\n",
        "            # Concatenate the node_repesentations and aggregated_messages.\n",
        "            h = tf.concat([node_repesentations, aggregated_messages], axis=1)\n",
        "        elif self.combination_type == \"add\":\n",
        "            # Add node_repesentations and aggregated_messages.\n",
        "            h = node_repesentations + aggregated_messages\n",
        "        else:\n",
        "            raise ValueError(f\"Invalid combination type: {self.combination_type}.\")\n",
        "\n",
        "        # Apply the processing function.\n",
        "        node_embeddings = self.update_fn(h)\n",
        "        if self.combination_type == \"gru\":\n",
        "            node_embeddings = tf.unstack(node_embeddings, axis=1)[-1]\n",
        "\n",
        "        if self.normalize:\n",
        "            node_embeddings = tf.nn.l2_normalize(node_embeddings, axis=-1)\n",
        "        return node_embeddings\n",
        "\n",
        "    def call(self, inputs):\n",
        "        \"\"\"Process the inputs to produce the node_embeddings.\n",
        "\n",
        "        inputs: a tuple of three elements: node_repesentations, edges, edge_weights.\n",
        "        Returns: node_embeddings of shape [num_nodes, representation_dim].\n",
        "        \"\"\"\n",
        "\n",
        "        node_repesentations, edges, edge_weights = inputs\n",
        "        # Get node_indices (source) and neighbour_indices (target) from edges.\n",
        "        node_indices, neighbour_indices = edges[0], edges[1]\n",
        "        # neighbour_repesentations shape is [num_edges, representation_dim].\n",
        "        neighbour_repesentations = tf.gather(node_repesentations, neighbour_indices)\n",
        "\n",
        "        # Prepare the messages of the neighbours.\n",
        "        neighbour_messages = self.prepare(neighbour_repesentations, edge_weights)\n",
        "        # Aggregate the neighbour messages.\n",
        "        aggregated_messages = self.aggregate(\n",
        "            node_indices, neighbour_messages, node_repesentations\n",
        "        )\n",
        "        # Update the node embedding with the neighbour messages.\n",
        "        return self.update(node_repesentations, aggregated_messages)\n"
      ]
    },
    {
      "cell_type": "markdown",
      "metadata": {
        "id": "AXafp4xaG2ak"
      },
      "source": [
        "### Implement a graph neural network node classifier\n",
        "\n",
        "The GNN classification model follows the [Design Space for Graph Neural Networks](https://arxiv.org/abs/2011.08843) approach,\n",
        "as follows:\n",
        "\n",
        "1. Apply preprocessing using FFN to the node features to generate initial node representations.\n",
        "2. Apply one or more graph convolutional layer, with skip connections,  to the node representation\n",
        "to produce node embeddings.\n",
        "3. Apply post-processing using FFN to the node embeddings to generate the final node embeddings.\n",
        "4. Feed the node embeddings in a Softmax layer to predict the node class.\n",
        "\n",
        "Each graph convolutional layer added captures information from a further level of neighbours.\n",
        "However, adding many graph convolutional layer can cause oversmoothing, where the model\n",
        "produces similar embeddings for all the nodes.\n",
        "\n",
        "Note that the `graph_info` passed to the constructor of the Keras model, and used as a *property*\n",
        "of the Keras model object, rather than input data for training or prediction.\n",
        "The model will accept a **batch** of `node_indices`, which are used to lookup the\n",
        "node features and neighbours from the `graph_info`."
      ]
    },
    {
      "cell_type": "code",
      "execution_count": null,
      "metadata": {
        "id": "ORNNnfdFG2al"
      },
      "outputs": [],
      "source": [
        "\n",
        "class GNNNodeClassifier(tf.keras.Model):\n",
        "    def __init__(\n",
        "        self,\n",
        "        graph_info,\n",
        "        num_classes,\n",
        "        hidden_units,\n",
        "        aggregation_type=\"sum\",\n",
        "        combination_type=\"concat\",\n",
        "        dropout_rate=0.2,\n",
        "        normalize=True,\n",
        "        *args,\n",
        "        **kwargs,\n",
        "    ):\n",
        "        super().__init__(*args, **kwargs)\n",
        "\n",
        "        # Unpack graph_info to three elements: node_features, edges, and edge_weight.\n",
        "        node_features, edges, edge_weights = graph_info\n",
        "        self.node_features = node_features\n",
        "        self.edges = edges\n",
        "        self.edge_weights = edge_weights\n",
        "        # Set edge_weights to ones if not provided.\n",
        "        if self.edge_weights is None:\n",
        "            self.edge_weights = tf.ones(shape=edges.shape[1])\n",
        "        # Scale edge_weights to sum to 1.\n",
        "        self.edge_weights = self.edge_weights / tf.math.reduce_sum(self.edge_weights)\n",
        "\n",
        "        # Create a process layer.\n",
        "        self.preprocess = create_ffn(hidden_units, dropout_rate, name=\"preprocess\")\n",
        "        # Create the first GraphConv layer.\n",
        "        self.conv1 = GraphConvLayer(\n",
        "            hidden_units,\n",
        "            dropout_rate,\n",
        "            aggregation_type,\n",
        "            combination_type,\n",
        "            normalize,\n",
        "            name=\"graph_conv1\",\n",
        "        )\n",
        "        # Create the second GraphConv layer.\n",
        "        self.conv2 = GraphConvLayer(\n",
        "            hidden_units,\n",
        "            dropout_rate,\n",
        "            aggregation_type,\n",
        "            combination_type,\n",
        "            normalize,\n",
        "            name=\"graph_conv2\",\n",
        "        )\n",
        "        # Create a postprocess layer.\n",
        "        self.postprocess = create_ffn(hidden_units, dropout_rate, name=\"postprocess\")\n",
        "        # Create a compute logits layer.\n",
        "        self.compute_logits = layers.Dense(units=num_classes, name=\"logits\")\n",
        "\n",
        "    def call(self, input_node_indices):\n",
        "        # Preprocess the node_features to produce node representations.\n",
        "        x = self.preprocess(self.node_features)\n",
        "        # Apply the first graph conv layer.\n",
        "        x1 = self.conv1((x, self.edges, self.edge_weights))\n",
        "        # Skip connection.\n",
        "        x = x1 + x\n",
        "        # Apply the second graph conv layer.\n",
        "        x2 = self.conv2((x, self.edges, self.edge_weights))\n",
        "        # Skip connection.\n",
        "        x = x2 + x\n",
        "        # Postprocess node embedding.\n",
        "        x = self.postprocess(x)\n",
        "        # Fetch node embeddings for the input node_indices.\n",
        "        node_embeddings = tf.gather(x, input_node_indices)\n",
        "        # Compute logits\n",
        "        return self.compute_logits(node_embeddings)\n"
      ]
    },
    {
      "cell_type": "markdown",
      "metadata": {
        "id": "KVPQzTOpG2al"
      },
      "source": [
        "Let's test instantiating and calling the GNN model.\n",
        "Notice that if you provide `N` node indices, the output will be a tensor of shape `[N, num_classes]`,\n",
        "regardless of the size of the graph."
      ]
    },
    {
      "cell_type": "code",
      "execution_count": null,
      "metadata": {
        "id": "WZwT2pK3G2am"
      },
      "outputs": [],
      "source": [
        "gnn_model = GNNNodeClassifier(\n",
        "    graph_info=graph_info,\n",
        "    num_classes=num_classes,\n",
        "    hidden_units=hidden_units,\n",
        "    dropout_rate=dropout_rate,\n",
        "    name=\"gnn_model\",\n",
        ")\n",
        "\n",
        "print(\"GNN output shape:\", gnn_model([1, 10, 100]))\n",
        "\n",
        "gnn_model.summary()"
      ]
    },
    {
      "cell_type": "markdown",
      "metadata": {
        "id": "f1dzJWsXG2am"
      },
      "source": [
        "### Train the GNN model\n",
        "\n",
        "Note that we use the standard *supervised* cross-entropy loss to train the model.\n",
        "However, we can add another *self-supervised* loss term for the generated node embeddings\n",
        "that makes sure that neighbouring nodes in graph have similar representations, while faraway\n",
        "nodes have dissimilar representations."
      ]
    },
    {
      "cell_type": "code",
      "execution_count": null,
      "metadata": {
        "id": "C_T1xnvZG2am"
      },
      "outputs": [],
      "source": [
        "x_train = train_data.paper_id.to_numpy()\n",
        "history = run_experiment(gnn_model, x_train, y_train)"
      ]
    },
    {
      "cell_type": "markdown",
      "metadata": {
        "id": "hNLVTncUG2an"
      },
      "source": [
        "Let's plot the learning curves"
      ]
    },
    {
      "cell_type": "code",
      "execution_count": null,
      "metadata": {
        "id": "vafoOT2vG2an"
      },
      "outputs": [],
      "source": [
        "display_learning_curves(history)"
      ]
    },
    {
      "cell_type": "markdown",
      "metadata": {
        "id": "tIBVHvWNG2an"
      },
      "source": [
        "Now we evaluate the GNN model on the test data split.\n",
        "The results may vary depending on the training sample, however the GNN model always outperforms\n",
        "the baseline model in terms of the test accuracy."
      ]
    },
    {
      "cell_type": "code",
      "execution_count": null,
      "metadata": {
        "id": "dvdK9L1GG2ao"
      },
      "outputs": [],
      "source": [
        "x_test = test_data.paper_id.to_numpy()\n",
        "_, test_accuracy = gnn_model.evaluate(x=x_test, y=y_test, verbose=0)\n",
        "print(f\"Test accuracy: {round(test_accuracy * 100, 2)}%\")"
      ]
    },
    {
      "cell_type": "markdown",
      "metadata": {
        "id": "0Qck-C96G2ao"
      },
      "source": [
        "### Examine the GNN model predictions\n",
        "\n",
        "Let's add the new instances as nodes to the `node_features`, and generate links\n",
        "(citations) to existing nodes."
      ]
    },
    {
      "cell_type": "code",
      "execution_count": null,
      "metadata": {
        "id": "X3jpmexDG2ao"
      },
      "outputs": [],
      "source": [
        "# First we add the N new_instances as nodes to the graph\n",
        "# by appending the new_instance to node_features.\n",
        "num_nodes = node_features.shape[0]\n",
        "new_node_features = np.concatenate([node_features, new_instances])\n",
        "# Second we add the M edges (citations) from each new node to a set\n",
        "# of existing nodes in a particular subject\n",
        "new_node_indices = [i + num_nodes for i in range(num_classes)]\n",
        "new_citations = []\n",
        "for subject_idx, group in papers.groupby(\"subject\"):\n",
        "    subject_papers = list(group.paper_id)\n",
        "    # Select random x papers specific subject.\n",
        "    selected_paper_indices1 = np.random.choice(subject_papers, 5)\n",
        "    # Select random y papers from any subject (where y < x).\n",
        "    selected_paper_indices2 = np.random.choice(list(papers.paper_id), 2)\n",
        "    # Merge the selected paper indices.\n",
        "    selected_paper_indices = np.concatenate(\n",
        "        [selected_paper_indices1, selected_paper_indices2], axis=0\n",
        "    )\n",
        "    # Create edges between a citing paper idx and the selected cited papers.\n",
        "    citing_paper_indx = new_node_indices[subject_idx]\n",
        "    for cited_paper_idx in selected_paper_indices:\n",
        "        new_citations.append([citing_paper_indx, cited_paper_idx])\n",
        "\n",
        "new_citations = np.array(new_citations).T\n",
        "new_edges = np.concatenate([edges, new_citations], axis=1)"
      ]
    },
    {
      "cell_type": "markdown",
      "metadata": {
        "id": "iV11a8jQG2ao"
      },
      "source": [
        "Now let's update the `node_features` and the `edges` in the GNN model."
      ]
    },
    {
      "cell_type": "code",
      "execution_count": null,
      "metadata": {
        "id": "OV-Ty7z6G2ap"
      },
      "outputs": [],
      "source": [
        "print(\"Original node_features shape:\", gnn_model.node_features.shape)\n",
        "print(\"Original edges shape:\", gnn_model.edges.shape)\n",
        "gnn_model.node_features = new_node_features\n",
        "gnn_model.edges = new_edges\n",
        "gnn_model.edge_weights = tf.ones(shape=new_edges.shape[1])\n",
        "print(\"New node_features shape:\", gnn_model.node_features.shape)\n",
        "print(\"New edges shape:\", gnn_model.edges.shape)\n",
        "\n",
        "logits = gnn_model.predict(tf.convert_to_tensor(new_node_indices))\n",
        "probabilities = keras.activations.softmax(tf.convert_to_tensor(logits)).numpy()\n",
        "display_class_probabilities(probabilities)"
      ]
    },
    {
      "cell_type": "markdown",
      "metadata": {
        "id": "yKaQ9djzG2ap"
      },
      "source": [
        "Notice that the probabilities of the expected subjects\n",
        "(to which several citations are added) are higher compared to the baseline model."
      ]
    },
    {
      "cell_type": "markdown",
      "source": [
        "## Introduction\n",
        "\n",
        "[Graph neural networks](https://en.wikipedia.org/wiki/Graph_neural_network)\n",
        "is the preferred neural network architecture for processing data structured as\n",
        "graphs (for example, social networks or molecule structures), yielding\n",
        "better results than fully-connected networks or convolutional networks.\n",
        "\n",
        "In this tutorial, we will implement a specific graph neural network known as a\n",
        "[Graph Attention Network](https://arxiv.org/abs/1710.10903) (GAT) to predict labels of\n",
        "scientific papers based on what type of papers cite them (using the\n",
        "[Cora](https://linqs.soe.ucsc.edu/data) dataset).\n",
        "\n",
        "### References\n",
        "\n",
        "For more information on GAT, see the original paper\n",
        "[Graph Attention Networks](https://arxiv.org/abs/1710.10903) as well as\n",
        "[DGL's Graph Attention Networks](https://docs.dgl.ai/en/0.4.x/tutorials/models/1_gnn/9_gat.html)\n",
        "documentation."
      ],
      "metadata": {
        "id": "khuYd2Km2G_J"
      }
    },
    {
      "cell_type": "markdown",
      "source": [
        "Graph attention network (GAT) for node classification"
      ],
      "metadata": {
        "id": "kuq9_JKB15At"
      }
    },
    {
      "cell_type": "markdown",
      "source": [
        "### Import packages"
      ],
      "metadata": {
        "id": "YX5423DB2SLa"
      }
    },
    {
      "cell_type": "code",
      "source": [
        "import tensorflow as tf\n",
        "from tensorflow import keras\n",
        "from tensorflow.keras import layers\n",
        "import numpy as np\n",
        "import pandas as pd\n",
        "import os\n",
        "import warnings\n",
        "\n",
        "warnings.filterwarnings(\"ignore\")\n",
        "pd.set_option(\"display.max_columns\", 6)\n",
        "pd.set_option(\"display.max_rows\", 6)\n",
        "np.random.seed(2)"
      ],
      "metadata": {
        "id": "aCAm4nk22dI9"
      },
      "execution_count": null,
      "outputs": []
    },
    {
      "cell_type": "markdown",
      "source": [
        "## Obtain the dataset\n",
        "\n",
        "The preparation of the [Cora dataset](https://linqs.soe.ucsc.edu/data) follows that of the\n",
        "[Node classification with Graph Neural Networks](https://keras.io/examples/graph/gnn_citations/)\n",
        "tutorial. Refer to this tutorial for more details on the dataset and exploratory data analysis.\n",
        "In brief, the Cora dataset consists of two files: `cora.cites` which contains *directed links* (citations) between\n",
        "papers; and `cora.content` which contains *features* of the corresponding papers and one\n",
        "of seven labels (the *subject* of the paper)."
      ],
      "metadata": {
        "id": "plgestOt2lAR"
      }
    },
    {
      "cell_type": "code",
      "source": [],
      "metadata": {
        "id": "tWC73RLO2o7r"
      },
      "execution_count": null,
      "outputs": []
    },
    {
      "cell_type": "code",
      "execution_count": null,
      "metadata": {
        "id": "2e1l2YFnZN0J"
      },
      "outputs": [],
      "source": [
        "zip_file = keras.utils.get_file(\n",
        "    fname=\"cora.tgz\",\n",
        "    origin=\"https://linqs-data.soe.ucsc.edu/public/lbc/cora.tgz\",\n",
        "    extract=True,\n",
        ")\n",
        "\n",
        "data_dir = os.path.join(os.path.dirname(zip_file), \"cora\")\n",
        "\n",
        "citations = pd.read_csv(\n",
        "    os.path.join(data_dir, \"cora.cites\"),\n",
        "    sep=\"\\t\",\n",
        "    header=None,\n",
        "    names=[\"target\", \"source\"],\n",
        ")\n",
        "\n",
        "papers = pd.read_csv(\n",
        "    os.path.join(data_dir, \"cora.content\"),\n",
        "    sep=\"\\t\",\n",
        "    header=None,\n",
        "    names=[\"paper_id\"] + [f\"term_{idx}\" for idx in range(1433)] + [\"subject\"],\n",
        ")\n",
        "\n",
        "class_values = sorted(papers[\"subject\"].unique())\n",
        "class_idx = {name: id for id, name in enumerate(class_values)}\n",
        "paper_idx = {name: idx for idx, name in enumerate(sorted(papers[\"paper_id\"].unique()))}\n",
        "\n",
        "papers[\"paper_id\"] = papers[\"paper_id\"].apply(lambda name: paper_idx[name])\n",
        "citations[\"source\"] = citations[\"source\"].apply(lambda name: paper_idx[name])\n",
        "citations[\"target\"] = citations[\"target\"].apply(lambda name: paper_idx[name])\n",
        "papers[\"subject\"] = papers[\"subject\"].apply(lambda value: class_idx[value])\n",
        "\n",
        "print(citations)\n",
        "\n",
        "print(papers)"
      ]
    },
    {
      "cell_type": "markdown",
      "source": [],
      "metadata": {
        "id": "igvr3GdH25Rk"
      }
    },
    {
      "cell_type": "code",
      "source": [],
      "metadata": {
        "id": "idkY17h02-v6"
      },
      "execution_count": null,
      "outputs": []
    },
    {
      "cell_type": "code",
      "execution_count": null,
      "metadata": {
        "id": "dVZimmlMZN0L"
      },
      "outputs": [],
      "source": [
        "# Obtain random indices\n",
        "random_indices = np.random.permutation(range(papers.shape[0]))\n",
        "\n",
        "# 50/50 split\n",
        "train_data = papers.iloc[random_indices[: len(random_indices) // 2]]\n",
        "test_data = papers.iloc[random_indices[len(random_indices) // 2 :]]"
      ]
    },
    {
      "cell_type": "code",
      "source": [],
      "metadata": {
        "id": "soFZZz1D3NFG"
      },
      "execution_count": null,
      "outputs": []
    },
    {
      "cell_type": "markdown",
      "source": [
        "prepare data"
      ],
      "metadata": {
        "id": "JlcwfUoX3PRS"
      }
    },
    {
      "cell_type": "code",
      "execution_count": null,
      "metadata": {
        "id": "GmayXz7rZN0M"
      },
      "outputs": [],
      "source": [
        "# Obtain paper indices which will be used to gather node states\n",
        "# from the graph later on when training the model\n",
        "train_indices = train_data[\"paper_id\"].to_numpy()\n",
        "test_indices = test_data[\"paper_id\"].to_numpy()\n",
        "\n",
        "# Obtain ground truth labels corresponding to each paper_id\n",
        "train_labels = train_data[\"subject\"].to_numpy()\n",
        "test_labels = test_data[\"subject\"].to_numpy()\n",
        "\n",
        "# Define graph, namely an edge tensor and a node feature tensor\n",
        "edges = tf.convert_to_tensor(citations[[\"target\", \"source\"]])\n",
        "node_states = tf.convert_to_tensor(papers.sort_values(\"paper_id\").iloc[:, 1:-1])\n",
        "\n",
        "# Print shapes of the graph\n",
        "print(\"Edges shape:\\t\\t\", edges.shape)\n",
        "print(\"Node features shape:\", node_states.shape)"
      ]
    },
    {
      "cell_type": "markdown",
      "source": [
        "### (Multi-head) graph attention layer\n",
        "\n",
        "The GAT model implements multi-head graph attention layers. The `MultiHeadGraphAttention`\n",
        "layer is simply a concatenation (or averaging) of multiple graph attention layers\n",
        "(`GraphAttention`), each with separate learnable weights `W`. The `GraphAttention` layer\n"
      ],
      "metadata": {
        "id": "I4Q312dB3m7x"
      }
    },
    {
      "cell_type": "code",
      "source": [],
      "metadata": {
        "id": "NxcEFCic3xQ5"
      },
      "execution_count": null,
      "outputs": []
    },
    {
      "cell_type": "code",
      "execution_count": null,
      "metadata": {
        "id": "PnFWXad3ZN0N"
      },
      "outputs": [],
      "source": [
        "\n",
        "class GraphAttention(layers.Layer):\n",
        "    def __init__(\n",
        "        self,\n",
        "        units,\n",
        "        kernel_initializer=\"glorot_uniform\",\n",
        "        kernel_regularizer=None,\n",
        "        **kwargs,\n",
        "    ):\n",
        "        super().__init__(**kwargs)\n",
        "        self.units = units\n",
        "        self.kernel_initializer = keras.initializers.get(kernel_initializer)\n",
        "        self.kernel_regularizer = keras.regularizers.get(kernel_regularizer)\n",
        "\n",
        "    def build(self, input_shape):\n",
        "\n",
        "        self.kernel = self.add_weight(\n",
        "            shape=(input_shape[0][-1], self.units),\n",
        "            trainable=True,\n",
        "            initializer=self.kernel_initializer,\n",
        "            regularizer=self.kernel_regularizer,\n",
        "            name=\"kernel\",\n",
        "        )\n",
        "        self.kernel_attention = self.add_weight(\n",
        "            shape=(self.units * 2, 1),\n",
        "            trainable=True,\n",
        "            initializer=self.kernel_initializer,\n",
        "            regularizer=self.kernel_regularizer,\n",
        "            name=\"kernel_attention\",\n",
        "        )\n",
        "        self.built = True\n",
        "\n",
        "    def call(self, inputs):\n",
        "        node_states, edges = inputs\n",
        "\n",
        "        # Linearly transform node states\n",
        "        node_states_transformed = tf.matmul(node_states, self.kernel)\n",
        "\n",
        "        # (1) Compute pair-wise attention scores\n",
        "        node_states_expanded = tf.gather(node_states_transformed, edges)\n",
        "        node_states_expanded = tf.reshape(\n",
        "            node_states_expanded, (tf.shape(edges)[0], -1)\n",
        "        )\n",
        "        attention_scores = tf.nn.leaky_relu(\n",
        "            tf.matmul(node_states_expanded, self.kernel_attention)\n",
        "        )\n",
        "        attention_scores = tf.squeeze(attention_scores, -1)\n",
        "\n",
        "        # (2) Normalize attention scores\n",
        "        attention_scores = tf.math.exp(tf.clip_by_value(attention_scores, -2, 2))\n",
        "        attention_scores_sum = tf.math.unsorted_segment_sum(\n",
        "            data=attention_scores,\n",
        "            segment_ids=edges[:, 0],\n",
        "            num_segments=tf.reduce_max(edges[:, 0]) + 1,\n",
        "        )\n",
        "        attention_scores_sum = tf.repeat(\n",
        "            attention_scores_sum, tf.math.bincount(tf.cast(edges[:, 0], \"int32\"))\n",
        "        )\n",
        "        attention_scores_norm = attention_scores / attention_scores_sum\n",
        "\n",
        "        # (3) Gather node states of neighbors, apply attention scores and aggregate\n",
        "        node_states_neighbors = tf.gather(node_states_transformed, edges[:, 1])\n",
        "        out = tf.math.unsorted_segment_sum(\n",
        "            data=node_states_neighbors * attention_scores_norm[:, tf.newaxis],\n",
        "            segment_ids=edges[:, 0],\n",
        "            num_segments=tf.shape(node_states)[0],\n",
        "        )\n",
        "        return out\n",
        "\n",
        "\n",
        "class MultiHeadGraphAttention(layers.Layer):\n",
        "    def __init__(self, units, num_heads=8, merge_type=\"concat\", **kwargs):\n",
        "        super().__init__(**kwargs)\n",
        "        self.num_heads = num_heads\n",
        "        self.merge_type = merge_type\n",
        "        self.attention_layers = [GraphAttention(units) for _ in range(num_heads)]\n",
        "\n",
        "    def call(self, inputs):\n",
        "        atom_features, pair_indices = inputs\n",
        "\n",
        "        # Obtain outputs from each attention head\n",
        "        outputs = [\n",
        "            attention_layer([atom_features, pair_indices])\n",
        "            for attention_layer in self.attention_layers\n",
        "        ]\n",
        "        # Concatenate or average the node states from each head\n",
        "        if self.merge_type == \"concat\":\n",
        "            outputs = tf.concat(outputs, axis=-1)\n",
        "        else:\n",
        "            outputs = tf.reduce_mean(tf.stack(outputs, axis=-1), axis=-1)\n",
        "        # Activate and return node states\n",
        "        return tf.nn.relu(outputs)\n"
      ]
    },
    {
      "cell_type": "markdown",
      "source": [
        "### Implement training logic with custom `train_step`, `test_step`, and `predict_step` methods\n",
        "\n",
        "Notice, the GAT model operates on the entire graph (namely, `node_states` and\n",
        "`edges`) in all phases (training, validation and testing). Hence, `node_states` and\n",
        "`edges` are passed to the constructor of the `keras.Model` and used as attributes.\n",
        "The difference between the phases are the indices (and labels), which gathers\n",
        "certain outputs (`tf.gather(outputs, indices)`)."
      ],
      "metadata": {
        "id": "mUdWanzy348w"
      }
    },
    {
      "cell_type": "code",
      "source": [],
      "metadata": {
        "id": "MQTrN2_k4A9f"
      },
      "execution_count": null,
      "outputs": []
    },
    {
      "cell_type": "code",
      "execution_count": null,
      "metadata": {
        "id": "38nF96OrZN0O"
      },
      "outputs": [],
      "source": [
        "\n",
        "class GraphAttentionNetwork(keras.Model):\n",
        "    def __init__(\n",
        "        self,\n",
        "        node_states,\n",
        "        edges,\n",
        "        hidden_units,\n",
        "        num_heads,\n",
        "        num_layers,\n",
        "        output_dim,\n",
        "        **kwargs,\n",
        "    ):\n",
        "        super().__init__(**kwargs)\n",
        "        self.node_states = node_states\n",
        "        self.edges = edges\n",
        "        self.preprocess = layers.Dense(hidden_units * num_heads, activation=\"relu\")\n",
        "        self.attention_layers = [\n",
        "            MultiHeadGraphAttention(hidden_units, num_heads) for _ in range(num_layers)\n",
        "        ]\n",
        "        self.output_layer = layers.Dense(output_dim)\n",
        "\n",
        "    def call(self, inputs):\n",
        "        node_states, edges = inputs\n",
        "        x = self.preprocess(node_states)\n",
        "        for attention_layer in self.attention_layers:\n",
        "            x = attention_layer([x, edges]) + x\n",
        "        outputs = self.output_layer(x)\n",
        "        return outputs\n",
        "\n",
        "    def train_step(self, data):\n",
        "        indices, labels = data\n",
        "\n",
        "        with tf.GradientTape() as tape:\n",
        "            # Forward pass\n",
        "            outputs = self([self.node_states, self.edges])\n",
        "            # Compute loss\n",
        "            loss = self.compiled_loss(labels, tf.gather(outputs, indices))\n",
        "        # Compute gradients\n",
        "        grads = tape.gradient(loss, self.trainable_weights)\n",
        "        # Apply gradients (update weights)\n",
        "        optimizer.apply_gradients(zip(grads, self.trainable_weights))\n",
        "        # Update metric(s)\n",
        "        self.compiled_metrics.update_state(labels, tf.gather(outputs, indices))\n",
        "\n",
        "        return {m.name: m.result() for m in self.metrics}\n",
        "\n",
        "    def predict_step(self, data):\n",
        "        indices = data\n",
        "        # Forward pass\n",
        "        outputs = self([self.node_states, self.edges])\n",
        "        # Compute probabilities\n",
        "        return tf.nn.softmax(tf.gather(outputs, indices))\n",
        "\n",
        "    def test_step(self, data):\n",
        "        indices, labels = data\n",
        "        # Forward pass\n",
        "        outputs = self([self.node_states, self.edges])\n",
        "        # Compute loss\n",
        "        loss = self.compiled_loss(labels, tf.gather(outputs, indices))\n",
        "        # Update metric(s)\n",
        "        self.compiled_metrics.update_state(labels, tf.gather(outputs, indices))\n",
        "\n",
        "        return {m.name: m.result() for m in self.metrics}\n"
      ]
    },
    {
      "cell_type": "markdown",
      "source": [
        "### Train and evaluate"
      ],
      "metadata": {
        "id": "7_0tpNAA4HW0"
      }
    },
    {
      "cell_type": "code",
      "source": [],
      "metadata": {
        "id": "v6Ql5sWC4Krd"
      },
      "execution_count": null,
      "outputs": []
    },
    {
      "cell_type": "code",
      "execution_count": null,
      "metadata": {
        "id": "JU9SIC_xZN0P"
      },
      "outputs": [],
      "source": [
        "# Define hyper-parameters\n",
        "HIDDEN_UNITS = 100\n",
        "NUM_HEADS = 8\n",
        "NUM_LAYERS = 3\n",
        "OUTPUT_DIM = len(class_values)\n",
        "\n",
        "NUM_EPOCHS = 100\n",
        "BATCH_SIZE = 256\n",
        "VALIDATION_SPLIT = 0.1\n",
        "LEARNING_RATE = 3e-1\n",
        "MOMENTUM = 0.9\n",
        "\n",
        "loss_fn = keras.losses.SparseCategoricalCrossentropy(from_logits=True)\n",
        "optimizer = keras.optimizers.SGD(LEARNING_RATE, momentum=MOMENTUM)\n",
        "accuracy_fn = keras.metrics.SparseCategoricalAccuracy(name=\"acc\")\n",
        "early_stopping = keras.callbacks.EarlyStopping(\n",
        "    monitor=\"val_acc\", min_delta=1e-5, patience=5, restore_best_weights=True\n",
        ")\n",
        "\n",
        "# Build model\n",
        "gat_model = GraphAttentionNetwork(\n",
        "    node_states, edges, HIDDEN_UNITS, NUM_HEADS, NUM_LAYERS, OUTPUT_DIM\n",
        ")\n",
        "\n",
        "# Compile model\n",
        "gat_model.compile(loss=loss_fn, optimizer=optimizer, metrics=[accuracy_fn])\n",
        "\n",
        "gat_model.fit(\n",
        "    x=train_indices,\n",
        "    y=train_labels,\n",
        "    validation_split=VALIDATION_SPLIT,\n",
        "    batch_size=BATCH_SIZE,\n",
        "    epochs=NUM_EPOCHS,\n",
        "    callbacks=[early_stopping],\n",
        "    verbose=2,\n",
        ")\n",
        "\n",
        "_, test_accuracy = gat_model.evaluate(x=test_indices, y=test_labels, verbose=0)\n",
        "\n",
        "print(\"--\" * 38 + f\"\\nTest Accuracy {test_accuracy*100:.1f}%\")"
      ]
    },
    {
      "cell_type": "markdown",
      "source": [
        "### Predict (probabilities)"
      ],
      "metadata": {
        "id": "jSwIjuJC4ThJ"
      }
    },
    {
      "cell_type": "code",
      "source": [],
      "metadata": {
        "id": "XLUX1ENk4Vl1"
      },
      "execution_count": null,
      "outputs": []
    },
    {
      "cell_type": "code",
      "execution_count": null,
      "metadata": {
        "id": "-zuDRygMZN0Q"
      },
      "outputs": [],
      "source": [
        "test_probs = gat_model.predict(x=test_indices)\n",
        "\n",
        "mapping = {v: k for (k, v) in class_idx.items()}\n",
        "\n",
        "for i, (probs, label) in enumerate(zip(test_probs[:10], test_labels[:10])):\n",
        "    print(f\"Example {i+1}: {mapping[label]}\")\n",
        "    for j, c in zip(probs, class_idx.keys()):\n",
        "        print(f\"\\tProbability of {c: <24} = {j*100:7.3f}%\")\n",
        "    print(\"---\" * 20)"
      ]
    },
    {
      "cell_type": "markdown",
      "source": [
        "## Conclusions\n",
        "\n",
        "The results look OK! The GAT model seems to correctly predict the subjects of the papers,\n",
        "based on what they cite, about 80% of the time. Further improvements could be\n",
        "made by fine-tuning the hyper-parameters of the GAT. For instance, try changing the number of layers,\n",
        "the number of hidden units, or the optimizer/learning rate; add regularization (e.g., dropout);\n",
        "or modify the preprocessing step. We could also try to implement *self-loops*\n",
        "(i.e., paper X cites paper X) and/or make the graph *undirected*."
      ],
      "metadata": {
        "id": "amqj9MMj4jUF"
      }
    },
    {
      "cell_type": "markdown",
      "source": [
        "# **citation network Graph Neural Networks (GNNs) to the task of node classification Cora dataset, which is a citation network**\n",
        "\n",
        "[Previous: Introduction: Hands-on Graph Neural Networks](https://colab.research.google.com/drive/1h3-vJGRVloF5zStxL5I0rSy4ZUPNsjy8)\n",
        "\n",
        "use of the `Cora` datase .\n",
        "Here, we are given the ground-truth labels of only a small subset of nodes, and want to infer the labels for all the remaining nodes (*transductive learning*).\n",
        "\n",
        "\n",
        "Each node is described by a 1433-dimensional bag-of-words feature vector.\n",
        "Two documents are connected if there exists a citation link between them.\n",
        "The task is to infer the category of each document (7 in total).\n",
        "\n"
      ],
      "metadata": {
        "id": "2NP33Y-d41Ef"
      }
    },
    {
      "cell_type": "code",
      "source": [],
      "metadata": {
        "id": "iuaJYsnl5UTE"
      },
      "execution_count": null,
      "outputs": []
    },
    {
      "cell_type": "code",
      "execution_count": null,
      "metadata": {
        "id": "DeYm_w--2f-B"
      },
      "outputs": [],
      "source": [
        "# Install required packages.\n",
        "\n",
        "!pip install -q torch-scatter -f https://data.pyg.org/whl/torch-${TORCH}.html\n",
        "!pip install -q torch-sparse -f https://data.pyg.org/whl/torch-${TORCH}.html\n",
        "!pip install -q git+https://github.com/pyg-team/pytorch_geometric.git\n",
        "!pip install -qqq wandb"
      ]
    },
    {
      "cell_type": "code",
      "source": [],
      "metadata": {
        "id": "Sx6vMvUe5fU_"
      },
      "execution_count": null,
      "outputs": []
    },
    {
      "cell_type": "code",
      "execution_count": null,
      "metadata": {
        "id": "dZiDYD862f-D"
      },
      "outputs": [],
      "source": [
        "enable_wandb = True\n",
        "if enable_wandb:\n",
        "    import wandb"
      ]
    },
    {
      "cell_type": "code",
      "source": [],
      "metadata": {
        "id": "3yUFMJws5g5i"
      },
      "execution_count": null,
      "outputs": []
    },
    {
      "cell_type": "code",
      "execution_count": null,
      "metadata": {
        "id": "zAT-5Le92f-E"
      },
      "outputs": [],
      "source": [
        "wandb.login()"
      ]
    },
    {
      "cell_type": "code",
      "source": [],
      "metadata": {
        "id": "zW_W3tqh5nNe"
      },
      "execution_count": null,
      "outputs": []
    },
    {
      "cell_type": "code",
      "execution_count": null,
      "metadata": {
        "id": "BP09AsHf2f-F"
      },
      "outputs": [],
      "source": [
        "import os\n",
        "import pdb\n",
        "import torch\n",
        "import pandas\n",
        "\n",
        "os.environ['TORCH'] = torch.__version__\n",
        "print(torch.__version__)"
      ]
    },
    {
      "cell_type": "code",
      "source": [],
      "metadata": {
        "id": "nNLsU90k5rvS"
      },
      "execution_count": null,
      "outputs": []
    },
    {
      "cell_type": "code",
      "execution_count": null,
      "metadata": {
        "id": "X3DiCtny2f-G"
      },
      "outputs": [],
      "source": [
        "import matplotlib.pyplot as plt\n",
        "from sklearn.manifold import TSNE\n",
        "\n",
        "def visualize(h, color):\n",
        "    z = TSNE(n_components=2).fit_transform(h.detach().cpu().numpy())\n",
        "    plt.figure(figsize=(10,10))\n",
        "    plt.xticks([])\n",
        "    plt.yticks([])\n",
        "    plt.scatter(z[:, 0], z[:, 1], s=70, c=color, cmap=\"Set2\")\n",
        "    plt.show()\n",
        "\n",
        "def embedding_to_wandb(h, color, key=\"embedding\"):\n",
        "    num_components = h.shape[-1]\n",
        "    df = pandas.DataFrame(data=h.detach().cpu().numpy(),\n",
        "                        columns=[f\"c_{i}\" for i in range(num_components)])\n",
        "    df[\"target\"] = color.detach().cpu().numpy().astype(\"str\")\n",
        "    cols = df.columns.tolist()\n",
        "    df = df[cols[-1:] + cols[:-1]]\n",
        "    wandb.log({key: df})"
      ]
    },
    {
      "cell_type": "markdown",
      "source": [],
      "metadata": {
        "id": "WnyHEMTL54yo"
      }
    },
    {
      "cell_type": "code",
      "source": [],
      "metadata": {
        "id": "66ZqfwNJ6BTc"
      },
      "execution_count": null,
      "outputs": []
    },
    {
      "cell_type": "code",
      "execution_count": null,
      "metadata": {
        "id": "pLMvd1e92f-I"
      },
      "outputs": [],
      "source": [
        "from torch_geometric.datasets import Planetoid\n",
        "from torch_geometric.transforms import NormalizeFeatures\n",
        "\n",
        "\n",
        "\n",
        "dataset = Planetoid(root='data/Planetoid', name='Cora', transform=NormalizeFeatures())\n",
        "\n",
        "print()\n",
        "print(f'Dataset: {dataset}:')\n",
        "print('======================')\n",
        "print(f'Number of graphs: {len(dataset)}')\n",
        "print(f'Number of features: {dataset.num_features}')\n",
        "print(f'Number of classes: {dataset.num_classes}')\n",
        "\n",
        "data = dataset[0]  # Get the first graph object.\n",
        "\n",
        "print()\n",
        "print(data)\n",
        "print('===========================================================================================================')\n",
        "\n",
        "# Gather some statistics about the graph.\n",
        "print(f'Number of nodes: {data.num_nodes}')\n",
        "print(f'Number of edges: {data.num_edges}')\n",
        "print(f'Average node degree: {data.num_edges / data.num_nodes:.2f}')\n",
        "print(f'Number of training nodes: {data.train_mask.sum()}')\n",
        "print(f'Training node label rate: {int(data.train_mask.sum()) / data.num_nodes:.2f}')\n",
        "print(f'Has isolated nodes: {data.has_isolated_nodes()}')\n",
        "print(f'Has self-loops: {data.has_self_loops()}')\n",
        "print(f'Is undirected: {data.is_undirected()}')"
      ]
    },
    {
      "cell_type": "code",
      "source": [],
      "metadata": {
        "id": "5VVbqFIJ6C_K"
      },
      "execution_count": null,
      "outputs": []
    },
    {
      "cell_type": "markdown",
      "source": [
        "Overall, this dataset is quite similar to the previously used [`KarateClub`](https://pytorch-geometric.readthedocs.io/en/latest/modules/datasets.html#torch_geometric.datasets.KarateClub) network.\n",
        "We can see that the `Cora` network holds 2,708 nodes and 10,556 edges, resulting in an average node degree of 3.9.\n",
        "For training this dataset, we are given the ground-truth categories of 140 nodes (20 for each class).\n",
        "This results in a training node label rate of only 5%.\n",
        "\n",
        "In contrast to `KarateClub`, this graph holds the additional attributes `val_mask` and `test_mask`, which denotes which nodes should be used for validation and testing.\n",
        "Furthermore, we make use of **[data transformations](https://pytorch-geometric.readthedocs.io/en/latest/notes/introduction.html#data-transforms) via `transform=NormalizeFeatures()`**.\n",
        "Transforms can be used to modify your input data before inputting them into a neural network, *e.g.*, for normalization or data augmentation.\n",
        "Here, we [row-normalize](https://pytorch-geometric.readthedocs.io/en/latest/modules/transforms.html#torch_geometric.transforms.NormalizeFeatures) the bag-of-words input feature vectors.\n",
        "\n",
        "We can further see that this network is undirected, and that there exists no isolated nodes (each document has at least one citation)."
      ],
      "metadata": {
        "id": "YFSMSM646JVI"
      }
    },
    {
      "cell_type": "code",
      "source": [],
      "metadata": {
        "id": "4DPRFAjE6Lbp"
      },
      "execution_count": null,
      "outputs": []
    },
    {
      "cell_type": "markdown",
      "source": [
        "## Training a Multi-layer Perception Network (MLP)\n",
        "\n",
        "In theory, we should be able to infer the category of a document solely based on its content, *i.e.* its bag-of-words feature representation, without taking any relational information into account.\n",
        "\n",
        "Let's verify that by constructing a simple MLP that solely operates on input node features (using shared weights across all nodes):"
      ],
      "metadata": {
        "id": "BIIYutAO6RC2"
      }
    },
    {
      "cell_type": "code",
      "source": [],
      "metadata": {
        "id": "btomb_H96Sgw"
      },
      "execution_count": null,
      "outputs": []
    },
    {
      "cell_type": "code",
      "execution_count": null,
      "metadata": {
        "id": "37iJvvrC2f-L"
      },
      "outputs": [],
      "source": [
        "import torch\n",
        "from torch.nn import Linear\n",
        "import torch.nn.functional as F\n",
        "\n",
        "\n",
        "class MLP(torch.nn.Module):\n",
        "    def __init__(self, hidden_channels):\n",
        "        super().__init__()\n",
        "        torch.manual_seed(12345)\n",
        "        self.lin1 = Linear(dataset.num_features, hidden_channels)\n",
        "        self.lin2 = Linear(hidden_channels, dataset.num_classes)\n",
        "\n",
        "    def forward(self, x):\n",
        "        x = self.lin1(x)\n",
        "        x = x.relu()\n",
        "        x = F.dropout(x, p=0.5, training=self.training)\n",
        "        x = self.lin2(x)\n",
        "        return x\n",
        "\n",
        "model = MLP(hidden_channels=16)\n",
        "print(model)"
      ]
    },
    {
      "cell_type": "code",
      "source": [],
      "metadata": {
        "id": "t1bG2XNU6dZv"
      },
      "execution_count": null,
      "outputs": []
    },
    {
      "cell_type": "code",
      "execution_count": null,
      "metadata": {
        "id": "_WpKgYMS2f-M"
      },
      "outputs": [],
      "source": [
        "if enable_wandb:\n",
        "    wandb.init(project='node-classification')\n",
        "    summary = dict()\n",
        "    summary[\"data\"] = dict()\n",
        "    summary[\"data\"][\"num_features\"] = dataset.num_features\n",
        "    summary[\"data\"][\"num_classes\"] = dataset.num_classes\n",
        "    summary[\"data\"][\"num_nodes\"] = data.num_nodes\n",
        "    summary[\"data\"][\"num_edges\"] = data.num_edges\n",
        "    summary[\"data\"][\"has_isolated_nodes\"] = data.has_isolated_nodes()\n",
        "    summary[\"data\"][\"has_self_nodes\"] = data.has_self_loops()\n",
        "    summary[\"data\"][\"is_undirected\"] = data.is_undirected()\n",
        "    summary[\"data\"][\"num_training_nodes\"] = data.train_mask.sum()\n",
        "    wandb.summary = summary"
      ]
    },
    {
      "cell_type": "code",
      "source": [],
      "metadata": {
        "id": "KUAE_kUO6lEN"
      },
      "execution_count": null,
      "outputs": []
    },
    {
      "cell_type": "markdown",
      "source": [
        "Our MLP is defined by two linear layers and enhanced by [ReLU](https://pytorch.org/docs/stable/generated/torch.nn.ReLU.html?highlight=relu#torch.nn.ReLU) non-linearity and [dropout](https://pytorch.org/docs/stable/generated/torch.nn.Dropout.html?highlight=dropout#torch.nn.Dropout).\n",
        "Here, we first reduce the 1433-dimensional feature vector to a low-dimensional embedding (`hidden_channels=16`), while the second linear layer acts as a classifier that should map each low-dimensional node embedding to one of the 7 classes.\n",
        "\n",
        "Let's train our simple MLP by following a similar procedure as described in [the first part of this tutorial](https://colab.research.google.com/drive/1h3-vJGRVloF5zStxL5I0rSy4ZUPNsjy8).\n",
        "We again make use of the **cross entropy loss** and **Adam optimizer**.\n",
        "This time, we also define a **`test` function** to evaluate how well our final model performs on the test node set (which labels have not been observed during training).\n",
        "\n",
        "We also visualize the embeddings of the untrained model to in visually comparing the progress made by the training process below.\n",
        "\n",
        "\n",
        "**NOTE**: *For W&B mode, please set up the embedding projector from the setting panel of the logged table. More information can be found here: https://docs.wandb.ai/ref/app/features/panels/weave/embedding-projector*"
      ],
      "metadata": {
        "id": "ZCD6BJMr6rpT"
      }
    },
    {
      "cell_type": "code",
      "source": [],
      "metadata": {
        "id": "N6L3CtvI6yNN"
      },
      "execution_count": null,
      "outputs": []
    },
    {
      "cell_type": "code",
      "execution_count": null,
      "metadata": {
        "id": "CaXBW-bR2f-N"
      },
      "outputs": [],
      "source": [
        "from IPython.display import Javascript  # Restrict height of output cell.\n",
        "display(Javascript('''google.colab.output.setIframeHeight(0, true, {maxHeight: 300})'''))\n",
        "\n",
        "model = MLP(hidden_channels=16)\n",
        "\n",
        "with torch.no_grad():\n",
        "  out = model(data.x)\n",
        "\n",
        "if enable_wandb:\n",
        "    embedding_to_wandb(out, color=data.y, key=\"mlp/embedding/init\")\n",
        "else:\n",
        "    visualize(out, data.y)\n",
        "\n",
        "criterion = torch.nn.CrossEntropyLoss()  # Define loss criterion.\n",
        "optimizer = torch.optim.Adam(model.parameters(), lr=0.01, weight_decay=5e-4)  # Define optimizer.\n",
        "\n",
        "def train():\n",
        "      model.train()\n",
        "      optimizer.zero_grad()  # Clear gradients.\n",
        "      out = model(data.x)  # Perform a single forward pass.\n",
        "      loss = criterion(out[data.train_mask], data.y[data.train_mask])  # Compute the loss solely based on the training nodes.\n",
        "      loss.backward()  # Derive gradients.\n",
        "      optimizer.step()  # Update parameters based on gradients.\n",
        "      return loss\n",
        "\n",
        "def test():\n",
        "      model.eval()\n",
        "      out = model(data.x)\n",
        "      pred = out.argmax(dim=1)  # Use the class with highest probability.\n",
        "      test_correct = pred[data.test_mask] == data.y[data.test_mask]  # Check against ground-truth labels.\n",
        "      test_acc = int(test_correct.sum()) / int(data.test_mask.sum())  # Derive ratio of correct predictions.\n",
        "      return test_acc\n",
        "\n",
        "for epoch in range(1, 201):\n",
        "    loss = train()\n",
        "    if enable_wandb:\n",
        "        wandb.log({\"mlp/loss\": loss})\n",
        "    print(f'Epoch: {epoch:03d}, Loss: {loss:.4f}')"
      ]
    },
    {
      "cell_type": "markdown",
      "source": [
        "After training the model, we can call the `test` function to see how well our model performs on unseen labels.\n",
        "Here, we are interested in the accuracy of the model, *i.e.*, the ratio of correctly classified nodes:\n",
        "\n",
        "We also visualize the embeddings of the output. This will give us a visual hint as to how good the model is performing, when compared to the embeddings of the geometric models defined below."
      ],
      "metadata": {
        "id": "s2Tk_Cc164ZG"
      }
    },
    {
      "cell_type": "code",
      "source": [],
      "metadata": {
        "id": "1Uwh5oW0695G"
      },
      "execution_count": null,
      "outputs": []
    },
    {
      "cell_type": "code",
      "execution_count": null,
      "metadata": {
        "id": "jcTss7iH2f-O"
      },
      "outputs": [],
      "source": [
        "test_acc = test()\n",
        "\n",
        "out = model(data.x)\n",
        "if enable_wandb:\n",
        "    embedding_to_wandb(out, color=data.y, key=\"mlp/embedding/trained\")\n",
        "    wandb.summary[\"mlp/accuracy\"] = test_acc\n",
        "    wandb.log({\"mlp/accuracy\": test_acc})\n",
        "else:\n",
        "  visualize(out, data.y)\n",
        "\n",
        "print(f'Test Accuracy: {test_acc:.4f}')"
      ]
    },
    {
      "cell_type": "markdown",
      "source": [
        "As one can see, our MLP performs rather bad with only about 59% test accuracy.\n",
        "But why does the MLP do not perform better?\n",
        "The main reason for that is that this model suffers from heavy overfitting due to only having access to a **small amount of training nodes**, and therefore generalizes poorly to unseen node representations.\n",
        "\n",
        "It also fails to incorporate an important bias into the model: **Cited papers are very likely related to the category of a document**.\n",
        "That is exactly where Graph Neural Networks come into play and can help to boost the performance of our model.\n",
        "\n"
      ],
      "metadata": {
        "id": "WA2FjlpB7EGr"
      }
    },
    {
      "cell_type": "markdown",
      "source": [
        "## Training a Graph Neural Network (GNN)\n",
        "\n",
        "We can easily convert our MLP to a GNN by swapping the `torch.nn.Linear` layers with PyG's GNN operators.\n",
        "\n",
        "Following-up on [the first part of this tutorial](https://colab.research.google.com/drive/1h3-vJGRVloF5zStxL5I0rSy4ZUPNsjy8), we replace the linear layers by the [`GCNConv`](https://pytorch-geometric.readthedocs.io/en/latest/modules/nn.html#torch_geometric.nn.conv.GCNConv) module.\n",
        "To recap, the **GCN layer** ([Kipf et al. (2017)](https://arxiv.org/abs/1609.02907)) is defined as\n",
        "\n",
        "$$\n",
        "\\mathbf{x}_v^{(\\ell + 1)} = \\mathbf{W}^{(\\ell + 1)} \\sum_{w \\in \\mathcal{N}(v) \\, \\cup \\, \\{ v \\}} \\frac{1}{c_{w,v}} \\cdot \\mathbf{x}_w^{(\\ell)}\n",
        "$$\n",
        "\n",
        "where $\\mathbf{W}^{(\\ell + 1)}$ denotes a trainable weight matrix of shape `[num_output_features, num_input_features]` and $c_{w,v}$ refers to a fixed normalization coefficient for each edge.\n",
        "In contrast, a single `Linear` layer is defined as\n",
        "\n",
        "$$\n",
        "\\mathbf{x}_v^{(\\ell + 1)} = \\mathbf{W}^{(\\ell + 1)} \\mathbf{x}_v^{(\\ell)}\n",
        "$$\n",
        "\n",
        "which does not make use of neighboring node information."
      ],
      "metadata": {
        "id": "c8gZfbSY7K3r"
      }
    },
    {
      "cell_type": "code",
      "source": [],
      "metadata": {
        "id": "4_wcgpZX7TqJ"
      },
      "execution_count": null,
      "outputs": []
    },
    {
      "cell_type": "code",
      "execution_count": null,
      "metadata": {
        "id": "P-ydvyhm2f-P"
      },
      "outputs": [],
      "source": [
        "from torch_geometric.nn import GCNConv\n",
        "\n",
        "\n",
        "class GCN(torch.nn.Module):\n",
        "    def __init__(self, hidden_channels):\n",
        "        super().__init__()\n",
        "        torch.manual_seed(1234567)\n",
        "        self.conv1 = GCNConv(dataset.num_features, hidden_channels)\n",
        "        self.conv2 = GCNConv(hidden_channels, dataset.num_classes)\n",
        "\n",
        "    def forward(self, x, edge_index):\n",
        "        x = self.conv1(x, edge_index)\n",
        "        x = x.relu()\n",
        "        x = F.dropout(x, p=0.5, training=self.training)\n",
        "        x = self.conv2(x, edge_index)\n",
        "        return x\n",
        "\n",
        "model = GCN(hidden_channels=16)\n",
        "print(model)"
      ]
    },
    {
      "cell_type": "markdown",
      "source": [
        "Let's visualize the node embeddings of our **untrained** GCN network.\n",
        "For visualization, we make use of [**TSNE**](https://scikit-learn.org/stable/modules/generated/sklearn.manifold.TSNE.html) to embed our 7-dimensional node embeddings onto a 2D plane."
      ],
      "metadata": {
        "id": "Jm_wJHcC7acl"
      }
    },
    {
      "cell_type": "code",
      "source": [],
      "metadata": {
        "id": "IqQtUXWG7gDY"
      },
      "execution_count": null,
      "outputs": []
    },
    {
      "cell_type": "code",
      "execution_count": null,
      "metadata": {
        "id": "gNt2hxRc2f-P"
      },
      "outputs": [],
      "source": [
        "model = GCN(hidden_channels=16)\n",
        "model.eval()\n",
        "\n",
        "out = model(data.x, data.edge_index)\n",
        "\n",
        "if enable_wandb:\n",
        "    embedding_to_wandb(out, color=data.y, key=\"gcn/embedding/init\")\n",
        "else:\n",
        "    visualize(out, data.y)"
      ]
    },
    {
      "cell_type": "markdown",
      "source": [
        "We certainly can do better by training our model.\n",
        "The training and testing procedure is once again the same, but this time we make use of the node features `x` **and** the graph connectivity `edge_index` as input to our GCN model."
      ],
      "metadata": {
        "id": "zd0TqjBs7lSI"
      }
    },
    {
      "cell_type": "code",
      "source": [],
      "metadata": {
        "id": "e8ZvUGia7rOS"
      },
      "execution_count": null,
      "outputs": []
    },
    {
      "cell_type": "code",
      "execution_count": null,
      "metadata": {
        "id": "ZM3oiJwy7y4D"
      },
      "outputs": [],
      "source": [
        "from IPython.display import Javascript  # Restrict height of output cell.\n",
        "display(Javascript('''google.colab.output.setIframeHeight(0, true, {maxHeight: 300})'''))\n",
        "\n",
        "model = GCN(hidden_channels=16)\n",
        "if enable_wandb:\n",
        "    wandb.watch(model)\n",
        "\n",
        "optimizer = torch.optim.Adam(model.parameters(), lr=0.01, weight_decay=5e-4)\n",
        "criterion = torch.nn.CrossEntropyLoss()\n",
        "\n",
        "def train():\n",
        "      model.train()\n",
        "      optimizer.zero_grad()  # Clear gradients.\n",
        "      out = model(data.x, data.edge_index)  # Perform a single forward pass.\n",
        "      loss = criterion(out[data.train_mask], data.y[data.train_mask])  # Compute the loss solely based on the training nodes.\n",
        "      loss.backward()  # Derive gradients.\n",
        "      optimizer.step()  # Update parameters based on gradients.\n",
        "      return loss\n",
        "\n",
        "def test():\n",
        "      model.eval()\n",
        "      out = model(data.x, data.edge_index)\n",
        "      pred = out.argmax(dim=1)  # Use the class with highest probability.\n",
        "      test_correct = pred[data.test_mask] == data.y[data.test_mask]  # Check against ground-truth labels.\n",
        "      test_acc = int(test_correct.sum()) / int(data.test_mask.sum())  # Derive ratio of correct predictions.\n",
        "      return test_acc\n",
        "\n",
        "\n",
        "for epoch in range(1, 101):\n",
        "    loss = train()\n",
        "    if enable_wandb:\n",
        "        wandb.log({\"gcn/loss\": loss})\n",
        "    print(f'Epoch: {epoch:03d}, Loss: {loss:.4f}')"
      ]
    },
    {
      "cell_type": "code",
      "source": [],
      "metadata": {
        "id": "-yyMsD7y7_mS"
      },
      "execution_count": null,
      "outputs": []
    },
    {
      "cell_type": "markdown",
      "source": [
        "After training the model, we can check its test accuracy:"
      ],
      "metadata": {
        "id": "MqHExd-I7-It"
      }
    },
    {
      "cell_type": "code",
      "source": [
        "test_acc = test()\n",
        "print(f'Test Accuracy: {test_acc:.4f}')"
      ],
      "metadata": {
        "id": "erBx45Sv8AyE"
      },
      "execution_count": null,
      "outputs": []
    },
    {
      "cell_type": "markdown",
      "source": [],
      "metadata": {
        "id": "9nkeO6jT71AW"
      }
    },
    {
      "cell_type": "markdown",
      "source": [
        "**There it is!**\n",
        "By simply swapping the linear layers with GNN layers, we can reach **81.5% of test accuracy**!\n",
        "This is in stark contrast to the 59% of test accuracy obtained by our MLP, indicating that relational information plays a crucial role in obtaining better performance.\n",
        "\n",
        "We can also verify that once again by looking at the output embeddings of our **trained** model, which now produces a far better clustering of nodes of the same category."
      ],
      "metadata": {
        "id": "O52ODD4y8ODU"
      }
    },
    {
      "cell_type": "code",
      "source": [],
      "metadata": {
        "id": "mlhtEqI48XVT"
      },
      "execution_count": null,
      "outputs": []
    },
    {
      "cell_type": "code",
      "execution_count": null,
      "metadata": {
        "id": "i9kXtuOy2f-R"
      },
      "outputs": [],
      "source": [
        "model.eval()\n",
        "\n",
        "out = model(data.x, data.edge_index)\n",
        "\n",
        "if enable_wandb:\n",
        "    wandb.summary[\"gcn/accuracy\"] = test_acc\n",
        "    wandb.log({\"gcn/accuracy\": test_acc})\n",
        "    embedding_to_wandb(out, color=data.y, key=\"gcn/embedding/trained\")\n",
        "    wandb.finish()\n",
        "else:\n",
        "    visualize(out, data.y)"
      ]
    },
    {
      "cell_type": "markdown",
      "source": [
        "In this section, we'll look into how we can use [W&B Sweeps](https://wandb.ai/site/sweeps/) to perform a hyper-parameter search for the GCN. For this to work, it is essential for wandb to be enabled, i.e., `enable_wandb` should be set to `True`."
      ],
      "metadata": {
        "id": "CNKYdHoF8ZOB"
      }
    },
    {
      "cell_type": "code",
      "source": [],
      "metadata": {
        "id": "QmWektLn8iyh"
      },
      "execution_count": null,
      "outputs": []
    },
    {
      "cell_type": "code",
      "source": [],
      "metadata": {
        "id": "YY0vkEKY8jcG"
      },
      "execution_count": null,
      "outputs": []
    },
    {
      "cell_type": "code",
      "source": [],
      "metadata": {
        "id": "KScCtKFe8l-L"
      },
      "execution_count": null,
      "outputs": []
    },
    {
      "cell_type": "code",
      "execution_count": null,
      "metadata": {
        "id": "unwWhyRR2f-R"
      },
      "outputs": [],
      "source": [
        "assert enable_wandb, \"W&B not enabled. Please, enable W&B and restart the notebook\""
      ]
    },
    {
      "cell_type": "code",
      "source": [],
      "metadata": {
        "id": "W7WzcpBr8nmh"
      },
      "execution_count": null,
      "outputs": []
    },
    {
      "cell_type": "code",
      "execution_count": null,
      "metadata": {
        "id": "hdckkW7o2f-S"
      },
      "outputs": [],
      "source": [
        "import tqdm\n",
        "\n",
        "def agent_fn():\n",
        "    wandb.init()\n",
        "    model = GCN(hidden_channels=wandb.config.hidden_channels)\n",
        "    wandb.watch(model)\n",
        "\n",
        "    with torch.no_grad():\n",
        "      out = model(data.x, data.edge_index)\n",
        "      embedding_to_wandb(out, color=data.y, key=\"gcn/embedding/init\")\n",
        "\n",
        "    optimizer = torch.optim.Adam(model.parameters(), lr=wandb.config.lr, weight_decay=wandb.config.weight_decay)\n",
        "    criterion = torch.nn.CrossEntropyLoss()\n",
        "\n",
        "    def train():\n",
        "          model.train()\n",
        "          optimizer.zero_grad()  # Clear gradients.\n",
        "          out = model(data.x, data.edge_index)  # Perform a single forward pass.\n",
        "          loss = criterion(out[data.train_mask], data.y[data.train_mask])  # Compute the loss solely based on the training nodes.\n",
        "          loss.backward()  # Derive gradients.\n",
        "          optimizer.step()  # Update parameters based on gradients.\n",
        "          return loss\n",
        "\n",
        "    def test():\n",
        "          model.eval()\n",
        "          out = model(data.x, data.edge_index)\n",
        "          pred = out.argmax(dim=1)  # Use the class with highest probability.\n",
        "          test_correct = pred[data.test_mask] == data.y[data.test_mask]  # Check against ground-truth labels.\n",
        "          test_acc = int(test_correct.sum()) / int(data.test_mask.sum())  # Derive ratio of correct predictions.\n",
        "          return test_acc\n",
        "\n",
        "\n",
        "    for epoch in tqdm.tqdm(range(1, 101)):\n",
        "        loss = train()\n",
        "        wandb.log({\"gcn/loss\": loss})\n",
        "\n",
        "\n",
        "    model.eval()\n",
        "\n",
        "    out = model(data.x, data.edge_index)\n",
        "    test_acc = test()\n",
        "    wandb.summary[\"gcn/accuracy\"] = test_acc\n",
        "    wandb.log({\"gcn/accuracy\": test_acc})\n",
        "    embedding_to_wandb(out, color=data.y, key=\"gcn/embedding/trained\")\n",
        "    wandb.finish()"
      ]
    },
    {
      "cell_type": "code",
      "source": [],
      "metadata": {
        "id": "Lk2QOIeE8wHw"
      },
      "execution_count": null,
      "outputs": []
    },
    {
      "cell_type": "code",
      "execution_count": null,
      "metadata": {
        "id": "37-8OLvB2f-S"
      },
      "outputs": [],
      "source": [
        "sweep_config = {\n",
        "    \"name\": \"gcn-sweep\",\n",
        "    \"method\": \"bayes\",\n",
        "    \"metric\": {\n",
        "        \"name\": \"gcn/accuracy\",\n",
        "        \"goal\": \"maximize\",\n",
        "    },\n",
        "    \"parameters\": {\n",
        "        \"hidden_channels\": {\n",
        "            \"values\": [8, 16, 32]\n",
        "        },\n",
        "        \"weight_decay\": {\n",
        "            \"distribution\": \"normal\",\n",
        "            \"mu\": 5e-4,\n",
        "            \"sigma\": 1e-5,\n",
        "        },\n",
        "        \"lr\": {\n",
        "            \"min\": 1e-4,\n",
        "            \"max\": 1e-3\n",
        "        }\n",
        "    }\n",
        "}\n",
        "\n",
        "# Register the Sweep with W&B\n",
        "sweep_id = wandb.sweep(sweep_config, project=\"node-classification\")"
      ]
    },
    {
      "cell_type": "code",
      "source": [],
      "metadata": {
        "id": "EJiMBcmM81L1"
      },
      "execution_count": null,
      "outputs": []
    },
    {
      "cell_type": "code",
      "execution_count": null,
      "metadata": {
        "id": "8F102YKk2f-S"
      },
      "outputs": [],
      "source": [
        "# Run the Sweeps agent\n",
        "wandb.agent(sweep_id, project=\"node-classification\", function=agent_fn, count=50)"
      ]
    },
    {
      "cell_type": "markdown",
      "source": [
        "## Conclusion\n",
        "\n",
        "In this chapter, you have seen how to apply GNNs to real-world problems, and, in particular, how they can effectively be used for boosting a model's performance.\n",
        "In the next section, we will look into how GNNs can be used for the task of graph classification.\n",
        "\n",
        "[Next: Graph Classification with Graph Neural Networks](https://colab.research.google.com/drive/1I8a0DfQ3fI7Njc62__mVXUlcAleUclnb)"
      ],
      "metadata": {
        "id": "KQlI-est87Wj"
      }
    },
    {
      "cell_type": "markdown",
      "source": [
        "## (Optional) Exercises\n",
        "\n",
        "1. To achieve better model performance and to avoid overfitting, it is usually a good idea to select the best model based on an additional validation set.\n",
        "The `Cora` dataset provides a validation node set as `data.val_mask`, but we haven't used it yet.\n",
        "Can you modify the code to select and test the model with the highest validation performance?\n",
        "This should bring test performance to **82% accuracy**.\n",
        "\n",
        "2. How does `GCN` behave when increasing the hidden feature dimensionality or the number of layers?\n",
        "Does increasing the number of layers help at all?\n",
        "\n",
        "3. You can try to use different GNN layers to see how model performance changes. What happens if you swap out all `GCNConv` instances with [`GATConv`](https://pytorch-geometric.readthedocs.io/en/latest/modules/nn.html#torch_geometric.nn.conv.GATConv) layers that make use of attention? Try to write a 2-layer `GAT` model that makes use of 8 attention heads in the first layer and 1 attention head in the second layer, uses a `dropout` ratio of `0.6` inside and outside each `GATConv` call, and uses a `hidden_channels` dimensions of `8` per head."
      ],
      "metadata": {
        "id": "f7s6cIpz89j8"
      }
    },
    {
      "cell_type": "code",
      "source": [],
      "metadata": {
        "id": "KOyBO4M79OrK"
      },
      "execution_count": null,
      "outputs": []
    },
    {
      "cell_type": "code",
      "execution_count": null,
      "metadata": {
        "id": "L8H7tWXO2f-a"
      },
      "outputs": [],
      "source": [
        "from torch_geometric.nn import GATConv\n",
        "\n",
        "\n",
        "class GAT(torch.nn.Module):\n",
        "    def __init__(self, hidden_channels, heads):\n",
        "        super().__init__()\n",
        "        torch.manual_seed(1234567)\n",
        "        self.conv1 = GATConv(...)  # TODO\n",
        "        self.conv2 = GATConv(...)  # TODO\n",
        "\n",
        "    def forward(self, x, edge_index):\n",
        "        x = F.dropout(x, p=0.6, training=self.training)\n",
        "        x = self.conv1(x, edge_index)\n",
        "        x = F.elu(x)\n",
        "        x = F.dropout(x, p=0.6, training=self.training)\n",
        "        x = self.conv2(x, edge_index)\n",
        "        return x\n",
        "\n",
        "model = GAT(hidden_channels=8, heads=8)\n",
        "print(model)\n",
        "\n",
        "optimizer = torch.optim.Adam(model.parameters(), lr=0.005, weight_decay=5e-4)\n",
        "criterion = torch.nn.CrossEntropyLoss()\n",
        "\n",
        "def train():\n",
        "      model.train()\n",
        "      optimizer.zero_grad()  # Clear gradients.\n",
        "      out = model(data.x, data.edge_index)  # Perform a single forward pass.\n",
        "      loss = criterion(out[data.train_mask], data.y[data.train_mask])  # Compute the loss solely based on the training nodes.\n",
        "      loss.backward()  # Derive gradients.\n",
        "      optimizer.step()  # Update parameters based on gradients.\n",
        "      return loss\n",
        "\n",
        "def test(mask):\n",
        "      model.eval()\n",
        "      out = model(data.x, data.edge_index)\n",
        "      pred = out.argmax(dim=1)  # Use the class with highest probability.\n",
        "      correct = pred[mask] == data.y[mask]  # Check against ground-truth labels.\n",
        "      acc = int(correct.sum()) / int(mask.sum())  # Derive ratio of correct predictions.\n",
        "      return acc\n",
        "\n",
        "\n",
        "for epoch in range(1, 201):\n",
        "    loss = train()\n",
        "    val_acc = test(data.val_mask)\n",
        "    test_acc = test(data.test_mask)\n",
        "    print(f'Epoch: {epoch:03d}, Loss: {loss:.4f}, Val: {val_acc:.4f}, Test: {test_acc:.4f}')"
      ]
    },
    {
      "cell_type": "markdown",
      "source": [
        "## Introduction\n",
        "\n",
        "Learning useful representations from objects structured as graphs is useful for\n",
        "a variety of machine learning (ML) applications—such as social and communication networks analysis,\n",
        "biomedicine studies, and recommendation systems.\n",
        "[Graph representation Learning](https://www.cs.mcgill.ca/~wlh/grl_book/) aims to\n",
        "learn embeddings for the graph nodes, which can be used for a variety of ML tasks\n",
        "such as node label prediction (e.g. categorizing an article based on its citations)\n",
        "and link prediction (e.g. recommending an interest group to a user in a social network).\n",
        "\n",
        "[node2vec](https://arxiv.org/abs/1607.00653) is a simple, yet scalable and effective\n",
        "technique for learning low-dimensional embeddings for nodes in a graph by optimizing\n",
        "a neighborhood-preserving objective. The aim is to learn similar embeddings for\n",
        "neighboring nodes, with respect to the graph structure.\n",
        "\n",
        "Given your data items structured as a graph (where the items are represented as\n",
        "nodes and the relationship between items are represented as edges),\n",
        "node2vec works as follows:\n",
        "\n",
        "1. Generate item sequences using (biased) random walk.\n",
        "2. Create positive and negative training examples from these sequences.\n",
        "3. Train a [word2vec](https://www.tensorflow.org/tutorials/text/word2vec) model\n",
        "(skip-gram) to learn embeddings for the items.\n",
        "\n",
        "In this example, we demonstrate the node2vec technique on the\n",
        "[small version of the Movielens dataset](https://files.grouplens.org/datasets/movielens/ml-latest-small-README.html)\n",
        "to learn movie embeddings. Such a dataset can be represented as a graph by treating\n",
        "the movies as nodes, and creating edges between movies that have similar ratings\n",
        "by the users. The learnt movie embeddings can be used for tasks such as movie recommendation,\n",
        "or movie genres prediction.\n",
        "\n",
        "This example requires `networkx` package, which can be installed using the following command:\n",
        "\n",
        "```shell\n",
        "pip install networkx\n",
        "```"
      ],
      "metadata": {
        "id": "wdtp1QM2AR4d"
      }
    },
    {
      "cell_type": "code",
      "source": [],
      "metadata": {
        "id": "brmuFgHeAYzv"
      },
      "execution_count": null,
      "outputs": []
    },
    {
      "cell_type": "markdown",
      "source": [
        "setup"
      ],
      "metadata": {
        "id": "zUKiZUvOAbJM"
      }
    },
    {
      "cell_type": "code",
      "execution_count": null,
      "metadata": {
        "id": "kCJYYJw3aW09"
      },
      "outputs": [],
      "source": [
        "import os\n",
        "from collections import defaultdict\n",
        "import math\n",
        "import networkx as nx\n",
        "import random\n",
        "from tqdm import tqdm\n",
        "from zipfile import ZipFile\n",
        "from urllib.request import urlretrieve\n",
        "import numpy as np\n",
        "import pandas as pd\n",
        "import tensorflow as tf\n",
        "from tensorflow import keras\n",
        "from tensorflow.keras import layers\n",
        "import matplotlib.pyplot as plt"
      ]
    },
    {
      "cell_type": "code",
      "source": [],
      "metadata": {
        "id": "SYArBPw1Al4x"
      },
      "execution_count": null,
      "outputs": []
    },
    {
      "cell_type": "markdown",
      "source": [
        "## Download the MovieLens dataset and prepare the data\n",
        "\n",
        "The small version of the MovieLens dataset includes around 100k ratings\n",
        "from 610 users on 9,742 movies.\n",
        "\n",
        "First, let's download the dataset. The downloaded folder will contain\n",
        "three data files: `users.csv`, `movies.csv`, and `ratings.csv`. In this example,\n",
        "we will only need the `movies.dat`, and `ratings.dat` data files."
      ],
      "metadata": {
        "id": "k8wgCIrSAokh"
      }
    },
    {
      "cell_type": "code",
      "source": [],
      "metadata": {
        "id": "Awpl1LnAArlA"
      },
      "execution_count": null,
      "outputs": []
    },
    {
      "cell_type": "code",
      "execution_count": null,
      "metadata": {
        "id": "Dvi9iEJjaW0_"
      },
      "outputs": [],
      "source": [
        "# Load movies to a DataFrame.\n",
        "movies = pd.read_csv(\"ml-latest-small/movies.csv\")\n",
        "# Create a `movieId` string.\n",
        "movies[\"movieId\"] = movies[\"movieId\"].apply(lambda x: f\"movie_{x}\")\n",
        "\n",
        "# Load ratings to a DataFrame.\n",
        "ratings = pd.read_csv(\"ml-latest-small/ratings.csv\")\n",
        "# Convert the `ratings` to floating point\n",
        "ratings[\"rating\"] = ratings[\"rating\"].apply(lambda x: float(x))\n",
        "# Create the `movie_id` string.\n",
        "ratings[\"movieId\"] = ratings[\"movieId\"].apply(lambda x: f\"movie_{x}\")\n",
        "\n",
        "print(\"Movies data shape:\", movies.shape)\n",
        "print(\"Ratings data shape:\", ratings.shape)"
      ]
    },
    {
      "cell_type": "code",
      "source": [],
      "metadata": {
        "id": "GaquLaGvA4nZ"
      },
      "execution_count": null,
      "outputs": []
    },
    {
      "cell_type": "code",
      "execution_count": null,
      "metadata": {
        "id": "S0RhKeiZaW0_"
      },
      "outputs": [],
      "source": [
        "ratings.head()"
      ]
    },
    {
      "cell_type": "code",
      "source": [],
      "metadata": {
        "id": "iD8Hy9LeA5-8"
      },
      "execution_count": null,
      "outputs": []
    },
    {
      "cell_type": "code",
      "execution_count": null,
      "metadata": {
        "id": "X7BHRhg0aW1A"
      },
      "outputs": [],
      "source": [
        "movies.head()"
      ]
    },
    {
      "cell_type": "code",
      "source": [],
      "metadata": {
        "id": "Bm9Mv5T8BA5T"
      },
      "execution_count": null,
      "outputs": []
    },
    {
      "cell_type": "code",
      "execution_count": null,
      "metadata": {
        "id": "d9UERHI-aW1A"
      },
      "outputs": [],
      "source": [
        "\n",
        "def get_movie_title_by_id(movieId):\n",
        "    return list(movies[movies.movieId == movieId].title)[0]\n",
        "\n",
        "\n",
        "def get_movie_id_by_title(title):\n",
        "    return list(movies[movies.title == title].movieId)[0]\n"
      ]
    },
    {
      "cell_type": "code",
      "source": [],
      "metadata": {
        "id": "oa0XAXpwBChw"
      },
      "execution_count": null,
      "outputs": []
    },
    {
      "cell_type": "markdown",
      "source": [
        "## Construct the Movies graph\n",
        "\n",
        "We create an edge between two movie nodes in the graph if both movies are rated\n",
        "by the same user >= `min_rating`. The weight of the edge will be based on the\n",
        "[pointwise mutual information](https://en.wikipedia.org/wiki/Pointwise_mutual_information)\n",
        "between the two movies, which is computed as: `log(xy) - log(x) - log(y) + log(D)`, where:\n",
        "\n",
        "* `xy` is how many users rated both movie `x` and movie `y` with >= `min_rating`.\n",
        "* `x` is how many users rated movie `x` >= `min_rating`.\n",
        "* `y` is how many users rated movie `y` >= `min_rating`.\n",
        "* `D` total number of movie ratings >= `min_rating`."
      ],
      "metadata": {
        "id": "ecpVD0sXBC4f"
      }
    },
    {
      "cell_type": "code",
      "source": [],
      "metadata": {
        "id": "ZeU7dNHtBJrv"
      },
      "execution_count": null,
      "outputs": []
    },
    {
      "cell_type": "code",
      "execution_count": null,
      "metadata": {
        "id": "8aIqpTLDaW1B"
      },
      "outputs": [],
      "source": [
        "min_rating = 5\n",
        "pair_frequency = defaultdict(int)\n",
        "item_frequency = defaultdict(int)\n",
        "\n",
        "# Filter instances where rating is greater than or equal to min_rating.\n",
        "rated_movies = ratings[ratings.rating >= min_rating]\n",
        "# Group instances by user.\n",
        "movies_grouped_by_users = list(rated_movies.groupby(\"userId\"))\n",
        "for group in tqdm(\n",
        "    movies_grouped_by_users,\n",
        "    position=0,\n",
        "    leave=True,\n",
        "    desc=\"Compute movie rating frequencies\",\n",
        "):\n",
        "    # Get a list of movies rated by the user.\n",
        "    current_movies = list(group[1][\"movieId\"])\n",
        "\n",
        "    for i in range(len(current_movies)):\n",
        "        item_frequency[current_movies[i]] += 1\n",
        "        for j in range(i + 1, len(current_movies)):\n",
        "            x = min(current_movies[i], current_movies[j])\n",
        "            y = max(current_movies[i], current_movies[j])\n",
        "            pair_frequency[(x, y)] += 1"
      ]
    },
    {
      "cell_type": "markdown",
      "source": [
        "### Step 2: create the graph with the nodes and the edges\n",
        "\n",
        "To reduce the number of edges between nodes, we only add an edge between movies\n",
        "if the weight of the edge is greater than `min_weight`."
      ],
      "metadata": {
        "id": "R56Cp851BS1m"
      }
    },
    {
      "cell_type": "code",
      "source": [],
      "metadata": {
        "id": "ucR1nrR-BXxP"
      },
      "execution_count": null,
      "outputs": []
    },
    {
      "cell_type": "code",
      "execution_count": null,
      "metadata": {
        "id": "CLVcbY3GaW1C"
      },
      "outputs": [],
      "source": [
        "min_weight = 10\n",
        "D = math.log(sum(item_frequency.values()))\n",
        "\n",
        "# Create the movies undirected graph.\n",
        "movies_graph = nx.Graph()\n",
        "# Add weighted edges between movies.\n",
        "# This automatically adds the movie nodes to the graph.\n",
        "for pair in tqdm(\n",
        "    pair_frequency, position=0, leave=True, desc=\"Creating the movie graph\"\n",
        "):\n",
        "    x, y = pair\n",
        "    xy_frequency = pair_frequency[pair]\n",
        "    x_frequency = item_frequency[x]\n",
        "    y_frequency = item_frequency[y]\n",
        "    pmi = math.log(xy_frequency) - math.log(x_frequency) - math.log(y_frequency) + D\n",
        "    weight = pmi * xy_frequency\n",
        "    # Only include edges with weight >= min_weight.\n",
        "    if weight >= min_weight:\n",
        "        movies_graph.add_edge(x, y, weight=weight)"
      ]
    },
    {
      "cell_type": "markdown",
      "source": [
        "Let's display the total number of nodes and edges in the graph.\n",
        "Note that the number of nodes is less than the total number of movies,\n",
        "since only the movies that have edges to other movies are added."
      ],
      "metadata": {
        "id": "LDodRWWUBdeM"
      }
    },
    {
      "cell_type": "code",
      "source": [],
      "metadata": {
        "id": "i3Nqsl13BeXv"
      },
      "execution_count": null,
      "outputs": []
    },
    {
      "cell_type": "code",
      "execution_count": null,
      "metadata": {
        "id": "3kgKJ-v9aW1D"
      },
      "outputs": [],
      "source": [
        "print(\"Total number of graph nodes:\", movies_graph.number_of_nodes())\n",
        "print(\"Total number of graph edges:\", movies_graph.number_of_edges())"
      ]
    },
    {
      "cell_type": "code",
      "source": [],
      "metadata": {
        "id": "XqviPefJBm-Y"
      },
      "execution_count": null,
      "outputs": []
    },
    {
      "cell_type": "code",
      "execution_count": null,
      "metadata": {
        "id": "VcCnnI3XaW1D"
      },
      "outputs": [],
      "source": [
        "vocabulary = [\"NA\"] + list(movies_graph.nodes)\n",
        "vocabulary_lookup = {token: idx for idx, token in enumerate(vocabulary)}"
      ]
    },
    {
      "cell_type": "markdown",
      "source": [
        "## Implement the biased random walk\n",
        "\n",
        "A random walk starts from a given node, and randomly picks a neighbour node to move to.\n",
        "If the edges are weighted, the neighbour is selected *probabilistically* with\n",
        "respect to weights of the edges between the current node and its neighbours.\n",
        "This procedure is repeated for `num_steps` to generate a sequence of *related* nodes.\n",
        "\n",
        "The [*biased* random walk](https://en.wikipedia.org/wiki/Biased_random_walk_on_a_graph) balances between **breadth-first sampling**\n",
        "(where only local neighbours are visited) and **depth-first sampling**\n",
        "(where  distant neighbours are visited) by introducing the following two parameters:\n",
        "\n",
        "1. **Return parameter** (`p`): Controls the likelihood of immediately revisiting\n",
        "a node in the walk. Setting it to a high value encourages moderate exploration,\n",
        "while setting it to a low value would keep the walk local.\n",
        "2. **In-out parameter** (`q`): Allows the search to differentiate\n",
        "between *inward* and *outward* nodes. Setting it to a high value biases the\n",
        "random walk towards local nodes, while setting it to a low value biases the walk\n",
        "to visit nodes which are further away."
      ],
      "metadata": {
        "id": "A7cQljXfBt2x"
      }
    },
    {
      "cell_type": "code",
      "source": [],
      "metadata": {
        "id": "kPpuoUPDBvcC"
      },
      "execution_count": null,
      "outputs": []
    },
    {
      "cell_type": "code",
      "execution_count": null,
      "metadata": {
        "id": "CYkPHuL2aW1E"
      },
      "outputs": [],
      "source": [
        "\n",
        "def next_step(graph, previous, current, p, q):\n",
        "    neighbors = list(graph.neighbors(current))\n",
        "\n",
        "    weights = []\n",
        "    # Adjust the weights of the edges to the neighbors with respect to p and q.\n",
        "    for neighbor in neighbors:\n",
        "        if neighbor == previous:\n",
        "            # Control the probability to return to the previous node.\n",
        "            weights.append(graph[current][neighbor][\"weight\"] / p)\n",
        "        elif graph.has_edge(neighbor, previous):\n",
        "            # The probability of visiting a local node.\n",
        "            weights.append(graph[current][neighbor][\"weight\"])\n",
        "        else:\n",
        "            # Control the probability to move forward.\n",
        "            weights.append(graph[current][neighbor][\"weight\"] / q)\n",
        "\n",
        "    # Compute the probabilities of visiting each neighbor.\n",
        "    weight_sum = sum(weights)\n",
        "    probabilities = [weight / weight_sum for weight in weights]\n",
        "    # Probabilistically select a neighbor to visit.\n",
        "    next = np.random.choice(neighbors, size=1, p=probabilities)[0]\n",
        "    return next\n",
        "\n",
        "\n",
        "def random_walk(graph, num_walks, num_steps, p, q):\n",
        "    walks = []\n",
        "    nodes = list(graph.nodes())\n",
        "    # Perform multiple iterations of the random walk.\n",
        "    for walk_iteration in range(num_walks):\n",
        "        random.shuffle(nodes)\n",
        "\n",
        "        for node in tqdm(\n",
        "            nodes,\n",
        "            position=0,\n",
        "            leave=True,\n",
        "            desc=f\"Random walks iteration {walk_iteration + 1} of {num_walks}\",\n",
        "        ):\n",
        "            # Start the walk with a random node from the graph.\n",
        "            walk = [node]\n",
        "            # Randomly walk for num_steps.\n",
        "            while len(walk) < num_steps:\n",
        "                current = walk[-1]\n",
        "                previous = walk[-2] if len(walk) > 1 else None\n",
        "                # Compute the next node to visit.\n",
        "                next = next_step(graph, previous, current, p, q)\n",
        "                walk.append(next)\n",
        "            # Replace node ids (movie ids) in the walk with token ids.\n",
        "            walk = [vocabulary_lookup[token] for token in walk]\n",
        "            # Add the walk to the generated sequence.\n",
        "            walks.append(walk)\n",
        "\n",
        "    return walks\n"
      ]
    },
    {
      "cell_type": "markdown",
      "source": [
        "## Generate training data using the biased random walk\n",
        "\n",
        "You can explore different configurations of `p` and `q` to different results of\n",
        "related movies."
      ],
      "metadata": {
        "id": "i3K36MBwCAmK"
      }
    },
    {
      "cell_type": "code",
      "source": [],
      "metadata": {
        "id": "B04S9_JfCOVV"
      },
      "execution_count": null,
      "outputs": []
    },
    {
      "cell_type": "code",
      "execution_count": null,
      "metadata": {
        "id": "xfBYbTLyaW1F"
      },
      "outputs": [],
      "source": [
        "# Random walk return parameter.\n",
        "p = 1\n",
        "# Random walk in-out parameter.\n",
        "q = 1\n",
        "# Number of iterations of random walks.\n",
        "num_walks = 5\n",
        "# Number of steps of each random walk.\n",
        "num_steps = 10\n",
        "walks = random_walk(movies_graph, num_walks, num_steps, p, q)\n",
        "\n",
        "print(\"Number of walks generated:\", len(walks))"
      ]
    },
    {
      "cell_type": "code",
      "source": [],
      "metadata": {
        "id": "k5GI8ySrCUc1"
      },
      "execution_count": null,
      "outputs": []
    },
    {
      "cell_type": "markdown",
      "source": [
        "## Generate positive and negative examples\n",
        "\n",
        "To train a skip-gram model, we use the generated walks to create positive and\n",
        "negative training examples. Each example includes the following features:\n",
        "\n",
        "1. `target`: A movie in a walk sequence.\n",
        "2. `context`: Another movie in a walk sequence.\n",
        "3. `weight`: How many times these two movies occurred in walk sequences.\n",
        "4. `label`: The label is 1 if these two movies are samples from the walk sequences,\n",
        "otherwise (i.e., if randomly sampled) the label is 0."
      ],
      "metadata": {
        "id": "tIVnNB6rCW67"
      }
    },
    {
      "cell_type": "code",
      "source": [],
      "metadata": {
        "id": "vbz5c-SvCYoz"
      },
      "execution_count": null,
      "outputs": []
    },
    {
      "cell_type": "code",
      "execution_count": null,
      "metadata": {
        "id": "XTQT-9GyaW1F"
      },
      "outputs": [],
      "source": [
        "\n",
        "def generate_examples(sequences, window_size, num_negative_samples, vocabulary_size):\n",
        "    example_weights = defaultdict(int)\n",
        "    # Iterate over all sequences (walks).\n",
        "    for sequence in tqdm(\n",
        "        sequences,\n",
        "        position=0,\n",
        "        leave=True,\n",
        "        desc=f\"Generating positive and negative examples\",\n",
        "    ):\n",
        "        # Generate positive and negative skip-gram pairs for a sequence (walk).\n",
        "        pairs, labels = keras.preprocessing.sequence.skipgrams(\n",
        "            sequence,\n",
        "            vocabulary_size=vocabulary_size,\n",
        "            window_size=window_size,\n",
        "            negative_samples=num_negative_samples,\n",
        "        )\n",
        "        for idx in range(len(pairs)):\n",
        "            pair = pairs[idx]\n",
        "            label = labels[idx]\n",
        "            target, context = min(pair[0], pair[1]), max(pair[0], pair[1])\n",
        "            if target == context:\n",
        "                continue\n",
        "            entry = (target, context, label)\n",
        "            example_weights[entry] += 1\n",
        "\n",
        "    targets, contexts, labels, weights = [], [], [], []\n",
        "    for entry in example_weights:\n",
        "        weight = example_weights[entry]\n",
        "        target, context, label = entry\n",
        "        targets.append(target)\n",
        "        contexts.append(context)\n",
        "        labels.append(label)\n",
        "        weights.append(weight)\n",
        "\n",
        "    return np.array(targets), np.array(contexts), np.array(labels), np.array(weights)\n",
        "\n",
        "\n",
        "num_negative_samples = 4\n",
        "targets, contexts, labels, weights = generate_examples(\n",
        "    sequences=walks,\n",
        "    window_size=num_steps,\n",
        "    num_negative_samples=num_negative_samples,\n",
        "    vocabulary_size=len(vocabulary),\n",
        ")"
      ]
    },
    {
      "cell_type": "code",
      "source": [],
      "metadata": {
        "id": "3q261S1zCheb"
      },
      "execution_count": null,
      "outputs": []
    },
    {
      "cell_type": "code",
      "execution_count": null,
      "metadata": {
        "id": "6FXeXJIvaW1G"
      },
      "outputs": [],
      "source": [
        "print(f\"Targets shape: {targets.shape}\")\n",
        "print(f\"Contexts shape: {contexts.shape}\")\n",
        "print(f\"Labels shape: {labels.shape}\")\n",
        "print(f\"Weights shape: {weights.shape}\")"
      ]
    },
    {
      "cell_type": "code",
      "source": [],
      "metadata": {
        "id": "0H9yMmLWCqFu"
      },
      "execution_count": null,
      "outputs": []
    },
    {
      "cell_type": "code",
      "execution_count": null,
      "metadata": {
        "id": "9SDiTdvDaW1H"
      },
      "outputs": [],
      "source": [
        "batch_size = 1024\n",
        "\n",
        "\n",
        "def create_dataset(targets, contexts, labels, weights, batch_size):\n",
        "    inputs = {\n",
        "        \"target\": targets,\n",
        "        \"context\": contexts,\n",
        "    }\n",
        "    dataset = tf.data.Dataset.from_tensor_slices((inputs, labels, weights))\n",
        "    dataset = dataset.shuffle(buffer_size=batch_size * 2)\n",
        "    dataset = dataset.batch(batch_size, drop_remainder=True)\n",
        "    dataset = dataset.prefetch(tf.data.AUTOTUNE)\n",
        "    return dataset\n",
        "\n",
        "\n",
        "dataset = create_dataset(\n",
        "    targets=targets,\n",
        "    contexts=contexts,\n",
        "    labels=labels,\n",
        "    weights=weights,\n",
        "    batch_size=batch_size,\n",
        ")"
      ]
    },
    {
      "cell_type": "code",
      "source": [],
      "metadata": {
        "id": "khm4vWp0CztO"
      },
      "execution_count": null,
      "outputs": []
    },
    {
      "cell_type": "markdown",
      "source": [
        "## Train the skip-gram model\n",
        "\n",
        "Our skip-gram is a simple binary classification model that works as follows:\n",
        "\n",
        "1. An embedding is looked up for the `target` movie.\n",
        "2. An embedding is looked up for the `context` movie.\n",
        "3. The dot product is computed between these two embeddings.\n",
        "4. The result (after a sigmoid activation) is compared to the label.\n",
        "5. A binary crossentropy loss is used."
      ],
      "metadata": {
        "id": "vGL5EVUdC0Hk"
      }
    },
    {
      "cell_type": "code",
      "source": [],
      "metadata": {
        "id": "S63-cxiSC2Yh"
      },
      "execution_count": null,
      "outputs": []
    },
    {
      "cell_type": "code",
      "execution_count": null,
      "metadata": {
        "id": "vpC6kL6naW1H"
      },
      "outputs": [],
      "source": [
        "learning_rate = 0.001\n",
        "embedding_dim = 50\n",
        "num_epochs = 10"
      ]
    },
    {
      "cell_type": "code",
      "source": [],
      "metadata": {
        "id": "HEQV1FjNDIf0"
      },
      "execution_count": null,
      "outputs": []
    },
    {
      "cell_type": "code",
      "execution_count": null,
      "metadata": {
        "id": "MZ1LwamZaW1I"
      },
      "outputs": [],
      "source": [
        "\n",
        "def create_model(vocabulary_size, embedding_dim):\n",
        "\n",
        "    inputs = {\n",
        "        \"target\": layers.Input(name=\"target\", shape=(), dtype=\"int32\"),\n",
        "        \"context\": layers.Input(name=\"context\", shape=(), dtype=\"int32\"),\n",
        "    }\n",
        "    # Initialize item embeddings.\n",
        "    embed_item = layers.Embedding(\n",
        "        input_dim=vocabulary_size,\n",
        "        output_dim=embedding_dim,\n",
        "        embeddings_initializer=\"he_normal\",\n",
        "        embeddings_regularizer=keras.regularizers.l2(1e-6),\n",
        "        name=\"item_embeddings\",\n",
        "    )\n",
        "    # Lookup embeddings for target.\n",
        "    target_embeddings = embed_item(inputs[\"target\"])\n",
        "    # Lookup embeddings for context.\n",
        "    context_embeddings = embed_item(inputs[\"context\"])\n",
        "    # Compute dot similarity between target and context embeddings.\n",
        "    logits = layers.Dot(axes=1, normalize=False, name=\"dot_similarity\")(\n",
        "        [target_embeddings, context_embeddings]\n",
        "    )\n",
        "    # Create the model.\n",
        "    model = keras.Model(inputs=inputs, outputs=logits)\n",
        "    return model\n"
      ]
    },
    {
      "cell_type": "code",
      "source": [],
      "metadata": {
        "id": "KIvnPhQHDO1W"
      },
      "execution_count": null,
      "outputs": []
    },
    {
      "cell_type": "code",
      "execution_count": null,
      "metadata": {
        "id": "6veR_wpOaW1J"
      },
      "outputs": [],
      "source": [
        "model = create_model(len(vocabulary), embedding_dim)\n",
        "model.compile(\n",
        "    optimizer=keras.optimizers.Adam(learning_rate),\n",
        "    loss=keras.losses.BinaryCrossentropy(from_logits=True),\n",
        ")"
      ]
    },
    {
      "cell_type": "code",
      "source": [],
      "metadata": {
        "id": "DogbaFyhDTU-"
      },
      "execution_count": null,
      "outputs": []
    },
    {
      "cell_type": "code",
      "execution_count": null,
      "metadata": {
        "id": "5A7YI7RBaW1J"
      },
      "outputs": [],
      "source": [
        "keras.utils.plot_model(\n",
        "    model,\n",
        "    show_shapes=True,\n",
        "    show_dtype=True,\n",
        "    show_layer_names=True,\n",
        ")"
      ]
    },
    {
      "cell_type": "code",
      "source": [],
      "metadata": {
        "id": "bUPcROLoDa5T"
      },
      "execution_count": null,
      "outputs": []
    },
    {
      "cell_type": "code",
      "execution_count": null,
      "metadata": {
        "id": "0QXUlVuyaW1J"
      },
      "outputs": [],
      "source": [
        "history = model.fit(dataset, epochs=num_epochs)"
      ]
    },
    {
      "cell_type": "code",
      "source": [],
      "metadata": {
        "id": "CV4yYXtADfE4"
      },
      "execution_count": null,
      "outputs": []
    },
    {
      "cell_type": "code",
      "execution_count": null,
      "metadata": {
        "id": "DDpDpzygaW1K"
      },
      "outputs": [],
      "source": [
        "plt.plot(history.history[\"loss\"])\n",
        "plt.ylabel(\"loss\")\n",
        "plt.xlabel(\"epoch\")\n",
        "plt.show()"
      ]
    },
    {
      "cell_type": "markdown",
      "source": [
        "## Analyze the learnt embeddings."
      ],
      "metadata": {
        "id": "fAY7pyxxDlVa"
      }
    },
    {
      "cell_type": "code",
      "source": [],
      "metadata": {
        "id": "i8by1xTzDmgk"
      },
      "execution_count": null,
      "outputs": []
    },
    {
      "cell_type": "code",
      "source": [],
      "metadata": {
        "id": "oRJ4WTwnDpOL"
      },
      "execution_count": null,
      "outputs": []
    },
    {
      "cell_type": "code",
      "execution_count": null,
      "metadata": {
        "id": "VPyfLsDGaW1K"
      },
      "outputs": [],
      "source": [
        "movie_embeddings = model.get_layer(\"item_embeddings\").get_weights()[0]\n",
        "print(\"Embeddings shape:\", movie_embeddings.shape)"
      ]
    },
    {
      "cell_type": "code",
      "source": [],
      "metadata": {
        "id": "Ji9fNaCaDufU"
      },
      "execution_count": null,
      "outputs": []
    },
    {
      "cell_type": "code",
      "execution_count": null,
      "metadata": {
        "id": "SAtw9fU9aW1L"
      },
      "outputs": [],
      "source": [
        "query_movies = [\n",
        "    \"Matrix, The (1999)\",\n",
        "    \"Star Wars: Episode IV - A New Hope (1977)\",\n",
        "    \"Lion King, The (1994)\",\n",
        "    \"Terminator 2: Judgment Day (1991)\",\n",
        "    \"Godfather, The (1972)\",\n",
        "]"
      ]
    },
    {
      "cell_type": "code",
      "source": [],
      "metadata": {
        "id": "SmGbeKCLD5GT"
      },
      "execution_count": null,
      "outputs": []
    },
    {
      "cell_type": "markdown",
      "source": [
        "Compute the [consine similarity](https://en.wikipedia.org/wiki/Cosine_similarity) between the embeddings of `query_movies`\n",
        "and all the other movies, then pick the top k for each."
      ],
      "metadata": {
        "id": "OzRDuRLEEDRb"
      }
    },
    {
      "cell_type": "code",
      "source": [
        "similarities = tf.linalg.matmul(\n",
        "    tf.math.l2_normalize(query_embeddings),\n",
        "    tf.math.l2_normalize(movie_embeddings),\n",
        "    transpose_b=True,\n",
        ")\n",
        "\n",
        "_, indices = tf.math.top_k(similarities, k=5)\n",
        "indices = indices.numpy().tolist()"
      ],
      "metadata": {
        "id": "1q3QYXfgEAlu"
      },
      "execution_count": null,
      "outputs": []
    },
    {
      "cell_type": "code",
      "source": [],
      "metadata": {
        "id": "Wv4pzOEOEKw5"
      },
      "execution_count": null,
      "outputs": []
    },
    {
      "cell_type": "code",
      "execution_count": null,
      "metadata": {
        "id": "tnzCA7v3aW1N"
      },
      "outputs": [],
      "source": [
        "for idx, title in enumerate(query_movies):\n",
        "    print(title)\n",
        "    print(\"\".rjust(len(title), \"-\"))\n",
        "    similar_tokens = indices[idx]\n",
        "    for token in similar_tokens:\n",
        "        similar_movieId = vocabulary[token]\n",
        "        similar_title = get_movie_title_by_id(similar_movieId)\n",
        "        print(f\"- {similar_title}\")\n",
        "    print()"
      ]
    },
    {
      "cell_type": "code",
      "source": [],
      "metadata": {
        "id": "gP7R-Ln4EO0m"
      },
      "execution_count": null,
      "outputs": []
    },
    {
      "cell_type": "code",
      "execution_count": null,
      "metadata": {
        "id": "ZYkf493SaW1N"
      },
      "outputs": [],
      "source": [
        "import io\n",
        "\n",
        "out_v = io.open(\"embeddings.tsv\", \"w\", encoding=\"utf-8\")\n",
        "out_m = io.open(\"metadata.tsv\", \"w\", encoding=\"utf-8\")\n",
        "\n",
        "for idx, movie_id in enumerate(vocabulary[1:]):\n",
        "    movie_title = list(movies[movies.movieId == movie_id].title)[0]\n",
        "    vector = movie_embeddings[idx]\n",
        "    out_v.write(\"\\t\".join([str(x) for x in vector]) + \"\\n\")\n",
        "    out_m.write(movie_title + \"\\n\")\n",
        "\n",
        "out_v.close()\n",
        "out_m.close()"
      ]
    },
    {
      "cell_type": "markdown",
      "source": [
        "Download the `embeddings.tsv` and `metadata.tsv` to analyze the obtained embeddings\n",
        "in the [Embedding Projector](https://projector.tensorflow.org/)."
      ],
      "metadata": {
        "id": "HlRHWvSXEaOB"
      }
    },
    {
      "cell_type": "markdown",
      "source": [
        "Graph attention network (GAT) for node classification\n",
        "Author: akensert\n",
        "Date created: 2021/09/13\n",
        "Last modified: 2021/12/26\n",
        "Description: An implementation of a Graph Attention Network (GAT) for node classification.\n",
        "\n",
        "Introduction\n",
        "Graph neural networks is the preferred neural network architecture for processing data structured as graphs (for example, social networks or molecule structures), yielding better results than fully-connected networks or convolutional networks.\n",
        "\n",
        "In this tutorial, we will implement a specific graph neural network known as a Graph Attention Network (GAT) to predict labels of scientific papers based on what type of papers cite them (using the Cora dataset)."
      ],
      "metadata": {
        "id": "Bseo9vyFHe4V"
      }
    },
    {
      "cell_type": "code",
      "source": [
        "import tensorflow as tf\n",
        "from tensorflow import keras\n",
        "from tensorflow.keras import layers\n",
        "import numpy as np\n",
        "import pandas as pd\n",
        "import os\n",
        "import warnings\n",
        "\n",
        "warnings.filterwarnings(\"ignore\")\n",
        "pd.set_option(\"display.max_columns\", 6)\n",
        "pd.set_option(\"display.max_rows\", 6)\n",
        "np.random.seed(2)"
      ],
      "metadata": {
        "id": "A5GAVOe_Htzr"
      },
      "execution_count": 1,
      "outputs": []
    },
    {
      "cell_type": "code",
      "source": [
        "zip_file = keras.utils.get_file(\n",
        "    fname=\"cora.tgz\",\n",
        "    origin=\"https://linqs-data.soe.ucsc.edu/public/lbc/cora.tgz\",\n",
        "    extract=True,\n",
        ")\n",
        "\n",
        "data_dir = os.path.join(os.path.dirname(zip_file), \"cora\")\n",
        "\n",
        "citations = pd.read_csv(\n",
        "    os.path.join(data_dir, \"cora.cites\"),\n",
        "    sep=\"\\t\",\n",
        "    header=None,\n",
        "    names=[\"target\", \"source\"],\n",
        ")\n",
        "\n",
        "papers = pd.read_csv(\n",
        "    os.path.join(data_dir, \"cora.content\"),\n",
        "    sep=\"\\t\",\n",
        "    header=None,\n",
        "    names=[\"paper_id\"] + [f\"term_{idx}\" for idx in range(1433)] + [\"subject\"],\n",
        ")\n",
        "\n",
        "class_values = sorted(papers[\"subject\"].unique())\n",
        "class_idx = {name: id for id, name in enumerate(class_values)}\n",
        "paper_idx = {name: idx for idx, name in enumerate(sorted(papers[\"paper_id\"].unique()))}\n",
        "\n",
        "papers[\"paper_id\"] = papers[\"paper_id\"].apply(lambda name: paper_idx[name])\n",
        "citations[\"source\"] = citations[\"source\"].apply(lambda name: paper_idx[name])\n",
        "citations[\"target\"] = citations[\"target\"].apply(lambda name: paper_idx[name])\n",
        "papers[\"subject\"] = papers[\"subject\"].apply(lambda value: class_idx[value])\n",
        "\n",
        "print(citations)\n",
        "\n",
        "print(papers)"
      ],
      "metadata": {
        "colab": {
          "base_uri": "https://localhost:8080/"
        },
        "id": "0JRJL_gFHzJG",
        "outputId": "8b20c327-7c1f-4386-d67c-dd254424e744"
      },
      "execution_count": 2,
      "outputs": [
        {
          "output_type": "stream",
          "name": "stdout",
          "text": [
            "Downloading data from https://linqs-data.soe.ucsc.edu/public/lbc/cora.tgz\n",
            "168052/168052 [==============================] - 0s 2us/step\n",
            "      target  source\n",
            "0          0      21\n",
            "1          0     905\n",
            "2          0     906\n",
            "...      ...     ...\n",
            "5426    1874    2586\n",
            "5427    1876    1874\n",
            "5428    1897    2707\n",
            "\n",
            "[5429 rows x 2 columns]\n",
            "      paper_id  term_0  term_1  ...  term_1431  term_1432  subject\n",
            "0          462       0       0  ...          0          0        2\n",
            "1         1911       0       0  ...          0          0        5\n",
            "2         2002       0       0  ...          0          0        4\n",
            "...        ...     ...     ...  ...        ...        ...      ...\n",
            "2705      2372       0       0  ...          0          0        1\n",
            "2706       955       0       0  ...          0          0        0\n",
            "2707       376       0       0  ...          0          0        2\n",
            "\n",
            "[2708 rows x 1435 columns]\n"
          ]
        }
      ]
    },
    {
      "cell_type": "code",
      "source": [
        "# Obtain random indices\n",
        "random_indices = np.random.permutation(range(papers.shape[0]))\n",
        "\n",
        "# 50/50 split\n",
        "train_data = papers.iloc[random_indices[: len(random_indices) // 2]]\n",
        "test_data = papers.iloc[random_indices[len(random_indices) // 2 :]]"
      ],
      "metadata": {
        "id": "t54PCRg9JNdU"
      },
      "execution_count": 3,
      "outputs": []
    },
    {
      "cell_type": "code",
      "source": [
        "# Obtain paper indices which will be used to gather node states\n",
        "# from the graph later on when training the model\n",
        "train_indices = train_data[\"paper_id\"].to_numpy()\n",
        "test_indices = test_data[\"paper_id\"].to_numpy()\n",
        "\n",
        "# Obtain ground truth labels corresponding to each paper_id\n",
        "train_labels = train_data[\"subject\"].to_numpy()\n",
        "test_labels = test_data[\"subject\"].to_numpy()\n",
        "\n",
        "# Define graph, namely an edge tensor and a node feature tensor\n",
        "edges = tf.convert_to_tensor(citations[[\"target\", \"source\"]])\n",
        "node_states = tf.convert_to_tensor(papers.sort_values(\"paper_id\").iloc[:, 1:-1])\n",
        "\n",
        "# Print shapes of the graph\n",
        "print(\"Edges shape:\\t\\t\", edges.shape)\n",
        "print(\"Node features shape:\", node_states.shape)"
      ],
      "metadata": {
        "colab": {
          "base_uri": "https://localhost:8080/"
        },
        "id": "ZwAtZfnzJSdF",
        "outputId": "cb53cd2b-f68b-406b-9ad5-0ea2d2fd8d60"
      },
      "execution_count": 4,
      "outputs": [
        {
          "output_type": "stream",
          "name": "stdout",
          "text": [
            "Edges shape:\t\t (5429, 2)\n",
            "Node features shape: (2708, 1433)\n"
          ]
        }
      ]
    },
    {
      "cell_type": "markdown",
      "source": [
        "Build the model\n",
        "GAT takes as input a graph (namely an edge tensor and a node feature tensor) and outputs [updated] node states. The node states are, for each target node, neighborhood aggregated information of N-hops (where N is decided by the number of layers of the GAT). Importantly, in contrast to the graph convolutional network (GCN) the GAT makes use of attention mechanisms to aggregate information from neighboring nodes (or source nodes). In other words, instead of simply averaging/summing node states from source nodes (source papers) to the target node (target papers), GAT first applies normalized attention scores to each source node state and then sums.\n",
        "\n",
        "(Multi-head) graph attention layer\n",
        "The GAT model implements multi-head graph attention layers. The MultiHeadGraphAttention layer is simply a concatenation (or averaging) of multiple graph attention layers (GraphAttention), each with separate learnable weights W. The GraphAttention"
      ],
      "metadata": {
        "id": "M9ZO1cSdJcYP"
      }
    },
    {
      "cell_type": "code",
      "source": [
        "class GraphAttention(layers.Layer):\n",
        "    def __init__(\n",
        "        self,\n",
        "        units,\n",
        "        kernel_initializer=\"glorot_uniform\",\n",
        "        kernel_regularizer=None,\n",
        "        **kwargs,\n",
        "    ):\n",
        "        super().__init__(**kwargs)\n",
        "        self.units = units\n",
        "        self.kernel_initializer = keras.initializers.get(kernel_initializer)\n",
        "        self.kernel_regularizer = keras.regularizers.get(kernel_regularizer)\n",
        "\n",
        "    def build(self, input_shape):\n",
        "\n",
        "        self.kernel = self.add_weight(\n",
        "            shape=(input_shape[0][-1], self.units),\n",
        "            trainable=True,\n",
        "            initializer=self.kernel_initializer,\n",
        "            regularizer=self.kernel_regularizer,\n",
        "            name=\"kernel\",\n",
        "        )\n",
        "        self.kernel_attention = self.add_weight(\n",
        "            shape=(self.units * 2, 1),\n",
        "            trainable=True,\n",
        "            initializer=self.kernel_initializer,\n",
        "            regularizer=self.kernel_regularizer,\n",
        "            name=\"kernel_attention\",\n",
        "        )\n",
        "        self.built = True\n",
        "\n",
        "    def call(self, inputs):\n",
        "        node_states, edges = inputs\n",
        "\n",
        "        # Linearly transform node states\n",
        "        node_states_transformed = tf.matmul(node_states, self.kernel)\n",
        "\n",
        "        # (1) Compute pair-wise attention scores\n",
        "        node_states_expanded = tf.gather(node_states_transformed, edges)\n",
        "        node_states_expanded = tf.reshape(\n",
        "            node_states_expanded, (tf.shape(edges)[0], -1)\n",
        "        )\n",
        "        attention_scores = tf.nn.leaky_relu(\n",
        "            tf.matmul(node_states_expanded, self.kernel_attention)\n",
        "        )\n",
        "        attention_scores = tf.squeeze(attention_scores, -1)\n",
        "\n",
        "        # (2) Normalize attention scores\n",
        "        attention_scores = tf.math.exp(tf.clip_by_value(attention_scores, -2, 2))\n",
        "        attention_scores_sum = tf.math.unsorted_segment_sum(\n",
        "            data=attention_scores,\n",
        "            segment_ids=edges[:, 0],\n",
        "            num_segments=tf.reduce_max(edges[:, 0]) + 1,\n",
        "        )\n",
        "        attention_scores_sum = tf.repeat(\n",
        "            attention_scores_sum, tf.math.bincount(tf.cast(edges[:, 0], \"int32\"))\n",
        "        )\n",
        "        attention_scores_norm = attention_scores / attention_scores_sum\n",
        "\n",
        "        # (3) Gather node states of neighbors, apply attention scores and aggregate\n",
        "        node_states_neighbors = tf.gather(node_states_transformed, edges[:, 1])\n",
        "        out = tf.math.unsorted_segment_sum(\n",
        "            data=node_states_neighbors * attention_scores_norm[:, tf.newaxis],\n",
        "            segment_ids=edges[:, 0],\n",
        "            num_segments=tf.shape(node_states)[0],\n",
        "        )\n",
        "        return out\n",
        "\n",
        "\n",
        "class MultiHeadGraphAttention(layers.Layer):\n",
        "    def __init__(self, units, num_heads=8, merge_type=\"concat\", **kwargs):\n",
        "        super().__init__(**kwargs)\n",
        "        self.num_heads = num_heads\n",
        "        self.merge_type = merge_type\n",
        "        self.attention_layers = [GraphAttention(units) for _ in range(num_heads)]\n",
        "\n",
        "    def call(self, inputs):\n",
        "        atom_features, pair_indices = inputs\n",
        "\n",
        "        # Obtain outputs from each attention head\n",
        "        outputs = [\n",
        "            attention_layer([atom_features, pair_indices])\n",
        "            for attention_layer in self.attention_layers\n",
        "        ]\n",
        "        # Concatenate or average the node states from each head\n",
        "        if self.merge_type == \"concat\":\n",
        "            outputs = tf.concat(outputs, axis=-1)\n",
        "        else:\n",
        "            outputs = tf.reduce_mean(tf.stack(outputs, axis=-1), axis=-1)\n",
        "        # Activate and return node states\n",
        "        return tf.nn.relu(outputs)"
      ],
      "metadata": {
        "id": "dDC0Au7DJeZO"
      },
      "execution_count": 5,
      "outputs": []
    },
    {
      "cell_type": "markdown",
      "source": [
        "Implement training logic with custom train_step, test_step, and predict_step methods\n",
        "Notice, the GAT model operates on the entire graph (namely, node_states and edges) in all phases (training, validation and testing). Hence, node_states and edges are passed to the constructor of the keras.Model and used as attributes. The difference between the phases are the indices (and labels), which gathers certain outputs (tf.gather(outputs, indices))."
      ],
      "metadata": {
        "id": "Cga2oZzSJrT6"
      }
    },
    {
      "cell_type": "code",
      "source": [
        "class GraphAttentionNetwork(keras.Model):\n",
        "    def __init__(\n",
        "        self,\n",
        "        node_states,\n",
        "        edges,\n",
        "        hidden_units,\n",
        "        num_heads,\n",
        "        num_layers,\n",
        "        output_dim,\n",
        "        **kwargs,\n",
        "    ):\n",
        "        super().__init__(**kwargs)\n",
        "        self.node_states = node_states\n",
        "        self.edges = edges\n",
        "        self.preprocess = layers.Dense(hidden_units * num_heads, activation=\"relu\")\n",
        "        self.attention_layers = [\n",
        "            MultiHeadGraphAttention(hidden_units, num_heads) for _ in range(num_layers)\n",
        "        ]\n",
        "        self.output_layer = layers.Dense(output_dim)\n",
        "\n",
        "    def call(self, inputs):\n",
        "        node_states, edges = inputs\n",
        "        x = self.preprocess(node_states)\n",
        "        for attention_layer in self.attention_layers:\n",
        "            x = attention_layer([x, edges]) + x\n",
        "        outputs = self.output_layer(x)\n",
        "        return outputs\n",
        "\n",
        "    def train_step(self, data):\n",
        "        indices, labels = data\n",
        "\n",
        "        with tf.GradientTape() as tape:\n",
        "            # Forward pass\n",
        "            outputs = self([self.node_states, self.edges])\n",
        "            # Compute loss\n",
        "            loss = self.compiled_loss(labels, tf.gather(outputs, indices))\n",
        "        # Compute gradients\n",
        "        grads = tape.gradient(loss, self.trainable_weights)\n",
        "        # Apply gradients (update weights)\n",
        "        optimizer.apply_gradients(zip(grads, self.trainable_weights))\n",
        "        # Update metric(s)\n",
        "        self.compiled_metrics.update_state(labels, tf.gather(outputs, indices))\n",
        "\n",
        "        return {m.name: m.result() for m in self.metrics}\n",
        "\n",
        "    def predict_step(self, data):\n",
        "        indices = data\n",
        "        # Forward pass\n",
        "        outputs = self([self.node_states, self.edges])\n",
        "        # Compute probabilities\n",
        "        return tf.nn.softmax(tf.gather(outputs, indices))\n",
        "\n",
        "    def test_step(self, data):\n",
        "        indices, labels = data\n",
        "        # Forward pass\n",
        "        outputs = self([self.node_states, self.edges])\n",
        "        # Compute loss\n",
        "        loss = self.compiled_loss(labels, tf.gather(outputs, indices))\n",
        "        # Update metric(s)\n",
        "        self.compiled_metrics.update_state(labels, tf.gather(outputs, indices))\n",
        "\n",
        "        return {m.name: m.result() for m in self.metrics}"
      ],
      "metadata": {
        "id": "OdjiZMg4JwHq"
      },
      "execution_count": 6,
      "outputs": []
    },
    {
      "cell_type": "code",
      "source": [
        "# Define hyper-parameters\n",
        "HIDDEN_UNITS = 100\n",
        "NUM_HEADS = 8\n",
        "NUM_LAYERS = 3\n",
        "OUTPUT_DIM = len(class_values)\n",
        "\n",
        "NUM_EPOCHS = 100\n",
        "BATCH_SIZE = 256\n",
        "VALIDATION_SPLIT = 0.1\n",
        "LEARNING_RATE = 3e-1\n",
        "MOMENTUM = 0.9\n",
        "\n",
        "loss_fn = keras.losses.SparseCategoricalCrossentropy(from_logits=True)\n",
        "optimizer = keras.optimizers.SGD(LEARNING_RATE, momentum=MOMENTUM)\n",
        "accuracy_fn = keras.metrics.SparseCategoricalAccuracy(name=\"acc\")\n",
        "early_stopping = keras.callbacks.EarlyStopping(\n",
        "    monitor=\"val_acc\", min_delta=1e-5, patience=5, restore_best_weights=True\n",
        ")\n",
        "\n",
        "# Build model\n",
        "gat_model = GraphAttentionNetwork(\n",
        "    node_states, edges, HIDDEN_UNITS, NUM_HEADS, NUM_LAYERS, OUTPUT_DIM\n",
        ")\n",
        "\n",
        "# Compile model\n",
        "gat_model.compile(loss=loss_fn, optimizer=optimizer, metrics=[accuracy_fn])\n",
        "\n",
        "gat_model.fit(\n",
        "    x=train_indices,\n",
        "    y=train_labels,\n",
        "    validation_split=VALIDATION_SPLIT,\n",
        "    batch_size=BATCH_SIZE,\n",
        "    epochs=NUM_EPOCHS,\n",
        "    callbacks=[early_stopping],\n",
        "    verbose=2,\n",
        ")\n",
        "\n",
        "_, test_accuracy = gat_model.evaluate(x=test_indices, y=test_labels, verbose=0)\n",
        "\n",
        "print(\"--\" * 38 + f\"\\nTest Accuracy {test_accuracy*100:.1f}%\")"
      ],
      "metadata": {
        "colab": {
          "base_uri": "https://localhost:8080/"
        },
        "id": "MZpdrzI2JsB2",
        "outputId": "3b516254-9196-4708-82c7-3e02f079cc73"
      },
      "execution_count": 7,
      "outputs": [
        {
          "output_type": "stream",
          "name": "stdout",
          "text": [
            "Epoch 1/100\n",
            "5/5 - 22s - loss: 1.8807 - acc: 0.2783 - val_loss: 1.5865 - val_acc: 0.4485 - 22s/epoch - 4s/step\n",
            "Epoch 2/100\n",
            "5/5 - 0s - loss: 1.2527 - acc: 0.5698 - val_loss: 1.0302 - val_acc: 0.6618 - 338ms/epoch - 68ms/step\n",
            "Epoch 3/100\n",
            "5/5 - 0s - loss: 0.6958 - acc: 0.8013 - val_loss: 0.8325 - val_acc: 0.8088 - 332ms/epoch - 66ms/step\n",
            "Epoch 4/100\n",
            "5/5 - 0s - loss: 0.4273 - acc: 0.8810 - val_loss: 1.1212 - val_acc: 0.7353 - 359ms/epoch - 72ms/step\n",
            "Epoch 5/100\n",
            "5/5 - 0s - loss: 0.3305 - acc: 0.9080 - val_loss: 0.8461 - val_acc: 0.7941 - 335ms/epoch - 67ms/step\n",
            "Epoch 6/100\n",
            "5/5 - 0s - loss: 0.1784 - acc: 0.9589 - val_loss: 0.7376 - val_acc: 0.7941 - 449ms/epoch - 90ms/step\n",
            "Epoch 7/100\n",
            "5/5 - 0s - loss: 0.1064 - acc: 0.9778 - val_loss: 0.6928 - val_acc: 0.8235 - 496ms/epoch - 99ms/step\n",
            "Epoch 8/100\n",
            "5/5 - 0s - loss: 0.0723 - acc: 0.9926 - val_loss: 0.7142 - val_acc: 0.8162 - 416ms/epoch - 83ms/step\n",
            "Epoch 9/100\n",
            "5/5 - 0s - loss: 0.0420 - acc: 0.9975 - val_loss: 0.7320 - val_acc: 0.8162 - 431ms/epoch - 86ms/step\n",
            "Epoch 10/100\n",
            "5/5 - 0s - loss: 0.0339 - acc: 0.9975 - val_loss: 0.7666 - val_acc: 0.8162 - 490ms/epoch - 98ms/step\n",
            "Epoch 11/100\n",
            "5/5 - 0s - loss: 0.0236 - acc: 0.9984 - val_loss: 0.7670 - val_acc: 0.8088 - 417ms/epoch - 83ms/step\n",
            "Epoch 12/100\n",
            "5/5 - 0s - loss: 0.0179 - acc: 0.9992 - val_loss: 0.7861 - val_acc: 0.8088 - 364ms/epoch - 73ms/step\n",
            "----------------------------------------------------------------------------\n",
            "Test Accuracy 79.2%\n"
          ]
        }
      ]
    },
    {
      "cell_type": "code",
      "source": [
        "test_probs = gat_model.predict(x=test_indices)\n",
        "\n",
        "mapping = {v: k for (k, v) in class_idx.items()}\n",
        "\n",
        "for i, (probs, label) in enumerate(zip(test_probs[:10], test_labels[:10])):\n",
        "    print(f\"Example {i+1}: {mapping[label]}\")\n",
        "    for j, c in zip(probs, class_idx.keys()):\n",
        "        print(f\"\\tProbability of {c: <24} = {j*100:7.3f}%\")\n",
        "    print(\"---\" * 20)"
      ],
      "metadata": {
        "colab": {
          "base_uri": "https://localhost:8080/"
        },
        "id": "Alin-mv8KC5m",
        "outputId": "cbbc9755-68ff-42b1-8746-030f4a61b96a"
      },
      "execution_count": 8,
      "outputs": [
        {
          "output_type": "stream",
          "name": "stdout",
          "text": [
            "43/43 [==============================] - 3s 18ms/step\n",
            "Example 1: Probabilistic_Methods\n",
            "\tProbability of Case_Based               =   2.169%\n",
            "\tProbability of Genetic_Algorithms       =   0.070%\n",
            "\tProbability of Neural_Networks          =   6.817%\n",
            "\tProbability of Probabilistic_Methods    =  87.468%\n",
            "\tProbability of Reinforcement_Learning   =   1.274%\n",
            "\tProbability of Rule_Learning            =   0.052%\n",
            "\tProbability of Theory                   =   2.150%\n",
            "------------------------------------------------------------\n",
            "Example 2: Genetic_Algorithms\n",
            "\tProbability of Case_Based               =   0.054%\n",
            "\tProbability of Genetic_Algorithms       =  99.857%\n",
            "\tProbability of Neural_Networks          =   0.037%\n",
            "\tProbability of Probabilistic_Methods    =   0.000%\n",
            "\tProbability of Reinforcement_Learning   =   0.021%\n",
            "\tProbability of Rule_Learning            =   0.016%\n",
            "\tProbability of Theory                   =   0.015%\n",
            "------------------------------------------------------------\n",
            "Example 3: Theory\n",
            "\tProbability of Case_Based               =   8.750%\n",
            "\tProbability of Genetic_Algorithms       =   0.811%\n",
            "\tProbability of Neural_Networks          =   0.193%\n",
            "\tProbability of Probabilistic_Methods    =  10.646%\n",
            "\tProbability of Reinforcement_Learning   =   1.723%\n",
            "\tProbability of Rule_Learning            =  11.222%\n",
            "\tProbability of Theory                   =  66.656%\n",
            "------------------------------------------------------------\n",
            "Example 4: Neural_Networks\n",
            "\tProbability of Case_Based               =   0.028%\n",
            "\tProbability of Genetic_Algorithms       =   0.004%\n",
            "\tProbability of Neural_Networks          =  99.574%\n",
            "\tProbability of Probabilistic_Methods    =   0.148%\n",
            "\tProbability of Reinforcement_Learning   =   0.140%\n",
            "\tProbability of Rule_Learning            =   0.012%\n",
            "\tProbability of Theory                   =   0.094%\n",
            "------------------------------------------------------------\n",
            "Example 5: Theory\n",
            "\tProbability of Case_Based               =  11.857%\n",
            "\tProbability of Genetic_Algorithms       =   4.007%\n",
            "\tProbability of Neural_Networks          =   4.198%\n",
            "\tProbability of Probabilistic_Methods    =  11.410%\n",
            "\tProbability of Reinforcement_Learning   =   2.482%\n",
            "\tProbability of Rule_Learning            =  45.048%\n",
            "\tProbability of Theory                   =  20.998%\n",
            "------------------------------------------------------------\n",
            "Example 6: Genetic_Algorithms\n",
            "\tProbability of Case_Based               =   0.000%\n",
            "\tProbability of Genetic_Algorithms       = 100.000%\n",
            "\tProbability of Neural_Networks          =   0.000%\n",
            "\tProbability of Probabilistic_Methods    =   0.000%\n",
            "\tProbability of Reinforcement_Learning   =   0.000%\n",
            "\tProbability of Rule_Learning            =   0.000%\n",
            "\tProbability of Theory                   =   0.000%\n",
            "------------------------------------------------------------\n",
            "Example 7: Neural_Networks\n",
            "\tProbability of Case_Based               =   0.146%\n",
            "\tProbability of Genetic_Algorithms       =   0.113%\n",
            "\tProbability of Neural_Networks          =  98.870%\n",
            "\tProbability of Probabilistic_Methods    =   0.474%\n",
            "\tProbability of Reinforcement_Learning   =   0.086%\n",
            "\tProbability of Rule_Learning            =   0.079%\n",
            "\tProbability of Theory                   =   0.231%\n",
            "------------------------------------------------------------\n",
            "Example 8: Genetic_Algorithms\n",
            "\tProbability of Case_Based               =   0.000%\n",
            "\tProbability of Genetic_Algorithms       = 100.000%\n",
            "\tProbability of Neural_Networks          =   0.000%\n",
            "\tProbability of Probabilistic_Methods    =   0.000%\n",
            "\tProbability of Reinforcement_Learning   =   0.000%\n",
            "\tProbability of Rule_Learning            =   0.000%\n",
            "\tProbability of Theory                   =   0.000%\n",
            "------------------------------------------------------------\n",
            "Example 9: Theory\n",
            "\tProbability of Case_Based               =   6.532%\n",
            "\tProbability of Genetic_Algorithms       =   6.932%\n",
            "\tProbability of Neural_Networks          =  18.478%\n",
            "\tProbability of Probabilistic_Methods    =  48.858%\n",
            "\tProbability of Reinforcement_Learning   =   4.299%\n",
            "\tProbability of Rule_Learning            =   2.451%\n",
            "\tProbability of Theory                   =  12.450%\n",
            "------------------------------------------------------------\n",
            "Example 10: Case_Based\n",
            "\tProbability of Case_Based               =  99.865%\n",
            "\tProbability of Genetic_Algorithms       =   0.004%\n",
            "\tProbability of Neural_Networks          =   0.004%\n",
            "\tProbability of Probabilistic_Methods    =   0.044%\n",
            "\tProbability of Reinforcement_Learning   =   0.003%\n",
            "\tProbability of Rule_Learning            =   0.066%\n",
            "\tProbability of Theory                   =   0.014%\n",
            "------------------------------------------------------------\n"
          ]
        }
      ]
    },
    {
      "cell_type": "markdown",
      "source": [
        "Conclusions\n",
        "The results look OK! The GAT model seems to correctly predict the subjects of the papers, based on what they cite, about 80% of the time. Further improvements could be made by fine-tuning the hyper-parameters of the GAT. For instance, try changing the number of layers, the number of hidden units, or the optimizer/learning rate; add regularization (e.g., dropout); or modify the preprocessing step. We could also try to implement self-loops (i.e., paper X cites paper X) and/or make the graph undirected."
      ],
      "metadata": {
        "id": "Gv53IvwsLKoY"
      }
    },
    {
      "cell_type": "markdown",
      "source": [
        "## Introduction\n",
        "\n",
        "In this tutorial, we will implement a type of graph neural network (GNN) known as\n",
        "_ message passing neural network_ (MPNN) to predict graph properties. Specifically, we will\n",
        "implement an MPNN to predict a molecular property known as\n",
        "_blood-brain barrier permeability_ (BBBP).\n",
        "\n",
        "Motivation: as molecules are naturally represented as an undirected graph `G = (V, E)`,\n",
        "where `V` is a set or vertices (nodes; atoms) and `E` a set of edges (bonds), GNNs (such\n",
        "as MPNN) are proving to be a useful method for predicting molecular properties.\n",
        "\n",
        "Until now, more traditional methods, such as random forests, support vector machines, etc.,\n",
        "have been commonly used to predict molecular properties. In contrast to GNNs, these\n",
        "traditional approaches often operate on precomputed molecular features such as\n",
        "molecular weight, polarity, charge, number of carbon atoms, etc. Although these\n",
        "molecular features prove to be good predictors for various molecular properties, it is\n",
        "hypothesized that operating on these more \"raw\", \"low-level\", features could prove even\n",
        "better.\n",
        "\n",
        "### References\n",
        "\n",
        "In recent years, a lot of effort has been put into developing neural networks for\n",
        "graph data, including molecular graphs. For a summary of graph neural networks, see e.g.,\n",
        "[A Comprehensive Survey on Graph Neural Networks](https://arxiv.org/abs/1901.00596) and\n",
        "[Graph Neural Networks: A Review of Methods and Applications](https://arxiv.org/abs/1812.08434);\n",
        "and for further reading on the specific\n",
        "graph neural network implemented in this tutorial see\n",
        "[Neural Message Passing for Quantum Chemistry](https://arxiv.org/abs/1704.01212) and\n",
        "[DeepChem's MPNNModel](https://deepchem.readthedocs.io/en/latest/api_reference/models.html#mpnnmodel)."
      ],
      "metadata": {
        "id": "hgp7z5TeK4KT"
      }
    },
    {
      "cell_type": "code",
      "source": [],
      "metadata": {
        "id": "DTtAjTH4K6PM"
      },
      "execution_count": null,
      "outputs": []
    },
    {
      "cell_type": "markdown",
      "source": [
        "## Setup\n",
        "\n",
        "### Install RDKit and other dependencies\n",
        "\n",
        "(Text below taken from\n",
        "[this tutorial](https://keras.io/examples/generative/wgan-graphs/)).\n",
        "\n",
        "[RDKit](https://www.rdkit.org/) is a collection of cheminformatics and machine-learning\n",
        "software written in C++ and Python. In this tutorial, RDKit is used to conveniently and\n",
        "efficiently transform\n",
        "[SMILES](https://en.wikipedia.org/wiki/Simplified_molecular-input_line-entry_system) to\n",
        "molecule objects, and then from those obtain sets of atoms and bonds.\n",
        "\n",
        "SMILES expresses the structure of a given molecule in the form of an ASCII string.\n",
        "The SMILES string is a compact encoding which, for smaller molecules, is relatively\n",
        "human-readable. Encoding molecules as a string both alleviates and facilitates database\n",
        "and/or web searching of a given molecule. RDKit uses algorithms to\n",
        "accurately transform a given SMILES to a molecule object, which can then\n",
        "be used to compute a great number of molecular properties/features.\n",
        "\n",
        "Notice, RDKit is commonly installed via [Conda](https://www.rdkit.org/docs/Install.html).\n",
        "However, thanks to\n",
        "[rdkit_platform_wheels](https://github.com/kuelumbus/rdkit_platform_wheels), rdkit\n",
        "can now (for the sake of this tutorial) be installed easily via pip, as follows:\n",
        "\n",
        "```\n",
        "pip -q install rdkit-pypi\n",
        "```\n",
        "\n",
        "And for easy and efficient reading of csv files and visualization, the below needs to be\n",
        "installed:\n",
        "\n",
        "```\n",
        "pip -q install pandas\n",
        "pip -q install Pillow\n",
        "pip -q install matplotlib\n",
        "pip -q install pydot\n",
        "sudo apt-get -qq install graphviz\n",
        "```"
      ],
      "metadata": {
        "id": "DMiV6ohRLD9G"
      }
    },
    {
      "cell_type": "code",
      "source": [
        "!pip -q install pandas\n",
        "!pip -q install Pillow\n",
        "!pip install -q matplotlib\n",
        "!pip install -q pydot\n",
        "!sudo apt-get -qq install graphviz"
      ],
      "metadata": {
        "id": "tLfDfV8xKGw0"
      },
      "execution_count": 10,
      "outputs": []
    },
    {
      "cell_type": "code",
      "source": [
        "import os\n",
        "\n",
        "# Temporary suppress tf logs\n",
        "os.environ[\"TF_CPP_MIN_LOG_LEVEL\"] = \"3\"\n",
        "\n",
        "import tensorflow as tf\n",
        "from tensorflow import keras\n",
        "from tensorflow.keras import layers\n",
        "import numpy as np\n",
        "import pandas as pd\n",
        "import matplotlib.pyplot as plt\n",
        "import warnings\n",
        "from rdkit import Chem\n",
        "from rdkit import RDLogger\n",
        "from rdkit.Chem.Draw import IPythonConsole\n",
        "from rdkit.Chem.Draw import MolsToGridImage\n",
        "\n",
        "# Temporary suppress warnings and RDKit logs\n",
        "warnings.filterwarnings(\"ignore\")\n",
        "RDLogger.DisableLog(\"rdApp.*\")\n",
        "\n",
        "np.random.seed(42)\n",
        "tf.random.set_seed(42)"
      ],
      "metadata": {
        "id": "6VaKZbl5LwJD"
      },
      "execution_count": 14,
      "outputs": []
    },
    {
      "cell_type": "code",
      "source": [],
      "metadata": {
        "id": "uUTyuyPlMHZA"
      },
      "execution_count": null,
      "outputs": []
    },
    {
      "source": [
        "!pip install rdkit"
      ],
      "cell_type": "code",
      "metadata": {
        "colab": {
          "base_uri": "https://localhost:8080/"
        },
        "id": "Yo4sLRQ8L4Bh",
        "outputId": "4904092c-8616-4560-bcae-bc92e54fca9a"
      },
      "execution_count": 12,
      "outputs": [
        {
          "output_type": "stream",
          "name": "stdout",
          "text": [
            "Collecting rdkit\n",
            "  Downloading rdkit-2023.9.5-cp310-cp310-manylinux_2_17_x86_64.manylinux2014_x86_64.whl (34.4 MB)\n",
            "\u001b[2K     \u001b[90m━━━━━━━━━━━━━━━━━━━━━━━━━━━━━━━━━━━━━━━━\u001b[0m \u001b[32m34.4/34.4 MB\u001b[0m \u001b[31m14.0 MB/s\u001b[0m eta \u001b[36m0:00:00\u001b[0m\n",
            "\u001b[?25hRequirement already satisfied: numpy in /usr/local/lib/python3.10/dist-packages (from rdkit) (1.25.2)\n",
            "Requirement already satisfied: Pillow in /usr/local/lib/python3.10/dist-packages (from rdkit) (9.4.0)\n",
            "Installing collected packages: rdkit\n",
            "Successfully installed rdkit-2023.9.5\n"
          ]
        }
      ]
    },
    {
      "source": [
        "import rdkit"
      ],
      "cell_type": "code",
      "metadata": {
        "id": "zgfAHvNEL47g"
      },
      "execution_count": 13,
      "outputs": []
    },
    {
      "cell_type": "code",
      "source": [],
      "metadata": {
        "id": "V1Ft6s9vMKWG"
      },
      "execution_count": null,
      "outputs": []
    },
    {
      "cell_type": "code",
      "execution_count": 15,
      "metadata": {
        "id": "IrwG8nrqKf4A",
        "colab": {
          "base_uri": "https://localhost:8080/",
          "height": 333
        },
        "outputId": "2523bbc9-2adc-4168-df03-e549c8401be8"
      },
      "outputs": [
        {
          "output_type": "stream",
          "name": "stdout",
          "text": [
            "Downloading data from https://deepchemdata.s3-us-west-1.amazonaws.com/datasets/BBBP.csv\n",
            "148743/148743 [==============================] - 0s 3us/step\n"
          ]
        },
        {
          "output_type": "execute_result",
          "data": {
            "text/plain": [
              "                 name  p_np                                             smiles\n",
              "96          cefoxitin     1  CO[C@]1(NC(=O)Cc2sccc2)[C@H]3SCC(=C(N3C1=O)C(O...\n",
              "97           Org34167     1                      NC(CC=C)c1ccccc1c2noc3c2cccc3\n",
              "98   9-OH Risperidone     1  OC1C(N2CCC1)=NC(C)=C(CCN3CCC(CC3)c4c5ccc(F)cc5...\n",
              "..                ...   ...                                                ...\n",
              "101       allopurinol     0                                 O=C1N=CN=C2NNC=C12\n",
              "102       Alprostadil     0  CCCCC[C@H](O)/C=C/[C@H]1[C@H](O)CC(=O)[C@@H]1C...\n",
              "103     aminophylline     0  CN1C(=O)N(C)c2nc[nH]c2C1=O.CN3C(=O)N(C)c4nc[nH...\n",
              "\n",
              "[8 rows x 3 columns]"
            ],
            "text/html": [
              "\n",
              "  <div id=\"df-0955d416-b7fc-49c2-9df8-3d1257cd973d\" class=\"colab-df-container\">\n",
              "    <div>\n",
              "<style scoped>\n",
              "    .dataframe tbody tr th:only-of-type {\n",
              "        vertical-align: middle;\n",
              "    }\n",
              "\n",
              "    .dataframe tbody tr th {\n",
              "        vertical-align: top;\n",
              "    }\n",
              "\n",
              "    .dataframe thead th {\n",
              "        text-align: right;\n",
              "    }\n",
              "</style>\n",
              "<table border=\"1\" class=\"dataframe\">\n",
              "  <thead>\n",
              "    <tr style=\"text-align: right;\">\n",
              "      <th></th>\n",
              "      <th>name</th>\n",
              "      <th>p_np</th>\n",
              "      <th>smiles</th>\n",
              "    </tr>\n",
              "  </thead>\n",
              "  <tbody>\n",
              "    <tr>\n",
              "      <th>96</th>\n",
              "      <td>cefoxitin</td>\n",
              "      <td>1</td>\n",
              "      <td>CO[C@]1(NC(=O)Cc2sccc2)[C@H]3SCC(=C(N3C1=O)C(O...</td>\n",
              "    </tr>\n",
              "    <tr>\n",
              "      <th>97</th>\n",
              "      <td>Org34167</td>\n",
              "      <td>1</td>\n",
              "      <td>NC(CC=C)c1ccccc1c2noc3c2cccc3</td>\n",
              "    </tr>\n",
              "    <tr>\n",
              "      <th>98</th>\n",
              "      <td>9-OH Risperidone</td>\n",
              "      <td>1</td>\n",
              "      <td>OC1C(N2CCC1)=NC(C)=C(CCN3CCC(CC3)c4c5ccc(F)cc5...</td>\n",
              "    </tr>\n",
              "    <tr>\n",
              "      <th>...</th>\n",
              "      <td>...</td>\n",
              "      <td>...</td>\n",
              "      <td>...</td>\n",
              "    </tr>\n",
              "    <tr>\n",
              "      <th>101</th>\n",
              "      <td>allopurinol</td>\n",
              "      <td>0</td>\n",
              "      <td>O=C1N=CN=C2NNC=C12</td>\n",
              "    </tr>\n",
              "    <tr>\n",
              "      <th>102</th>\n",
              "      <td>Alprostadil</td>\n",
              "      <td>0</td>\n",
              "      <td>CCCCC[C@H](O)/C=C/[C@H]1[C@H](O)CC(=O)[C@@H]1C...</td>\n",
              "    </tr>\n",
              "    <tr>\n",
              "      <th>103</th>\n",
              "      <td>aminophylline</td>\n",
              "      <td>0</td>\n",
              "      <td>CN1C(=O)N(C)c2nc[nH]c2C1=O.CN3C(=O)N(C)c4nc[nH...</td>\n",
              "    </tr>\n",
              "  </tbody>\n",
              "</table>\n",
              "<p>8 rows × 3 columns</p>\n",
              "</div>\n",
              "    <div class=\"colab-df-buttons\">\n",
              "\n",
              "  <div class=\"colab-df-container\">\n",
              "    <button class=\"colab-df-convert\" onclick=\"convertToInteractive('df-0955d416-b7fc-49c2-9df8-3d1257cd973d')\"\n",
              "            title=\"Convert this dataframe to an interactive table.\"\n",
              "            style=\"display:none;\">\n",
              "\n",
              "  <svg xmlns=\"http://www.w3.org/2000/svg\" height=\"24px\" viewBox=\"0 -960 960 960\">\n",
              "    <path d=\"M120-120v-720h720v720H120Zm60-500h600v-160H180v160Zm220 220h160v-160H400v160Zm0 220h160v-160H400v160ZM180-400h160v-160H180v160Zm440 0h160v-160H620v160ZM180-180h160v-160H180v160Zm440 0h160v-160H620v160Z\"/>\n",
              "  </svg>\n",
              "    </button>\n",
              "\n",
              "  <style>\n",
              "    .colab-df-container {\n",
              "      display:flex;\n",
              "      gap: 12px;\n",
              "    }\n",
              "\n",
              "    .colab-df-convert {\n",
              "      background-color: #E8F0FE;\n",
              "      border: none;\n",
              "      border-radius: 50%;\n",
              "      cursor: pointer;\n",
              "      display: none;\n",
              "      fill: #1967D2;\n",
              "      height: 32px;\n",
              "      padding: 0 0 0 0;\n",
              "      width: 32px;\n",
              "    }\n",
              "\n",
              "    .colab-df-convert:hover {\n",
              "      background-color: #E2EBFA;\n",
              "      box-shadow: 0px 1px 2px rgba(60, 64, 67, 0.3), 0px 1px 3px 1px rgba(60, 64, 67, 0.15);\n",
              "      fill: #174EA6;\n",
              "    }\n",
              "\n",
              "    .colab-df-buttons div {\n",
              "      margin-bottom: 4px;\n",
              "    }\n",
              "\n",
              "    [theme=dark] .colab-df-convert {\n",
              "      background-color: #3B4455;\n",
              "      fill: #D2E3FC;\n",
              "    }\n",
              "\n",
              "    [theme=dark] .colab-df-convert:hover {\n",
              "      background-color: #434B5C;\n",
              "      box-shadow: 0px 1px 3px 1px rgba(0, 0, 0, 0.15);\n",
              "      filter: drop-shadow(0px 1px 2px rgba(0, 0, 0, 0.3));\n",
              "      fill: #FFFFFF;\n",
              "    }\n",
              "  </style>\n",
              "\n",
              "    <script>\n",
              "      const buttonEl =\n",
              "        document.querySelector('#df-0955d416-b7fc-49c2-9df8-3d1257cd973d button.colab-df-convert');\n",
              "      buttonEl.style.display =\n",
              "        google.colab.kernel.accessAllowed ? 'block' : 'none';\n",
              "\n",
              "      async function convertToInteractive(key) {\n",
              "        const element = document.querySelector('#df-0955d416-b7fc-49c2-9df8-3d1257cd973d');\n",
              "        const dataTable =\n",
              "          await google.colab.kernel.invokeFunction('convertToInteractive',\n",
              "                                                    [key], {});\n",
              "        if (!dataTable) return;\n",
              "\n",
              "        const docLinkHtml = 'Like what you see? Visit the ' +\n",
              "          '<a target=\"_blank\" href=https://colab.research.google.com/notebooks/data_table.ipynb>data table notebook</a>'\n",
              "          + ' to learn more about interactive tables.';\n",
              "        element.innerHTML = '';\n",
              "        dataTable['output_type'] = 'display_data';\n",
              "        await google.colab.output.renderOutput(dataTable, element);\n",
              "        const docLink = document.createElement('div');\n",
              "        docLink.innerHTML = docLinkHtml;\n",
              "        element.appendChild(docLink);\n",
              "      }\n",
              "    </script>\n",
              "  </div>\n",
              "\n",
              "\n",
              "<div id=\"df-1e9bb33b-8760-449c-b3f4-b7feaec4eedc\">\n",
              "  <button class=\"colab-df-quickchart\" onclick=\"quickchart('df-1e9bb33b-8760-449c-b3f4-b7feaec4eedc')\"\n",
              "            title=\"Suggest charts\"\n",
              "            style=\"display:none;\">\n",
              "\n",
              "<svg xmlns=\"http://www.w3.org/2000/svg\" height=\"24px\"viewBox=\"0 0 24 24\"\n",
              "     width=\"24px\">\n",
              "    <g>\n",
              "        <path d=\"M19 3H5c-1.1 0-2 .9-2 2v14c0 1.1.9 2 2 2h14c1.1 0 2-.9 2-2V5c0-1.1-.9-2-2-2zM9 17H7v-7h2v7zm4 0h-2V7h2v10zm4 0h-2v-4h2v4z\"/>\n",
              "    </g>\n",
              "</svg>\n",
              "  </button>\n",
              "\n",
              "<style>\n",
              "  .colab-df-quickchart {\n",
              "      --bg-color: #E8F0FE;\n",
              "      --fill-color: #1967D2;\n",
              "      --hover-bg-color: #E2EBFA;\n",
              "      --hover-fill-color: #174EA6;\n",
              "      --disabled-fill-color: #AAA;\n",
              "      --disabled-bg-color: #DDD;\n",
              "  }\n",
              "\n",
              "  [theme=dark] .colab-df-quickchart {\n",
              "      --bg-color: #3B4455;\n",
              "      --fill-color: #D2E3FC;\n",
              "      --hover-bg-color: #434B5C;\n",
              "      --hover-fill-color: #FFFFFF;\n",
              "      --disabled-bg-color: #3B4455;\n",
              "      --disabled-fill-color: #666;\n",
              "  }\n",
              "\n",
              "  .colab-df-quickchart {\n",
              "    background-color: var(--bg-color);\n",
              "    border: none;\n",
              "    border-radius: 50%;\n",
              "    cursor: pointer;\n",
              "    display: none;\n",
              "    fill: var(--fill-color);\n",
              "    height: 32px;\n",
              "    padding: 0;\n",
              "    width: 32px;\n",
              "  }\n",
              "\n",
              "  .colab-df-quickchart:hover {\n",
              "    background-color: var(--hover-bg-color);\n",
              "    box-shadow: 0 1px 2px rgba(60, 64, 67, 0.3), 0 1px 3px 1px rgba(60, 64, 67, 0.15);\n",
              "    fill: var(--button-hover-fill-color);\n",
              "  }\n",
              "\n",
              "  .colab-df-quickchart-complete:disabled,\n",
              "  .colab-df-quickchart-complete:disabled:hover {\n",
              "    background-color: var(--disabled-bg-color);\n",
              "    fill: var(--disabled-fill-color);\n",
              "    box-shadow: none;\n",
              "  }\n",
              "\n",
              "  .colab-df-spinner {\n",
              "    border: 2px solid var(--fill-color);\n",
              "    border-color: transparent;\n",
              "    border-bottom-color: var(--fill-color);\n",
              "    animation:\n",
              "      spin 1s steps(1) infinite;\n",
              "  }\n",
              "\n",
              "  @keyframes spin {\n",
              "    0% {\n",
              "      border-color: transparent;\n",
              "      border-bottom-color: var(--fill-color);\n",
              "      border-left-color: var(--fill-color);\n",
              "    }\n",
              "    20% {\n",
              "      border-color: transparent;\n",
              "      border-left-color: var(--fill-color);\n",
              "      border-top-color: var(--fill-color);\n",
              "    }\n",
              "    30% {\n",
              "      border-color: transparent;\n",
              "      border-left-color: var(--fill-color);\n",
              "      border-top-color: var(--fill-color);\n",
              "      border-right-color: var(--fill-color);\n",
              "    }\n",
              "    40% {\n",
              "      border-color: transparent;\n",
              "      border-right-color: var(--fill-color);\n",
              "      border-top-color: var(--fill-color);\n",
              "    }\n",
              "    60% {\n",
              "      border-color: transparent;\n",
              "      border-right-color: var(--fill-color);\n",
              "    }\n",
              "    80% {\n",
              "      border-color: transparent;\n",
              "      border-right-color: var(--fill-color);\n",
              "      border-bottom-color: var(--fill-color);\n",
              "    }\n",
              "    90% {\n",
              "      border-color: transparent;\n",
              "      border-bottom-color: var(--fill-color);\n",
              "    }\n",
              "  }\n",
              "</style>\n",
              "\n",
              "  <script>\n",
              "    async function quickchart(key) {\n",
              "      const quickchartButtonEl =\n",
              "        document.querySelector('#' + key + ' button');\n",
              "      quickchartButtonEl.disabled = true;  // To prevent multiple clicks.\n",
              "      quickchartButtonEl.classList.add('colab-df-spinner');\n",
              "      try {\n",
              "        const charts = await google.colab.kernel.invokeFunction(\n",
              "            'suggestCharts', [key], {});\n",
              "      } catch (error) {\n",
              "        console.error('Error during call to suggestCharts:', error);\n",
              "      }\n",
              "      quickchartButtonEl.classList.remove('colab-df-spinner');\n",
              "      quickchartButtonEl.classList.add('colab-df-quickchart-complete');\n",
              "    }\n",
              "    (() => {\n",
              "      let quickchartButtonEl =\n",
              "        document.querySelector('#df-1e9bb33b-8760-449c-b3f4-b7feaec4eedc button');\n",
              "      quickchartButtonEl.style.display =\n",
              "        google.colab.kernel.accessAllowed ? 'block' : 'none';\n",
              "    })();\n",
              "  </script>\n",
              "</div>\n",
              "\n",
              "    </div>\n",
              "  </div>\n"
            ],
            "application/vnd.google.colaboratory.intrinsic+json": {
              "type": "dataframe",
              "summary": "{\n  \"name\": \"df\",\n  \"rows\": 8,\n  \"fields\": [\n    {\n      \"column\": \"name\",\n      \"properties\": {\n        \"dtype\": \"string\",\n        \"num_unique_values\": 8,\n        \"samples\": [\n          \"Org34167\",\n          \"allopurinol\",\n          \"cefoxitin\"\n        ],\n        \"semantic_type\": \"\",\n        \"description\": \"\"\n      }\n    },\n    {\n      \"column\": \"p_np\",\n      \"properties\": {\n        \"dtype\": \"number\",\n        \"std\": 0,\n        \"min\": 0,\n        \"max\": 1,\n        \"num_unique_values\": 2,\n        \"samples\": [\n          0,\n          1\n        ],\n        \"semantic_type\": \"\",\n        \"description\": \"\"\n      }\n    },\n    {\n      \"column\": \"smiles\",\n      \"properties\": {\n        \"dtype\": \"string\",\n        \"num_unique_values\": 8,\n        \"samples\": [\n          \"NC(CC=C)c1ccccc1c2noc3c2cccc3\",\n          \"O=C1N=CN=C2NNC=C12\"\n        ],\n        \"semantic_type\": \"\",\n        \"description\": \"\"\n      }\n    }\n  ]\n}"
            }
          },
          "metadata": {},
          "execution_count": 15
        }
      ],
      "source": [
        "csv_path = keras.utils.get_file(\n",
        "    \"BBBP.csv\", \"https://deepchemdata.s3-us-west-1.amazonaws.com/datasets/BBBP.csv\"\n",
        ")\n",
        "\n",
        "df = pd.read_csv(csv_path, usecols=[1, 2, 3])\n",
        "df.iloc[96:104]"
      ]
    },
    {
      "cell_type": "code",
      "source": [],
      "metadata": {
        "id": "mMwHxBUqMSHt"
      },
      "execution_count": null,
      "outputs": []
    },
    {
      "cell_type": "markdown",
      "source": [
        "### Define features\n",
        "\n",
        "To encode features for atoms and bonds (which we will need later),\n",
        "we'll define two classes: `AtomFeaturizer` and `BondFeaturizer` respectively.\n",
        "\n",
        "To reduce the lines of code, i.e., to keep this tutorial short and concise,\n",
        "only about a handful of (atom and bond) features will be considered: \\[atom features\\]\n",
        "[symbol (element)](https://en.wikipedia.org/wiki/Chemical_element),\n",
        "[number of valence electrons](https://en.wikipedia.org/wiki/Valence_electron),\n",
        "[number of hydrogen bonds](https://en.wikipedia.org/wiki/Hydrogen),\n",
        "[orbital hybridization](https://en.wikipedia.org/wiki/Orbital_hybridisation),\n",
        "\\[bond features\\]\n",
        "[(covalent) bond type](https://en.wikipedia.org/wiki/Covalent_bond), and\n",
        "[conjugation](https://en.wikipedia.org/wiki/Conjugated_system)."
      ],
      "metadata": {
        "id": "SLvwYvsaMasM"
      }
    },
    {
      "cell_type": "code",
      "source": [],
      "metadata": {
        "id": "q5Fh4H7_Mi_4"
      },
      "execution_count": null,
      "outputs": []
    },
    {
      "cell_type": "code",
      "execution_count": 16,
      "metadata": {
        "id": "YwYflrUXKf4A"
      },
      "outputs": [],
      "source": [
        "\n",
        "class Featurizer:\n",
        "    def __init__(self, allowable_sets):\n",
        "        self.dim = 0\n",
        "        self.features_mapping = {}\n",
        "        for k, s in allowable_sets.items():\n",
        "            s = sorted(list(s))\n",
        "            self.features_mapping[k] = dict(zip(s, range(self.dim, len(s) + self.dim)))\n",
        "            self.dim += len(s)\n",
        "\n",
        "    def encode(self, inputs):\n",
        "        output = np.zeros((self.dim,))\n",
        "        for name_feature, feature_mapping in self.features_mapping.items():\n",
        "            feature = getattr(self, name_feature)(inputs)\n",
        "            if feature not in feature_mapping:\n",
        "                continue\n",
        "            output[feature_mapping[feature]] = 1.0\n",
        "        return output\n",
        "\n",
        "\n",
        "class AtomFeaturizer(Featurizer):\n",
        "    def __init__(self, allowable_sets):\n",
        "        super().__init__(allowable_sets)\n",
        "\n",
        "    def symbol(self, atom):\n",
        "        return atom.GetSymbol()\n",
        "\n",
        "    def n_valence(self, atom):\n",
        "        return atom.GetTotalValence()\n",
        "\n",
        "    def n_hydrogens(self, atom):\n",
        "        return atom.GetTotalNumHs()\n",
        "\n",
        "    def hybridization(self, atom):\n",
        "        return atom.GetHybridization().name.lower()\n",
        "\n",
        "\n",
        "class BondFeaturizer(Featurizer):\n",
        "    def __init__(self, allowable_sets):\n",
        "        super().__init__(allowable_sets)\n",
        "        self.dim += 1\n",
        "\n",
        "    def encode(self, bond):\n",
        "        output = np.zeros((self.dim,))\n",
        "        if bond is None:\n",
        "            output[-1] = 1.0\n",
        "            return output\n",
        "        output = super().encode(bond)\n",
        "        return output\n",
        "\n",
        "    def bond_type(self, bond):\n",
        "        return bond.GetBondType().name.lower()\n",
        "\n",
        "    def conjugated(self, bond):\n",
        "        return bond.GetIsConjugated()\n",
        "\n",
        "\n",
        "atom_featurizer = AtomFeaturizer(\n",
        "    allowable_sets={\n",
        "        \"symbol\": {\"B\", \"Br\", \"C\", \"Ca\", \"Cl\", \"F\", \"H\", \"I\", \"N\", \"Na\", \"O\", \"P\", \"S\"},\n",
        "        \"n_valence\": {0, 1, 2, 3, 4, 5, 6},\n",
        "        \"n_hydrogens\": {0, 1, 2, 3, 4},\n",
        "        \"hybridization\": {\"s\", \"sp\", \"sp2\", \"sp3\"},\n",
        "    }\n",
        ")\n",
        "\n",
        "bond_featurizer = BondFeaturizer(\n",
        "    allowable_sets={\n",
        "        \"bond_type\": {\"single\", \"double\", \"triple\", \"aromatic\"},\n",
        "        \"conjugated\": {True, False},\n",
        "    }\n",
        ")\n"
      ]
    },
    {
      "cell_type": "markdown",
      "source": [
        "### Generate graphs\n",
        "\n",
        "Before we can generate complete graphs from SMILES, we need to implement the following functions:\n",
        "\n",
        "1. `molecule_from_smiles`, which takes as input a SMILES and returns a molecule object.\n",
        "This is all handled by RDKit.\n",
        "\n",
        "2. `graph_from_molecule`, which takes as input a molecule object and returns a graph,\n",
        "represented as a three-tuple (atom_features, bond_features, pair_indices). For this we\n",
        "will make use of the classes defined previously.\n",
        "\n",
        "Finally, we can now implement the function `graphs_from_smiles`, which applies function (1)\n",
        "and subsequently (2) on all SMILES of the training, validation and test datasets.\n",
        "\n",
        "Notice: although scaffold splitting is recommended for this data set (see\n",
        "[here](https://arxiv.org/abs/1703.00564)), for simplicity, simple random splittings were\n",
        "performed."
      ],
      "metadata": {
        "id": "nNWuB1kwMpjH"
      }
    },
    {
      "cell_type": "code",
      "source": [],
      "metadata": {
        "id": "FWBoskGjMuic"
      },
      "execution_count": null,
      "outputs": []
    },
    {
      "cell_type": "code",
      "execution_count": 17,
      "metadata": {
        "id": "1VLCXQSUKf4B"
      },
      "outputs": [],
      "source": [
        "\n",
        "def molecule_from_smiles(smiles):\n",
        "    # MolFromSmiles(m, sanitize=True) should be equivalent to\n",
        "    # MolFromSmiles(m, sanitize=False) -> SanitizeMol(m) -> AssignStereochemistry(m, ...)\n",
        "    molecule = Chem.MolFromSmiles(smiles, sanitize=False)\n",
        "\n",
        "    # If sanitization is unsuccessful, catch the error, and try again without\n",
        "    # the sanitization step that caused the error\n",
        "    flag = Chem.SanitizeMol(molecule, catchErrors=True)\n",
        "    if flag != Chem.SanitizeFlags.SANITIZE_NONE:\n",
        "        Chem.SanitizeMol(molecule, sanitizeOps=Chem.SanitizeFlags.SANITIZE_ALL ^ flag)\n",
        "\n",
        "    Chem.AssignStereochemistry(molecule, cleanIt=True, force=True)\n",
        "    return molecule\n",
        "\n",
        "\n",
        "def graph_from_molecule(molecule):\n",
        "    # Initialize graph\n",
        "    atom_features = []\n",
        "    bond_features = []\n",
        "    pair_indices = []\n",
        "\n",
        "    for atom in molecule.GetAtoms():\n",
        "        atom_features.append(atom_featurizer.encode(atom))\n",
        "\n",
        "        # Add self-loops\n",
        "        pair_indices.append([atom.GetIdx(), atom.GetIdx()])\n",
        "        bond_features.append(bond_featurizer.encode(None))\n",
        "\n",
        "        for neighbor in atom.GetNeighbors():\n",
        "            bond = molecule.GetBondBetweenAtoms(atom.GetIdx(), neighbor.GetIdx())\n",
        "            pair_indices.append([atom.GetIdx(), neighbor.GetIdx()])\n",
        "            bond_features.append(bond_featurizer.encode(bond))\n",
        "\n",
        "    return np.array(atom_features), np.array(bond_features), np.array(pair_indices)\n",
        "\n",
        "\n",
        "def graphs_from_smiles(smiles_list):\n",
        "    # Initialize graphs\n",
        "    atom_features_list = []\n",
        "    bond_features_list = []\n",
        "    pair_indices_list = []\n",
        "\n",
        "    for smiles in smiles_list:\n",
        "        molecule = molecule_from_smiles(smiles)\n",
        "        atom_features, bond_features, pair_indices = graph_from_molecule(molecule)\n",
        "\n",
        "        atom_features_list.append(atom_features)\n",
        "        bond_features_list.append(bond_features)\n",
        "        pair_indices_list.append(pair_indices)\n",
        "\n",
        "    # Convert lists to ragged tensors for tf.data.Dataset later on\n",
        "    return (\n",
        "        tf.ragged.constant(atom_features_list, dtype=tf.float32),\n",
        "        tf.ragged.constant(bond_features_list, dtype=tf.float32),\n",
        "        tf.ragged.constant(pair_indices_list, dtype=tf.int64),\n",
        "    )\n",
        "\n",
        "\n",
        "# Shuffle array of indices ranging from 0 to 2049\n",
        "permuted_indices = np.random.permutation(np.arange(df.shape[0]))\n",
        "\n",
        "# Train set: 80 % of data\n",
        "train_index = permuted_indices[: int(df.shape[0] * 0.8)]\n",
        "x_train = graphs_from_smiles(df.iloc[train_index].smiles)\n",
        "y_train = df.iloc[train_index].p_np\n",
        "\n",
        "# Valid set: 19 % of data\n",
        "valid_index = permuted_indices[int(df.shape[0] * 0.8) : int(df.shape[0] * 0.99)]\n",
        "x_valid = graphs_from_smiles(df.iloc[valid_index].smiles)\n",
        "y_valid = df.iloc[valid_index].p_np\n",
        "\n",
        "# Test set: 1 % of data\n",
        "test_index = permuted_indices[int(df.shape[0] * 0.99) :]\n",
        "x_test = graphs_from_smiles(df.iloc[test_index].smiles)\n",
        "y_test = df.iloc[test_index].p_np"
      ]
    },
    {
      "cell_type": "markdown",
      "source": [
        "test function"
      ],
      "metadata": {
        "id": "5Wav7_tUM4KC"
      }
    },
    {
      "cell_type": "markdown",
      "source": [],
      "metadata": {
        "id": "tlKCt0h-KKvz"
      }
    },
    {
      "cell_type": "code",
      "source": [],
      "metadata": {
        "id": "1_tkYoI3M7n9"
      },
      "execution_count": null,
      "outputs": []
    },
    {
      "cell_type": "code",
      "execution_count": 18,
      "metadata": {
        "id": "DMt41t0mKf4B",
        "colab": {
          "base_uri": "https://localhost:8080/",
          "height": 236
        },
        "outputId": "99edbdca-020a-4bf5-bf00-f1d40eb18ede"
      },
      "outputs": [
        {
          "output_type": "stream",
          "name": "stdout",
          "text": [
            "Name:\tacetylsalicylate\n",
            "SMILES:\tCC(=O)Oc1ccccc1C(O)=O\n",
            "BBBP:\t0\n",
            "Molecule:\n"
          ]
        },
        {
          "output_type": "execute_result",
          "data": {
            "text/plain": [
              "<rdkit.Chem.rdchem.Mol at 0x7b6fdbf56490>"
            ],
            "image/png": "[encoded data removed]"
          },
          "metadata": {},
          "execution_count": 18
        }
      ],
      "source": [
        "print(f\"Name:\\t{df.name[100]}\\nSMILES:\\t{df.smiles[100]}\\nBBBP:\\t{df.p_np[100]}\")\n",
        "molecule = molecule_from_smiles(df.iloc[100].smiles)\n",
        "print(\"Molecule:\")\n",
        "molecule"
      ]
    },
    {
      "cell_type": "code",
      "source": [],
      "metadata": {
        "id": "uhVf3QSCNHRl"
      },
      "execution_count": null,
      "outputs": []
    },
    {
      "cell_type": "code",
      "execution_count": 19,
      "metadata": {
        "id": "tJ8eniMnKf4C",
        "colab": {
          "base_uri": "https://localhost:8080/"
        },
        "outputId": "20b2aede-dab1-4c39-91f5-99db1fddc6e3"
      },
      "outputs": [
        {
          "output_type": "stream",
          "name": "stdout",
          "text": [
            "Graph (including self-loops):\n",
            "\tatom features\t (13, 29)\n",
            "\tbond features\t (39, 7)\n",
            "\tpair indices\t (39, 2)\n"
          ]
        }
      ],
      "source": [
        "graph = graph_from_molecule(molecule)\n",
        "print(\"Graph (including self-loops):\")\n",
        "print(\"\\tatom features\\t\", graph[0].shape)\n",
        "print(\"\\tbond features\\t\", graph[1].shape)\n",
        "print(\"\\tpair indices\\t\", graph[2].shape)\n"
      ]
    },
    {
      "cell_type": "code",
      "source": [],
      "metadata": {
        "id": "jKGIeCXKNOgO"
      },
      "execution_count": null,
      "outputs": []
    },
    {
      "cell_type": "markdown",
      "source": [
        "### Create a `tf.data.Dataset`\n",
        "\n",
        "In this tutorial, the MPNN implementation will take as input (per iteration) a single graph.\n",
        "Therefore, given a batch of (sub)graphs (molecules), we need to merge them into a\n",
        "single graph (we'll refer to this graph as *global graph*).\n",
        "This global graph is a disconnected graph where each subgraph is\n",
        "completely separated from the other subgraphs."
      ],
      "metadata": {
        "id": "PbDRRLxiNQ5h"
      }
    },
    {
      "cell_type": "code",
      "source": [],
      "metadata": {
        "id": "C7YKWvpTNTCb"
      },
      "execution_count": null,
      "outputs": []
    },
    {
      "cell_type": "code",
      "execution_count": 20,
      "metadata": {
        "id": "ALr7TjyJKf4C"
      },
      "outputs": [],
      "source": [
        "\n",
        "def prepare_batch(x_batch, y_batch):\n",
        "    \"\"\"Merges (sub)graphs of batch into a single global (disconnected) graph\n",
        "    \"\"\"\n",
        "\n",
        "    atom_features, bond_features, pair_indices = x_batch\n",
        "\n",
        "    # Obtain number of atoms and bonds for each graph (molecule)\n",
        "    num_atoms = atom_features.row_lengths()\n",
        "    num_bonds = bond_features.row_lengths()\n",
        "\n",
        "    # Obtain partition indices (molecule_indicator), which will be used to\n",
        "    # gather (sub)graphs from global graph in model later on\n",
        "    molecule_indices = tf.range(len(num_atoms))\n",
        "    molecule_indicator = tf.repeat(molecule_indices, num_atoms)\n",
        "\n",
        "    # Merge (sub)graphs into a global (disconnected) graph. Adding 'increment' to\n",
        "    # 'pair_indices' (and merging ragged tensors) actualizes the global graph\n",
        "    gather_indices = tf.repeat(molecule_indices[:-1], num_bonds[1:])\n",
        "    increment = tf.cumsum(num_atoms[:-1])\n",
        "    increment = tf.pad(tf.gather(increment, gather_indices), [(num_bonds[0], 0)])\n",
        "    pair_indices = pair_indices.merge_dims(outer_axis=0, inner_axis=1).to_tensor()\n",
        "    pair_indices = pair_indices + increment[:, tf.newaxis]\n",
        "    atom_features = atom_features.merge_dims(outer_axis=0, inner_axis=1).to_tensor()\n",
        "    bond_features = bond_features.merge_dims(outer_axis=0, inner_axis=1).to_tensor()\n",
        "\n",
        "    return (atom_features, bond_features, pair_indices, molecule_indicator), y_batch\n",
        "\n",
        "\n",
        "def MPNNDataset(X, y, batch_size=32, shuffle=False):\n",
        "    dataset = tf.data.Dataset.from_tensor_slices((X, (y)))\n",
        "    if shuffle:\n",
        "        dataset = dataset.shuffle(1024)\n",
        "    return dataset.batch(batch_size).map(prepare_batch, -1).prefetch(-1)\n"
      ]
    },
    {
      "cell_type": "markdown",
      "source": [
        "## Model\n",
        "\n",
        "The MPNN model can take on various shapes and forms. In this tutorial, we will implement an\n",
        "MPNN based on the original paper\n",
        "[Neural Message Passing for Quantum Chemistry](https://arxiv.org/abs/1704.01212) and\n",
        "[DeepChem's MPNNModel](https://deepchem.readthedocs.io/en/latest/api_reference/models.html#mpnnmodel).\n",
        "The MPNN of this tutorial consists of three stages: message passing, readout and\n",
        "classification.\n",
        "\n",
        "\n",
        "### Message passing\n",
        "\n",
        "The message passing step itself consists of two parts:\n",
        "\n",
        "1. The *edge network*, which passes messages from 1-hop neighbors `w_{i}` of `v`\n",
        "to `v`, based on the edge features between them (`e_{vw_{i}}`),\n",
        "resulting in an updated node (state) `v'`. `w_{i}` denotes the `i:th` neighbor of\n",
        "`v`.\n",
        "\n",
        "2. The *gated recurrent unit* (GRU), which takes as input the most recent node state\n",
        "and updates it based on previous node states. In\n",
        "other words, the most recent node state serves as the input to the GRU, while the previous\n",
        "node states are incorporated within the memory state of the GRU. This allows information\n",
        "to travel from one node state (e.g., `v`) to another (e.g., `v''`).\n",
        "\n",
        "Importantly, step (1) and (2) are repeated for `k steps`, and where at each step `1...k`,\n",
        "the radius (or number of hops) of aggregated information from `v` increases by 1."
      ],
      "metadata": {
        "id": "l8On6gQhNdWb"
      }
    },
    {
      "cell_type": "code",
      "source": [],
      "metadata": {
        "id": "efQnlTG8Ne2K"
      },
      "execution_count": null,
      "outputs": []
    },
    {
      "cell_type": "code",
      "execution_count": 21,
      "metadata": {
        "id": "AgtpiqRiKf4D"
      },
      "outputs": [],
      "source": [
        "\n",
        "class EdgeNetwork(layers.Layer):\n",
        "    def build(self, input_shape):\n",
        "        self.atom_dim = input_shape[0][-1]\n",
        "        self.bond_dim = input_shape[1][-1]\n",
        "        self.kernel = self.add_weight(\n",
        "            shape=(self.bond_dim, self.atom_dim * self.atom_dim),\n",
        "            initializer=\"glorot_uniform\",\n",
        "            name=\"kernel\",\n",
        "        )\n",
        "        self.bias = self.add_weight(\n",
        "            shape=(self.atom_dim * self.atom_dim), initializer=\"zeros\", name=\"bias\",\n",
        "        )\n",
        "        self.built = True\n",
        "\n",
        "    def call(self, inputs):\n",
        "        atom_features, bond_features, pair_indices = inputs\n",
        "\n",
        "        # Apply linear transformation to bond features\n",
        "        bond_features = tf.matmul(bond_features, self.kernel) + self.bias\n",
        "\n",
        "        # Reshape for neighborhood aggregation later\n",
        "        bond_features = tf.reshape(bond_features, (-1, self.atom_dim, self.atom_dim))\n",
        "\n",
        "        # Obtain atom features of neighbors\n",
        "        atom_features_neighbors = tf.gather(atom_features, pair_indices[:, 1])\n",
        "        atom_features_neighbors = tf.expand_dims(atom_features_neighbors, axis=-1)\n",
        "\n",
        "        # Apply neighborhood aggregation\n",
        "        transformed_features = tf.matmul(bond_features, atom_features_neighbors)\n",
        "        transformed_features = tf.squeeze(transformed_features, axis=-1)\n",
        "        aggregated_features = tf.math.unsorted_segment_sum(\n",
        "            transformed_features,\n",
        "            pair_indices[:, 0],\n",
        "            num_segments=tf.shape(atom_features)[0],\n",
        "        )\n",
        "        return aggregated_features\n",
        "\n",
        "\n",
        "class MessagePassing(layers.Layer):\n",
        "    def __init__(self, units, steps=4, **kwargs):\n",
        "        super().__init__(**kwargs)\n",
        "        self.units = units\n",
        "        self.steps = steps\n",
        "\n",
        "    def build(self, input_shape):\n",
        "        self.atom_dim = input_shape[0][-1]\n",
        "        self.message_step = EdgeNetwork()\n",
        "        self.pad_length = max(0, self.units - self.atom_dim)\n",
        "        self.update_step = layers.GRUCell(self.atom_dim + self.pad_length)\n",
        "        self.built = True\n",
        "\n",
        "    def call(self, inputs):\n",
        "        atom_features, bond_features, pair_indices = inputs\n",
        "\n",
        "        # Pad atom features if number of desired units exceeds atom_features dim.\n",
        "        # Alternatively, a dense layer could be used here.\n",
        "        atom_features_updated = tf.pad(atom_features, [(0, 0), (0, self.pad_length)])\n",
        "\n",
        "        # Perform a number of steps of message passing\n",
        "        for i in range(self.steps):\n",
        "            # Aggregate information from neighbors\n",
        "            atom_features_aggregated = self.message_step(\n",
        "                [atom_features_updated, bond_features, pair_indices]\n",
        "            )\n",
        "\n",
        "            # Update node state via a step of GRU\n",
        "            atom_features_updated, _ = self.update_step(\n",
        "                atom_features_aggregated, atom_features_updated\n",
        "            )\n",
        "        return atom_features_updated\n"
      ]
    },
    {
      "cell_type": "markdown",
      "source": [
        "### Readout\n",
        "\n",
        "When the message passing procedure ends, the k-step-aggregated node states are to be partitioned\n",
        "into subgraphs (corresponding to each molecule in the batch) and subsequently\n",
        "reduced to graph-level embeddings. In the\n",
        "[original paper](https://arxiv.org/abs/1704.01212), a\n",
        "[set-to-set layer](https://arxiv.org/abs/1511.06391) was used for this purpose.\n",
        "In this tutorial however, a transformer encoder + average pooling will be used. Specifically:\n",
        "\n",
        "* the k-step-aggregated node states will be partitioned into the subgraphs\n",
        "(corresponding to each molecule in the batch);\n",
        "* each subgraph will then be padded to match the subgraph with the greatest number of nodes, followed\n",
        "by a `tf.stack(...)`;\n",
        "* the (stacked padded) tensor, encoding subgraphs (each subgraph containing a set of node states), are\n",
        "masked to make sure the paddings don't interfere with training;\n",
        "* finally, the tensor is passed to the transformer followed by average pooling."
      ],
      "metadata": {
        "id": "-5_17-gsNwkU"
      }
    },
    {
      "cell_type": "code",
      "source": [],
      "metadata": {
        "id": "HwzySUlDNzay"
      },
      "execution_count": null,
      "outputs": []
    },
    {
      "cell_type": "code",
      "execution_count": 22,
      "metadata": {
        "id": "ySa9xOOdKf4E"
      },
      "outputs": [],
      "source": [
        "\n",
        "class PartitionPadding(layers.Layer):\n",
        "    def __init__(self, batch_size, **kwargs):\n",
        "        super().__init__(**kwargs)\n",
        "        self.batch_size = batch_size\n",
        "\n",
        "    def call(self, inputs):\n",
        "\n",
        "        atom_features, molecule_indicator = inputs\n",
        "\n",
        "        # Obtain subgraphs\n",
        "        atom_features_partitioned = tf.dynamic_partition(\n",
        "            atom_features, molecule_indicator, self.batch_size\n",
        "        )\n",
        "\n",
        "        # Pad and stack subgraphs\n",
        "        num_atoms = [tf.shape(f)[0] for f in atom_features_partitioned]\n",
        "        max_num_atoms = tf.reduce_max(num_atoms)\n",
        "        atom_features_stacked = tf.stack(\n",
        "            [\n",
        "                tf.pad(f, [(0, max_num_atoms - n), (0, 0)])\n",
        "                for f, n in zip(atom_features_partitioned, num_atoms)\n",
        "            ],\n",
        "            axis=0,\n",
        "        )\n",
        "\n",
        "        # Remove empty subgraphs (usually for last batch in dataset)\n",
        "        gather_indices = tf.where(tf.reduce_sum(atom_features_stacked, (1, 2)) != 0)\n",
        "        gather_indices = tf.squeeze(gather_indices, axis=-1)\n",
        "        return tf.gather(atom_features_stacked, gather_indices, axis=0)\n",
        "\n",
        "\n",
        "class TransformerEncoderReadout(layers.Layer):\n",
        "    def __init__(\n",
        "        self, num_heads=8, embed_dim=64, dense_dim=512, batch_size=32, **kwargs\n",
        "    ):\n",
        "        super().__init__(**kwargs)\n",
        "\n",
        "        self.partition_padding = PartitionPadding(batch_size)\n",
        "        self.attention = layers.MultiHeadAttention(num_heads, embed_dim)\n",
        "        self.dense_proj = keras.Sequential(\n",
        "            [layers.Dense(dense_dim, activation=\"relu\"), layers.Dense(embed_dim),]\n",
        "        )\n",
        "        self.layernorm_1 = layers.LayerNormalization()\n",
        "        self.layernorm_2 = layers.LayerNormalization()\n",
        "        self.average_pooling = layers.GlobalAveragePooling1D()\n",
        "\n",
        "    def call(self, inputs):\n",
        "        x = self.partition_padding(inputs)\n",
        "        padding_mask = tf.reduce_any(tf.not_equal(x, 0.0), axis=-1)\n",
        "        padding_mask = padding_mask[:, tf.newaxis, tf.newaxis, :]\n",
        "        attention_output = self.attention(x, x, attention_mask=padding_mask)\n",
        "        proj_input = self.layernorm_1(x + attention_output)\n",
        "        proj_output = self.layernorm_2(proj_input + self.dense_proj(proj_input))\n",
        "        return self.average_pooling(proj_output)\n"
      ]
    },
    {
      "cell_type": "markdown",
      "source": [
        "### Message Passing Neural Network (MPNN)\n",
        "\n",
        "It is now time to complete the MPNN model. In addition to the message passing\n",
        "and readout, a two-layer classification network will be implemented to make\n",
        "predictions of BBBP."
      ],
      "metadata": {
        "id": "TWIZjdqtN9ib"
      }
    },
    {
      "cell_type": "code",
      "source": [],
      "metadata": {
        "id": "hJDTHqw_OB7t"
      },
      "execution_count": null,
      "outputs": []
    },
    {
      "cell_type": "code",
      "execution_count": 23,
      "metadata": {
        "id": "a4KtnXHCKf4F",
        "colab": {
          "base_uri": "https://localhost:8080/",
          "height": 686
        },
        "outputId": "33703f6d-09b8-4c6c-da97-2ae242ac8b50"
      },
      "outputs": [
        {
          "output_type": "execute_result",
          "data": {
            "image/png": "[encoded data removed]",
            "text/plain": [
              "<IPython.core.display.Image object>"
            ]
          },
          "metadata": {},
          "execution_count": 23
        }
      ],
      "source": [
        "\n",
        "def MPNNModel(\n",
        "    atom_dim,\n",
        "    bond_dim,\n",
        "    batch_size=32,\n",
        "    message_units=64,\n",
        "    message_steps=4,\n",
        "    num_attention_heads=8,\n",
        "    dense_units=512,\n",
        "):\n",
        "\n",
        "    atom_features = layers.Input((atom_dim), dtype=\"float32\", name=\"atom_features\")\n",
        "    bond_features = layers.Input((bond_dim), dtype=\"float32\", name=\"bond_features\")\n",
        "    pair_indices = layers.Input((2), dtype=\"int32\", name=\"pair_indices\")\n",
        "    molecule_indicator = layers.Input((), dtype=\"int32\", name=\"molecule_indicator\")\n",
        "\n",
        "    x = MessagePassing(message_units, message_steps)(\n",
        "        [atom_features, bond_features, pair_indices]\n",
        "    )\n",
        "\n",
        "    x = TransformerEncoderReadout(\n",
        "        num_attention_heads, message_units, dense_units, batch_size\n",
        "    )([x, molecule_indicator])\n",
        "\n",
        "    x = layers.Dense(dense_units, activation=\"relu\")(x)\n",
        "    x = layers.Dense(1, activation=\"sigmoid\")(x)\n",
        "\n",
        "    model = keras.Model(\n",
        "        inputs=[atom_features, bond_features, pair_indices, molecule_indicator],\n",
        "        outputs=[x],\n",
        "    )\n",
        "    return model\n",
        "\n",
        "\n",
        "mpnn = MPNNModel(\n",
        "    atom_dim=x_train[0][0][0].shape[0], bond_dim=x_train[1][0][0].shape[0],\n",
        ")\n",
        "\n",
        "mpnn.compile(\n",
        "    loss=keras.losses.BinaryCrossentropy(),\n",
        "    optimizer=keras.optimizers.Adam(learning_rate=5e-4),\n",
        "    metrics=[keras.metrics.AUC(name=\"AUC\")],\n",
        ")\n",
        "\n",
        "keras.utils.plot_model(mpnn, show_dtype=True, show_shapes=True)"
      ]
    },
    {
      "cell_type": "code",
      "source": [],
      "metadata": {
        "id": "_HYQBMXNOJWc"
      },
      "execution_count": null,
      "outputs": []
    },
    {
      "cell_type": "code",
      "execution_count": 24,
      "metadata": {
        "id": "f63TFY2RKf4F",
        "colab": {
          "base_uri": "https://localhost:8080/",
          "height": 1000
        },
        "outputId": "fea61d66-2030-4eef-d65d-6a80d89d81f4"
      },
      "outputs": [
        {
          "output_type": "stream",
          "name": "stdout",
          "text": [
            "Epoch 1/40\n",
            "52/52 - 12s - loss: 0.5262 - AUC: 0.7227 - val_loss: 0.6337 - val_AUC: 0.8301 - 12s/epoch - 239ms/step\n",
            "Epoch 2/40\n",
            "52/52 - 1s - loss: 0.4655 - AUC: 0.7926 - val_loss: 0.5881 - val_AUC: 0.8443 - 1s/epoch - 23ms/step\n",
            "Epoch 3/40\n",
            "52/52 - 1s - loss: 0.4519 - AUC: 0.8058 - val_loss: 0.5748 - val_AUC: 0.8514 - 1s/epoch - 24ms/step\n",
            "Epoch 4/40\n",
            "52/52 - 1s - loss: 0.4441 - AUC: 0.8153 - val_loss: 0.5664 - val_AUC: 0.8511 - 1s/epoch - 22ms/step\n",
            "Epoch 5/40\n",
            "52/52 - 1s - loss: 0.4336 - AUC: 0.8249 - val_loss: 0.5101 - val_AUC: 0.8550 - 1s/epoch - 22ms/step\n",
            "Epoch 6/40\n",
            "52/52 - 2s - loss: 0.4230 - AUC: 0.8356 - val_loss: 0.5292 - val_AUC: 0.8602 - 2s/epoch - 40ms/step\n",
            "Epoch 7/40\n",
            "52/52 - 2s - loss: 0.4168 - AUC: 0.8418 - val_loss: 0.4263 - val_AUC: 0.8616 - 2s/epoch - 38ms/step\n",
            "Epoch 8/40\n",
            "52/52 - 2s - loss: 0.4153 - AUC: 0.8463 - val_loss: 0.5266 - val_AUC: 0.8701 - 2s/epoch - 40ms/step\n",
            "Epoch 9/40\n",
            "52/52 - 3s - loss: 0.4078 - AUC: 0.8511 - val_loss: 0.5230 - val_AUC: 0.8770 - 3s/epoch - 58ms/step\n",
            "Epoch 10/40\n",
            "52/52 - 1s - loss: 0.3926 - AUC: 0.8618 - val_loss: 0.6048 - val_AUC: 0.8762 - 1s/epoch - 23ms/step\n",
            "Epoch 11/40\n",
            "52/52 - 1s - loss: 0.3910 - AUC: 0.8644 - val_loss: 0.6865 - val_AUC: 0.8745 - 1s/epoch - 22ms/step\n",
            "Epoch 12/40\n",
            "52/52 - 1s - loss: 0.3869 - AUC: 0.8683 - val_loss: 0.6056 - val_AUC: 0.8881 - 1s/epoch - 21ms/step\n",
            "Epoch 13/40\n",
            "52/52 - 1s - loss: 0.3855 - AUC: 0.8677 - val_loss: 0.6017 - val_AUC: 0.8829 - 1s/epoch - 22ms/step\n",
            "Epoch 14/40\n",
            "52/52 - 1s - loss: 0.3650 - AUC: 0.8836 - val_loss: 0.6407 - val_AUC: 0.8808 - 1s/epoch - 22ms/step\n",
            "Epoch 15/40\n",
            "52/52 - 1s - loss: 0.3628 - AUC: 0.8860 - val_loss: 0.5593 - val_AUC: 0.9023 - 1s/epoch - 26ms/step\n",
            "Epoch 16/40\n",
            "52/52 - 2s - loss: 0.3616 - AUC: 0.8875 - val_loss: 0.5770 - val_AUC: 0.8952 - 2s/epoch - 32ms/step\n",
            "Epoch 17/40\n",
            "52/52 - 1s - loss: 0.3527 - AUC: 0.8931 - val_loss: 0.5286 - val_AUC: 0.8974 - 1s/epoch - 22ms/step\n",
            "Epoch 18/40\n",
            "52/52 - 1s - loss: 0.3430 - AUC: 0.8994 - val_loss: 0.5093 - val_AUC: 0.8995 - 1s/epoch - 22ms/step\n",
            "Epoch 19/40\n",
            "52/52 - 1s - loss: 0.3409 - AUC: 0.9007 - val_loss: 0.5298 - val_AUC: 0.9002 - 1s/epoch - 22ms/step\n",
            "Epoch 20/40\n",
            "52/52 - 1s - loss: 0.3335 - AUC: 0.9054 - val_loss: 0.5370 - val_AUC: 0.8906 - 1s/epoch - 22ms/step\n",
            "Epoch 21/40\n",
            "52/52 - 1s - loss: 0.3314 - AUC: 0.9062 - val_loss: 0.4212 - val_AUC: 0.8962 - 1s/epoch - 22ms/step\n",
            "Epoch 22/40\n",
            "52/52 - 1s - loss: 0.3285 - AUC: 0.9077 - val_loss: 0.4724 - val_AUC: 0.9012 - 1s/epoch - 22ms/step\n",
            "Epoch 23/40\n",
            "52/52 - 1s - loss: 0.3207 - AUC: 0.9120 - val_loss: 0.4926 - val_AUC: 0.8923 - 1s/epoch - 22ms/step\n",
            "Epoch 24/40\n",
            "52/52 - 1s - loss: 0.3105 - AUC: 0.9175 - val_loss: 0.5056 - val_AUC: 0.8959 - 1s/epoch - 22ms/step\n",
            "Epoch 25/40\n",
            "52/52 - 2s - loss: 0.3128 - AUC: 0.9177 - val_loss: 0.4649 - val_AUC: 0.9004 - 2s/epoch - 36ms/step\n",
            "Epoch 26/40\n",
            "52/52 - 1s - loss: 0.2943 - AUC: 0.9263 - val_loss: 0.4264 - val_AUC: 0.8997 - 1s/epoch - 23ms/step\n",
            "Epoch 27/40\n",
            "52/52 - 1s - loss: 0.2962 - AUC: 0.9241 - val_loss: 0.3618 - val_AUC: 0.8856 - 1s/epoch - 22ms/step\n",
            "Epoch 28/40\n",
            "52/52 - 1s - loss: 0.3042 - AUC: 0.9216 - val_loss: 0.4919 - val_AUC: 0.9008 - 1s/epoch - 22ms/step\n",
            "Epoch 29/40\n",
            "52/52 - 1s - loss: 0.2829 - AUC: 0.9313 - val_loss: 0.4368 - val_AUC: 0.8940 - 1s/epoch - 22ms/step\n",
            "Epoch 30/40\n",
            "52/52 - 1s - loss: 0.2683 - AUC: 0.9387 - val_loss: 0.4974 - val_AUC: 0.8885 - 1s/epoch - 22ms/step\n",
            "Epoch 31/40\n",
            "52/52 - 1s - loss: 0.2974 - AUC: 0.9250 - val_loss: 0.5000 - val_AUC: 0.8931 - 1s/epoch - 21ms/step\n",
            "Epoch 32/40\n",
            "52/52 - 1s - loss: 0.2893 - AUC: 0.9294 - val_loss: 0.4705 - val_AUC: 0.8964 - 1s/epoch - 22ms/step\n",
            "Epoch 33/40\n",
            "52/52 - 1s - loss: 0.2611 - AUC: 0.9419 - val_loss: 0.4714 - val_AUC: 0.8927 - 1s/epoch - 28ms/step\n",
            "Epoch 34/40\n",
            "52/52 - 1s - loss: 0.2946 - AUC: 0.9266 - val_loss: 0.4786 - val_AUC: 0.9020 - 1s/epoch - 28ms/step\n",
            "Epoch 35/40\n",
            "52/52 - 1s - loss: 0.2730 - AUC: 0.9366 - val_loss: 0.4257 - val_AUC: 0.9003 - 1s/epoch - 22ms/step\n",
            "Epoch 36/40\n",
            "52/52 - 1s - loss: 0.2584 - AUC: 0.9433 - val_loss: 0.4895 - val_AUC: 0.8927 - 1s/epoch - 22ms/step\n",
            "Epoch 37/40\n",
            "52/52 - 1s - loss: 0.2541 - AUC: 0.9459 - val_loss: 0.5538 - val_AUC: 0.8967 - 1s/epoch - 22ms/step\n",
            "Epoch 38/40\n",
            "52/52 - 1s - loss: 0.2759 - AUC: 0.9366 - val_loss: 0.4561 - val_AUC: 0.8899 - 1s/epoch - 22ms/step\n",
            "Epoch 39/40\n",
            "52/52 - 1s - loss: 0.2552 - AUC: 0.9443 - val_loss: 0.4219 - val_AUC: 0.9021 - 1s/epoch - 22ms/step\n",
            "Epoch 40/40\n",
            "52/52 - 1s - loss: 0.2507 - AUC: 0.9459 - val_loss: 0.4181 - val_AUC: 0.8901 - 1s/epoch - 22ms/step\n"
          ]
        },
        {
          "output_type": "execute_result",
          "data": {
            "text/plain": [
              "<matplotlib.legend.Legend at 0x7b6fdf1ae590>"
            ]
          },
          "metadata": {},
          "execution_count": 24
        },
        {
          "output_type": "display_data",
          "data": {
            "text/plain": [
              "<Figure size 1000x600 with 1 Axes>"
            ],
            "image/png": "[encoded data removed]"
          },
          "metadata": {}
        }
      ],
      "source": [
        "train_dataset = MPNNDataset(x_train, y_train)\n",
        "valid_dataset = MPNNDataset(x_valid, y_valid)\n",
        "test_dataset = MPNNDataset(x_test, y_test)\n",
        "\n",
        "history = mpnn.fit(\n",
        "    train_dataset,\n",
        "    validation_data=valid_dataset,\n",
        "    epochs=40,\n",
        "    verbose=2,\n",
        "    class_weight={0: 2.0, 1: 0.5},\n",
        ")\n",
        "\n",
        "plt.figure(figsize=(10, 6))\n",
        "plt.plot(history.history[\"AUC\"], label=\"train AUC\")\n",
        "plt.plot(history.history[\"val_AUC\"], label=\"valid AUC\")\n",
        "plt.xlabel(\"Epochs\", fontsize=16)\n",
        "plt.ylabel(\"AUC\", fontsize=16)\n",
        "plt.legend(fontsize=16)"
      ]
    },
    {
      "cell_type": "code",
      "source": [],
      "metadata": {
        "id": "eDIzvsUJORfw"
      },
      "execution_count": null,
      "outputs": []
    },
    {
      "cell_type": "code",
      "execution_count": 25,
      "metadata": {
        "id": "Z9MIwtDPKf4G",
        "colab": {
          "base_uri": "https://localhost:8080/",
          "height": 1000
        },
        "outputId": "d849ef26-181a-47d8-d522-f1419e833fe4"
      },
      "outputs": [
        {
          "output_type": "stream",
          "name": "stdout",
          "text": [
            "1/1 [==============================] - 2s 2s/step\n"
          ]
        },
        {
          "output_type": "execute_result",
          "data": {
            "image/png": "[encoded data removed]",
            "text/plain": [
              "<IPython.core.display.Image object>"
            ]
          },
          "metadata": {},
          "execution_count": 25
        }
      ],
      "source": [
        "molecules = [molecule_from_smiles(df.smiles.values[index]) for index in test_index]\n",
        "y_true = [df.p_np.values[index] for index in test_index]\n",
        "y_pred = tf.squeeze(mpnn.predict(test_dataset), axis=1)\n",
        "\n",
        "legends = [f\"y_true/y_pred = {y_true[i]}/{y_pred[i]:.2f}\" for i in range(len(y_true))]\n",
        "MolsToGridImage(molecules, molsPerRow=4, legends=legends)"
      ]
    },
    {
      "cell_type": "markdown",
      "source": [
        "## Conclusions\n",
        "\n",
        "In this tutorial, we demonstarted a message passing neural network (MPNN) to\n",
        "predict blood-brain barrier permeability (BBBP) for a number of different molecules. We\n",
        "first had to construct graphs from SMILES, then build a Keras model that could\n",
        "operate on these graphs, and finally train the model to make the predictions.\n",
        "\n",
        "Example available on HuggingFace\n",
        "\n",
        "| Trained Model | Demo |\n",
        "| :--: | :--: |\n",
        "| [![Generic badge](https://img.shields.io/badge/%F0%9F%A4%97%20Model-mpnn%20molecular%20graphs-black.svg)](https://huggingface.co/keras-io/MPNN-for-molecular-property-prediction) | [![Generic badge](https://img.shields.io/badge/%F0%9F%A4%97%20Spaces-mpnn%20molecular%20graphs-black.svg)](https://huggingface.co/spaces/keras-io/molecular-property-prediction) |"
      ],
      "metadata": {
        "id": "FMFhrManOjdn"
      }
    },
    {
      "cell_type": "markdown",
      "source": [],
      "metadata": {
        "id": "ymkQ1NJDPU5-"
      }
    },
    {
      "cell_type": "markdown",
      "metadata": {
        "id": "5_k2_1jVg7se"
      },
      "source": [
        "# **Graph Neural Networks with PyTorch Geometric**\n",
        "[Gage DeZoort](https://github.com/gagedezoort), 3/27/23\n",
        "\n",
        "Similar examples can be found at https://pytorch-geometric.readthedocs.io/en/latest/notes/colabs.html\n",
        "\n",
        "Several cells evolved from a notebook created by [Savannah Thais](https://github.com/savvy379)."
      ]
    },
    {
      "cell_type": "code",
      "source": [],
      "metadata": {
        "id": "cFVnBujIPbGs"
      },
      "execution_count": null,
      "outputs": []
    },
    {
      "cell_type": "markdown",
      "source": [
        "**Introduction**\n",
        "This notebook teaches the reader how to build and train Graph Neural Networks (GNNs) with Pytorch Geometric (PyG). The first portion walks through a simple GNN architecture applied to the Cora Dataset; it is a modified version of the PyG [Tutorial](https://pytorch-geometric.readthedocs.io/en/latest/notes/colabs.html) on node classifying GNNs. Before diving in, let's set up our software environment:"
      ],
      "metadata": {
        "id": "gRXCzuvJPbsG"
      }
    },
    {
      "cell_type": "code",
      "source": [],
      "metadata": {
        "id": "0uW9KQxlPk-g"
      },
      "execution_count": null,
      "outputs": []
    },
    {
      "cell_type": "markdown",
      "source": [
        "A graph $G$ is a mathematical object consisting of a set of nodes (vertices) $V$ and their pairwise relationships encoded as edges $E$, i.e. $G=(V,E)$. In the following we will usually denote $|V|=n_\\mathrm{nodes}$ and $|E|=n_\\mathrm{edges}$. Graphs can easily represent a wide range of structured data including atoms in molecules (nodes=atoms, edges=molecular bonds), users in a social network (nodes=people, edges=social connections), cities and roads in a transportation system (nodes=cities, edges=roads), planetary simulations (nodes=planets, edges=gravitational interactions), and more."
      ],
      "metadata": {
        "id": "rb40yRE5PmoY"
      }
    },
    {
      "cell_type": "markdown",
      "source": [
        "##  1.1 Karate Club\n",
        "Let's take a look at an example graph in PyG. The Zachary Karate Club dataset (1977) is a social network describing friendships in a university karate club:\n",
        "- 34 nodes (members of the karate club)\n",
        "- 78 edges (friendships outside of the club)\n",
        "\n",
        "A conflict arose between an instructor and an adminstrator, causing a faction in the club - half of the members formed a new karate club around the previous instructor and half either found a new instructor or quit karate.\n",
        "- Truth labels: faction, 0 or 1 (per node)\n",
        "\n",
        "Note that this is a single graph, and the goal is to perform *node classification* on the training set of nodes (a subset of all the nodes in the graph). In this way, Karate Club is used for semi-supervised node classification."
      ],
      "metadata": {
        "id": "2uz8QjIIPsKQ"
      }
    },
    {
      "cell_type": "markdown",
      "source": [
        "##  1.1 Karate Club\n",
        "Let's take a look at an example graph in PyG. The Zachary Karate Club dataset (1977) is a social network describing friendships in a university karate club:\n",
        "- 34 nodes (members of the karate club)\n",
        "- 78 edges (friendships outside of the club)\n",
        "\n",
        "A conflict arose between an instructor and an adminstrator, causing a faction in the club - half of the members formed a new karate club around the previous instructor and half either found a new instructor or quit karate.\n",
        "- Truth labels: faction, 0 or 1 (per node)\n",
        "\n",
        "Note that this is a single graph, and the goal is to perform *node classification* on the training set of nodes (a subset of all the nodes in the graph). In this way, Karate Club is used for semi-supervised node classification."
      ],
      "metadata": {
        "id": "zgJn67g4PudD"
      }
    },
    {
      "cell_type": "markdown",
      "source": [],
      "metadata": {
        "id": "EAM8YQgJP08d"
      }
    },
    {
      "cell_type": "code",
      "source": [],
      "metadata": {
        "id": "Ji32W-eyP52e"
      },
      "execution_count": null,
      "outputs": []
    },
    {
      "cell_type": "code",
      "source": [],
      "metadata": {
        "id": "MlytgpnEQHgt"
      },
      "execution_count": null,
      "outputs": []
    },
    {
      "cell_type": "code",
      "execution_count": null,
      "metadata": {
        "id": "HmtNysTPDItb",
        "colab": {
          "base_uri": "https://localhost:8080/",
          "height": 367
        },
        "outputId": "2e914202-a9a5-419b-bd92-ed7a8a26ffca"
      },
      "outputs": [
        {
          "output_type": "error",
          "ename": "ModuleNotFoundError",
          "evalue": "No module named 'torch_geometric'",
          "traceback": [
            "\u001b[0;31m---------------------------------------------------------------------------\u001b[0m",
            "\u001b[0;31mModuleNotFoundError\u001b[0m                       Traceback (most recent call last)",
            "\u001b[0;32m<ipython-input-26-770e850102c5>\u001b[0m in \u001b[0;36m<cell line: 1>\u001b[0;34m()\u001b[0m\n\u001b[0;32m----> 1\u001b[0;31m \u001b[0;32mfrom\u001b[0m \u001b[0mtorch_geometric\u001b[0m\u001b[0;34m.\u001b[0m\u001b[0mdatasets\u001b[0m \u001b[0;32mimport\u001b[0m \u001b[0mKarateClub\u001b[0m\u001b[0;34m\u001b[0m\u001b[0;34m\u001b[0m\u001b[0m\n\u001b[0m\u001b[1;32m      2\u001b[0m \u001b[0;34m\u001b[0m\u001b[0m\n\u001b[1;32m      3\u001b[0m \u001b[0;31m# KarateClub is a small, easily visualized community graph\u001b[0m\u001b[0;34m\u001b[0m\u001b[0;34m\u001b[0m\u001b[0m\n\u001b[1;32m      4\u001b[0m \u001b[0mkarate_club\u001b[0m \u001b[0;34m=\u001b[0m \u001b[0mKarateClub\u001b[0m\u001b[0;34m(\u001b[0m\u001b[0;34m)\u001b[0m\u001b[0;34m.\u001b[0m\u001b[0m_data\u001b[0m\u001b[0;34m\u001b[0m\u001b[0;34m\u001b[0m\u001b[0m\n",
            "\u001b[0;31mModuleNotFoundError\u001b[0m: No module named 'torch_geometric'",
            "",
            "\u001b[0;31m---------------------------------------------------------------------------\u001b[0;32m\nNOTE: If your import is failing due to a missing package, you can\nmanually install dependencies using either !pip or !apt.\n\nTo view examples of installing some common dependencies, click the\n\"Open Examples\" button below.\n\u001b[0;31m---------------------------------------------------------------------------\u001b[0m\n"
          ],
          "errorDetails": {
            "actions": [
              {
                "action": "open_url",
                "actionText": "Open Examples",
                "url": "/notebooks/snippets/importing_libraries.ipynb"
              }
            ]
          }
        }
      ],
      "source": [
        "from torch_geometric.datasets import KarateClub\n",
        "\n",
        "# KarateClub is a small, easily visualized community graph\n",
        "karate_club = KarateClub()._data"
      ]
    },
    {
      "cell_type": "markdown",
      "source": [],
      "metadata": {
        "id": "OCbC042IQV2f"
      }
    },
    {
      "cell_type": "code",
      "execution_count": null,
      "metadata": {
        "id": "t55h9g5gTOW-"
      },
      "outputs": [],
      "source": [
        "# EXERCISE\n",
        "\n",
        "\n"
      ]
    },
    {
      "cell_type": "markdown",
      "source": [
        "As a brief aside, let's take a look at how PyG stores edges. In a fully connected graph, there are $\\frac{1}{2}n_\\mathrm{nodes}(n_\\mathrm{nodes}-1)$ edges. Sparse graphs have relatively few edges, i.e. $n_\\mathrm{edges}\\ll \\frac{1}{2}n_\\mathrm{nodes}(n_\\mathrm{nodes}-1)$. Adjacency matrices aren't necessarily the best way to represent sparse graphs - instead, packages like PyG use edge index lists in COO format."
      ],
      "metadata": {
        "id": "Yv15xKDiQXbr"
      }
    },
    {
      "cell_type": "code",
      "source": [],
      "metadata": {
        "id": "JxWS-WQEQZMl"
      },
      "execution_count": null,
      "outputs": []
    },
    {
      "cell_type": "code",
      "execution_count": null,
      "metadata": {
        "id": "n7YKvbviUgAI"
      },
      "outputs": [],
      "source": [
        "# edge lists (COO format)\n",
        "out_nodes = karate_club.edge_index[0]\n",
        "print('edges move out of the following nodes:\\n', out_nodes)\n",
        "in_nodes = karate_club.edge_index[1]\n",
        "print('edges move into the following nodes:\\n', in_nodes)"
      ]
    },
    {
      "cell_type": "code",
      "source": [],
      "metadata": {
        "id": "FlrsorVAQhsZ"
      },
      "execution_count": null,
      "outputs": []
    },
    {
      "cell_type": "code",
      "source": [],
      "metadata": {
        "id": "s7UjT18HSv3Z"
      },
      "execution_count": null,
      "outputs": []
    },
    {
      "cell_type": "code",
      "execution_count": null,
      "metadata": {
        "id": "TFopSRjNDTVR"
      },
      "outputs": [],
      "source": [
        "# more details about the graph\n",
        "def get_graph_stats(data):\n",
        "  print(f'Number of nodes: {data.num_nodes}')\n",
        "  print(f'Number of edges: {data.num_edges}')\n",
        "  print(f'Average node degree: {data.num_edges / data.num_nodes:.2f}')\n",
        "  print(f'Number of training nodes: {data.train_mask.sum()}')\n",
        "  print(f'Training node label rate: {int(data.train_mask.sum()) / data.num_nodes:.2f}')\n",
        "  print(f'Has isolated nodes: {data.has_isolated_nodes()}')\n",
        "  print(f'Has self-loops: {data.has_self_loops()}')\n",
        "  print(f'Is undirected: {data.is_undirected()}')\n",
        "\n",
        "get_graph_stats(karate_club)"
      ]
    },
    {
      "cell_type": "markdown",
      "source": [
        "Okay, good, we've taken a look at our first instance of `Data`. Now let's visualize the graph; note that here it has 4 truth labels instead of 2, which have been generated by a graph clustering algorithm (if you're interested see [this ref](https://ieeexplore.ieee.org/document/4358966), but it's not important here). We'll use `networkx`, a networks dynamics software package, to visualize the graph."
      ],
      "metadata": {
        "id": "kJbBh66QS7mW"
      }
    },
    {
      "cell_type": "code",
      "source": [],
      "metadata": {
        "id": "kdZ7SsQGS9Zz"
      },
      "execution_count": null,
      "outputs": []
    },
    {
      "cell_type": "code",
      "execution_count": null,
      "metadata": {
        "id": "2pU3DOgPD9TP"
      },
      "outputs": [],
      "source": [
        "import torch_geometric\n",
        "import networkx as networkx\n",
        "print('Truth labels', karate_club.y)\n",
        "karate_club_nx = torch_geometric.utils.to_networkx(karate_club, to_undirected=True)\n",
        "plt.figure(figsize=(10,10))\n",
        "nx.draw(karate_club_nx, with_labels=True, node_color=karate_club.y)"
      ]
    },
    {
      "cell_type": "markdown",
      "source": [
        "## 1.2 ENZYMES Graphs\n",
        "\n",
        "Karate Club is used for semi-supervised node classification; let's look at a dataset used for graph-level classification. The [ENZYMES dataset](https://pytorch-geometric.readthedocs.io/en/latest/generated/torch_geometric.datasets.TUDataset.html#torch_geometric.datasets.TUDataset)\n",
        "contains 600 graphs representing proteins with ~32.6 nodes (secondary structure elements - helices, turns or sheets) and ~124.3 edges (denoting neighbors in space or in the amino acid sequence) each. For expert details see the [TUDataset paper](https://arxiv.org/pdf/2007.08663.pdf). The goal is to assign each protein to one of 6 enzyme commission numbers, which describe the chemical reaction the enzyme catalyzes."
      ],
      "metadata": {
        "id": "CHW4PgsHTEq-"
      }
    },
    {
      "cell_type": "code",
      "source": [],
      "metadata": {
        "id": "fmmcbjzvTGFv"
      },
      "execution_count": null,
      "outputs": []
    },
    {
      "cell_type": "code",
      "execution_count": null,
      "metadata": {
        "id": "pN6PiQJMW_tM"
      },
      "outputs": [],
      "source": [
        "from torch_geometric.datasets import TUDataset\n",
        "dataset = TUDataset(root='/tmp/TUDataset', name=\"ENZYMES\", use_node_attr=True)\n",
        "dataset.data"
      ]
    },
    {
      "cell_type": "markdown",
      "source": [
        "**Exercise 1.1c**: Notice also that the data batches appear to have concatenate the nodes and edges of all the graphs into a single \"batch graph.\" How does this work? (Hint: look at the `batch` attribute appended to each batch.)"
      ],
      "metadata": {
        "id": "5r6Guj0YTN6D"
      }
    },
    {
      "cell_type": "code",
      "source": [],
      "metadata": {
        "id": "NZ9rPgPMTQ2t"
      },
      "execution_count": null,
      "outputs": []
    },
    {
      "cell_type": "markdown",
      "source": [
        "In general, GNNs work by leveraging local information across the graph structure to intelligently compute new features for the nodes (and/or edges). A commonly used class of GNNs is the Graph Convolutional Network (GCN). GCNs use more-or-less the same convolution operations you've seen used in convolutional neural networks; however, instead of applying them to patches of images, they apply them to node neighborhoods. \"Messages\" are computed from each of a node's neighbors, and these messages are \"passed\" back to the node and used to update its features. We're going to make this painfully concrete; first, here's a schematic:\n",
        "\n",
        "![](https://drive.google.com/uc?id=1f5MJO9Kw1tWjJMBJBsZ-M4tMFz_dydr2)"
      ],
      "metadata": {
        "id": "OMst-NN-TVWs"
      }
    },
    {
      "cell_type": "markdown",
      "source": [
        "## 2.1 Graph Convolutional NNs\n",
        "\n",
        "Let's look at a graph convolutional network (GCN) as originally posed in [Semi-Supervised Classification with Graph Convolutional Networks\n",
        "](https://arxiv.org/pdf/1609.02907.pdf). Don't worry if the details aren't super clear, we'll highlight the most important things to remember.\n",
        "\n",
        "Fix a graph with node features stacked into a matrix $\\mathbf{X}^{(0)}\\in\\mathbb{R}^{n_\\mathrm{nodes}\\times d_V}$ and an adjacency matrix $\\mathbf{A} \\in [0,1]^{n_\\mathrm{nodes}\\times n_\\mathrm{nodes}}$. A GCN will repeatedly apply graph convolutions to come up with new hidden representations of each node $\\mathbf{X}^{(\\ell)}$, where $\\ell$ counts how many GCN layers you've applied. The forward pass of a GCN is based on message passing by taking a weighted average over each node's neighborhood. The weighted average is performed using a matrix $\\mathbf{P}$ that is constructed from $\\mathbf{A}$ - it is the symmetric degree-normalized adjacency matrix with self-loops - so that given a matrix $\\mathbf{W}^{(\\ell+1)}$ of trainable weights (no biases!) the GCN forward pass looks like this:\n",
        "\n",
        "- GCN Forward Pass:\n",
        "$$\n",
        "\\mathbf{X}^{(\\ell+1)} = \\mathbf{P}\\sigma(\\mathbf{X}^{(\\ell)})\\mathbf{W}^{(\\ell+1)}\n",
        "$$\n",
        "\n",
        "Here, $\\sigma$ is any non-linearity (activation function).\n",
        "This forward pass should look pretty familiar! It's just like the forward pass of a feedforward NN applied to each node, where we're mixing up the node features by multiplying with $\\mathbf{P}$ - this is neural message passing. Let's compare:\n",
        "\n",
        "- DNN:\n",
        "$$\\mathbf{x}^{(\\ell+1)} = \\sigma(\\mathbf{x}^{(\\ell)})\\mathbf{W}^{(\\ell+1)}$$\n",
        "- GCN:  \n",
        "$$\\mathbf{X}^{(\\ell+1)} = \\mathbf{P}\\sigma(\\mathbf{X}^{(\\ell)})\\mathbf{W}^{(\\ell+1)}$$\n",
        "\n",
        "\n",
        "We can re-cast the GCN matrix equation in terms of our familiar message-passing notation:\n",
        "\n",
        "$$\n",
        "\\mathbf{x}_v^{(\\ell + 1)} = \\sum_{w \\in \\mathcal{N}(v) \\, \\cup \\, \\{ v \\}} \\frac{1}{c_{w,v}} \\mathbf{x}_w^{(\\ell)}\\mathbf{W}^{(\\ell + 1)}\n",
        "$$\n",
        "\n",
        "Here, $c_{w,v}$ refers to a fixed normalization coefficient for each edge; in the original formulation, $c(w,v)=\\sqrt{\\big((deg(w)+1)(deg(v)+1)\\big)}$. This should make it clear that $\\mathbf{P}$ simply computes a weighted sum of the neighborhood features for each node."
      ],
      "metadata": {
        "id": "6ebgqLGvTeD7"
      }
    },
    {
      "cell_type": "markdown",
      "source": [
        "## 2.2 Cora (Karate Club but bigger!)\n",
        "\n",
        "We will now use the [Cora dataset](https://relational.fit.cvut.cz/dataset/CORA) to predict the subject of a research paper given its words and citation network. The learning task is the same as it was with Karate Club, semi-supervised node classification. The Cora dataset consists of\n",
        "\n",
        "- 2,708 nodes (scientific papers)\n",
        "- 7 truth classes (paper subjects)\n",
        "- 5,429 edges (representing citations)\n",
        "- 1,433 node features (each a binary field indicating the presence of a word in the corresponding paper)\n",
        "\n",
        "Let's go!"
      ],
      "metadata": {
        "id": "nXCYmNQvTpfn"
      }
    },
    {
      "cell_type": "code",
      "source": [],
      "metadata": {
        "id": "BtwRNaFOTr6x"
      },
      "execution_count": null,
      "outputs": []
    },
    {
      "cell_type": "code",
      "execution_count": null,
      "metadata": {
        "id": "xUq4BYlX_5Nd"
      },
      "outputs": [],
      "source": [
        "# import the cora citation network\n",
        "from torch_geometric.datasets import Planetoid\n",
        "cora_dataset = Planetoid(root='data/Planetoid', name='Cora')"
      ]
    },
    {
      "cell_type": "code",
      "source": [],
      "metadata": {
        "id": "v9NAgH9KT0Dr"
      },
      "execution_count": null,
      "outputs": []
    },
    {
      "cell_type": "code",
      "execution_count": null,
      "metadata": {
        "id": "47atFcJGBTNV"
      },
      "outputs": [],
      "source": [
        "# there is only one graph in this dataset\n",
        "cora = cora_dataset[0]\n",
        "cora"
      ]
    },
    {
      "cell_type": "code",
      "source": [],
      "metadata": {
        "id": "xw1z7XMfT3zJ"
      },
      "execution_count": null,
      "outputs": []
    },
    {
      "cell_type": "code",
      "execution_count": null,
      "metadata": {
        "id": "nTW3g1qTCWMQ"
      },
      "outputs": [],
      "source": [
        "# use our previous function to inspect Cora\n",
        "get_graph_stats(cora)"
      ]
    },
    {
      "cell_type": "code",
      "source": [],
      "metadata": {
        "id": "DNEuYzmtT7zg"
      },
      "execution_count": null,
      "outputs": []
    },
    {
      "cell_type": "code",
      "execution_count": null,
      "metadata": {
        "id": "MYmgukT-PUmG"
      },
      "outputs": [],
      "source": [
        "# let's visualize the graph\n",
        "plt.figure(figsize=(10,10))\n",
        "cora_nx = torch_geometric.utils.to_networkx(cora, to_undirected=True)\n",
        "nx.draw(cora_nx, node_size=15, node_color=cora.y)"
      ]
    },
    {
      "cell_type": "markdown",
      "source": [
        "Okay, now it's time to set up a GCN using PyG! Reminder: we can construct a GNN in PyG similary to how we build a standard feed-forward neural network. We just need to swap the `torch.nn.Linear` layers with PyG's `GCNConv` implementing the graph convolution:\n",
        "\n",
        "$$\n",
        "\\mathbf{x}_v^{(\\ell + 1)} =  \\sum_{w \\in \\mathcal{N}(v) \\, \\cup \\, \\{ v \\}} \\frac{1}{c_{w,v}} \\mathbf{x}_w^{(\\ell)}\\mathbf{W}^{(\\ell + 1)}\n",
        "$$"
      ],
      "metadata": {
        "id": "8kDb98-SUAeM"
      }
    },
    {
      "cell_type": "code",
      "source": [],
      "metadata": {
        "id": "9IH0iAP6UC5n"
      },
      "execution_count": null,
      "outputs": []
    },
    {
      "cell_type": "code",
      "execution_count": null,
      "metadata": {
        "id": "pPOvTx-fCwPD"
      },
      "outputs": [],
      "source": [
        "import torch\n",
        "import torch.nn.functional as F\n",
        "from torch_geometric.nn import GCNConv\n",
        "\n",
        "class GCN(torch.nn.Module):\n",
        "    def __init__(self):\n",
        "        super().__init__()\n",
        "        self.conv1 = GCNConv(cora_dataset.num_node_features, 16)\n",
        "        self.conv2 = GCNConv(16, cora_dataset.num_classes)\n",
        "\n",
        "    def forward(self, data):\n",
        "        x, edge_index = data.x, data.edge_index\n",
        "\n",
        "        x = self.conv1(x, edge_index) # apply first GCN convolution\n",
        "        x = F.relu(x) # hidden graph embedding\n",
        "        x = F.dropout(x, training=self.training) # randomly drop training nodes\n",
        "        x = self.conv2(x, edge_index) # output graph embedding\n",
        "\n",
        "        return F.log_softmax(x, dim=1)"
      ]
    },
    {
      "cell_type": "code",
      "source": [],
      "metadata": {
        "id": "BYf8ZXqpUOa7"
      },
      "execution_count": null,
      "outputs": []
    },
    {
      "cell_type": "markdown",
      "source": [
        "We're just trying to predict the right subject for each paper, hence the $\\texttt{log_softmax}$ post-activation. This GCN is very similar to the [original implementation](https://github.com/tkipf/pygcn).\n",
        "\n",
        "Let's take a look at the predictions of an untrained GCN by looking at a low dimensional representation:"
      ],
      "metadata": {
        "id": "qjgI7VD5USYZ"
      }
    },
    {
      "cell_type": "code",
      "source": [],
      "metadata": {
        "id": "SUCp0chLUwZ3"
      },
      "execution_count": null,
      "outputs": []
    },
    {
      "cell_type": "code",
      "execution_count": null,
      "metadata": {
        "id": "gYpVv-myJ1Cz"
      },
      "outputs": [],
      "source": [
        "from sklearn.manifold import TSNE\n",
        "\n",
        "def visualize(h, color):\n",
        "    z = TSNE(n_components=2).fit_transform(h.detach().cpu().numpy())\n",
        "\n",
        "    plt.figure(figsize=(10,10))\n",
        "    plt.xticks([])\n",
        "    plt.yticks([])\n",
        "\n",
        "    plt.scatter(z[:, 0], z[:, 1], s=70, c=color, cmap=\"Set2\")\n",
        "    plt.show()\n",
        "\n",
        "# examine the output of an untrained GCN\n",
        "model = GCN()\n",
        "model.eval()\n",
        "out = model(cora)\n",
        "visualize(out, color=cora.y)"
      ]
    },
    {
      "cell_type": "code",
      "source": [],
      "metadata": {
        "id": "B_H5w9ARU2U0"
      },
      "execution_count": null,
      "outputs": []
    },
    {
      "cell_type": "code",
      "execution_count": null,
      "metadata": {
        "id": "11WFfacNbBat"
      },
      "outputs": [],
      "source": [
        "from IPython.display import Javascript  # Restrict height of output cell.\n",
        "display(Javascript('''google.colab.output.setIframeHeight(0, true, {maxHeight: 300})'''))\n",
        "\n",
        "model = GCN()\n",
        "optimizer = torch.optim.Adam(model.parameters(), lr=0.01, weight_decay=5e-4)\n",
        "criterion = torch.nn.CrossEntropyLoss()\n",
        "\n",
        "def train(data):\n",
        "      model.train()\n",
        "      optimizer.zero_grad()  # Clear gradients.\n",
        "      out = model(data)  # Perform a single forward pass.\n",
        "      loss = criterion(out[data.train_mask], data.y[data.train_mask])  # Compute the loss solely based on the training nodes.\n",
        "      loss.backward()  # Derive gradients.\n",
        "      optimizer.step()  # Update parameters based on gradients.\n",
        "      return loss\n",
        "\n",
        "def test(data):\n",
        "      model.eval()\n",
        "      out = model(data)\n",
        "      pred = out.argmax(dim=1)  # Use the class with highest probability.\n",
        "      test_correct = pred[data.test_mask] == data.y[data.test_mask]  # Check against ground-truth labels.\n",
        "      test_acc = int(test_correct.sum()) / int(data.test_mask.sum())  # Derive ratio of correct predictions.\n",
        "      return test_acc\n",
        "\n",
        "for epoch in range(1, 101):\n",
        "    loss = train(cora)\n",
        "    print(f'Epoch: {epoch:03d}, Loss: {loss:.4f}')"
      ]
    },
    {
      "cell_type": "code",
      "source": [],
      "metadata": {
        "id": "b9CAx0EHU8da"
      },
      "execution_count": null,
      "outputs": []
    },
    {
      "cell_type": "code",
      "execution_count": null,
      "metadata": {
        "id": "0wxqSUPcbNfU"
      },
      "outputs": [],
      "source": [
        "test_acc = test(cora)\n",
        "print(f'Test Accuracy: {test_acc:.4f}')"
      ]
    },
    {
      "cell_type": "markdown",
      "source": [
        "Not perfect, but it's pretty accurate at predicting paper subject area!\n",
        "\n",
        "We can further verify that  by looking at the output embeddings of our **trained** model, which now produces a far better clustering of nodes of the same category.\n",
        "\n"
      ],
      "metadata": {
        "id": "GbHQmvJIVHzr"
      }
    },
    {
      "cell_type": "code",
      "source": [],
      "metadata": {
        "id": "qj2nkkk5VKQK"
      },
      "execution_count": null,
      "outputs": []
    },
    {
      "cell_type": "code",
      "execution_count": null,
      "metadata": {
        "id": "WDrdFWyscGQu"
      },
      "outputs": [],
      "source": [
        "model.eval()\n",
        "\n",
        "out = model(cora)\n",
        "visualize(out, color=cora.y)"
      ]
    },
    {
      "cell_type": "markdown",
      "source": [
        "**Exercise 2.2b** Play around with the training loop above! Some guiding questions:\n",
        "\n",
        "- How does GCN behave when increasing the hidden feature dimensionality or the number of layers? Does increasing the number of layers help at all?\n",
        "\n",
        "- So far, we've just looked at GCNConv operations. You can try to use different GNN layers to see how model performance changes. What happens if you swap out all GCNConv instances with GATConv layers that make use of attention? Try to write a 2-layer GAT model that makes use of 8 attention heads in the first layer and 1 attention head in the second layer, uses a dropout ratio of 0.6 inside and outside each GATConv call, and uses a hidden_channels dimensions of 8 per head."
      ],
      "metadata": {
        "id": "uHRgNTykVeQW"
      }
    },
    {
      "cell_type": "code",
      "source": [],
      "metadata": {
        "id": "Hr_BST6kVn2w"
      },
      "execution_count": null,
      "outputs": []
    },
    {
      "cell_type": "code",
      "execution_count": null,
      "metadata": {
        "id": "o2ZzDXrr0Fy_"
      },
      "outputs": [],
      "source": [
        "# let's re-load the dat\n",
        "enzymes = TUDataset(root='/tmp/TUDataset', name=\"ENZYMES\", use_node_attr=True)\n",
        "train_loader = DataLoader(enzymes[:400], batch_size=32, shuffle=True)\n",
        "test_loader = DataLoader(enzymes[400:], shuffle=False)"
      ]
    },
    {
      "cell_type": "code",
      "source": [],
      "metadata": {
        "id": "lctiJywbVtSF"
      },
      "execution_count": null,
      "outputs": []
    },
    {
      "cell_type": "code",
      "execution_count": null,
      "metadata": {
        "id": "8fPevir3xe_i"
      },
      "outputs": [],
      "source": [
        "import torch\n",
        "import torch.nn.functional as F\n",
        "from torch_geometric.nn import GCNConv\n",
        "from torch_geometric.nn.pool import global_mean_pool\n",
        "\n",
        "class PoolingGCN(torch.nn.Module):\n",
        "    def __init__(self):\n",
        "        super().__init__()\n",
        "\n",
        "        # EXERCISE: add the correct input and output dimensions:\n",
        "        self.conv1 = GCNConv(, 512, cached=False)\n",
        "        self.conv2 = GCNConv(512, , cached=False)\n",
        "\n",
        "    def forward(self, data):\n",
        "        x, edge_index = data.x, data.edge_index\n",
        "\n",
        "        x = self.conv1(x, edge_index) # apply first GCN convolution\n",
        "        x = F.relu(x) # hidden graph embedding\n",
        "        #x = F.dropout(x, training=self.training) # randomly drop training nodes\n",
        "        x = self.conv2(x, edge_index) # output graph embedding\n",
        "\n",
        "        # EXERCISE: global mean pool x\n",
        "\n",
        "        return F.log_softmax(x, dim=1)"
      ]
    },
    {
      "cell_type": "code",
      "source": [],
      "metadata": {
        "id": "3p3QHUR_Vyn1"
      },
      "execution_count": null,
      "outputs": []
    },
    {
      "cell_type": "code",
      "execution_count": null,
      "metadata": {
        "id": "w5MZxyVBx0z5"
      },
      "outputs": [],
      "source": [
        "model = PoolingGCN()\n",
        "optimizer = torch.optim.Adam(model.parameters(), lr=0.0001)\n",
        "criterion = torch.nn.CrossEntropyLoss()\n",
        "\n",
        "def train_step(train_loader):\n",
        "    model.train()\n",
        "    for batch in train_loader:\n",
        "        optimizer.zero_grad()  # Clear gradients.\n",
        "        out = model(batch)  # Perform a single forward pass.\n",
        "        loss = criterion(out, batch.y)  # Compute the loss solely based on the training nodes.\n",
        "        loss.backward()  # Derive gradients.\n",
        "        optimizer.step()  # Update parameters based on gradients.\n",
        "    return loss\n",
        "\n",
        "def test_step(test_loader):\n",
        "    model.eval()\n",
        "    # EXERCISE: write a test step and evaluate your model\n",
        "\n",
        "for epoch in range(1, 101):\n",
        "    train_loss = train_step(train_loader)\n",
        "    if not epoch%10:\n",
        "        print(f'Epoch: {epoch:03d}, Loss: {train_loss:.4f}')"
      ]
    },
    {
      "cell_type": "markdown",
      "source": [
        "# 4. Message Passing Under the Hood (Optional)\n",
        "You may be wondering how the PyG implementation of the GCN compares to our $\\mathbf{P}$ matrix aggregations above. Well, according to the [docs](https://pytorch-geometric.readthedocs.io/en/latest/modules/nn.html#torch_geometric.nn.conv.GCNConv),\n",
        "\n",
        "![gcnconv.jpg](data:image/jpeg;base64,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)"
      ],
      "metadata": {
        "id": "k4OI7TPGV_lS"
      }
    },
    {
      "cell_type": "code",
      "source": [],
      "metadata": {
        "id": "bx2R6CiaWLxB"
      },
      "execution_count": null,
      "outputs": []
    },
    {
      "cell_type": "code",
      "execution_count": null,
      "metadata": {
        "id": "PC1SjEbZl7-6"
      },
      "outputs": [],
      "source": [
        "from typing import Optional, Tuple\n",
        "\n",
        "import torch\n",
        "from torch import Tensor\n",
        "from torch_scatter import scatter_add\n",
        "\n",
        "from torch_geometric.nn.conv import MessagePassing\n",
        "from torch_geometric.nn.dense.linear import Linear\n",
        "from torch_geometric.nn.inits import zeros\n",
        "from torch_geometric.typing import Adj, PairTensor\n",
        "from torch_geometric.utils import add_remaining_self_loops\n",
        "from torch_geometric.utils.num_nodes import maybe_num_nodes\n",
        "\n",
        "def gcn_norm(edge_index, num_nodes=None,\n",
        "             add_self_loops=True, dtype=None):\n",
        "\n",
        "    num_nodes = maybe_num_nodes(edge_index, num_nodes)\n",
        "    edge_weight = torch.ones((edge_index.size(1), ), dtype=dtype,\n",
        "                              device=edge_index.device)\n",
        "    edge_index, edge_weight = add_remaining_self_loops(\n",
        "        edge_index, edge_weight, 1, num_nodes)\n",
        "\n",
        "    #\n",
        "    row, col = edge_index[0], edge_index[1]\n",
        "    deg = scatter_add(edge_weight, col, dim=0, dim_size=num_nodes)\n",
        "    deg_inv_sqrt = deg.pow_(-0.5)\n",
        "    deg_inv_sqrt.masked_fill_(deg_inv_sqrt == float('inf'), 0)\n",
        "    return edge_index, deg_inv_sqrt[row] * edge_weight * deg_inv_sqrt[col]\n",
        "\n",
        "class SimpleGCNConv(MessagePassing):\n",
        "    def __init__(self, in_channels, out_channels,\n",
        "                 add_self_loops = True,  **kwargs):\n",
        "\n",
        "        kwargs.setdefault('aggr', 'add')\n",
        "        super().__init__(**kwargs)\n",
        "\n",
        "        self.in_channels = in_channels\n",
        "        self.out_channels = out_channels\n",
        "        self.add_self_loops = add_self_loops\n",
        "        self.lin = Linear(in_channels, out_channels, bias=False,\n",
        "                          weight_initializer='glorot')\n",
        "        self.reset_parameters()\n",
        "\n",
        "    def reset_parameters(self):\n",
        "        self.lin.reset_parameters()\n",
        "\n",
        "    def forward(self, x, edge_index,):\n",
        "        edge_index, edge_weight = gcn_norm(\n",
        "            edge_index, x.size(self.node_dim),\n",
        "            self.add_self_loops\n",
        "        )\n",
        "        x = self.lin(x)\n",
        "        out = self.propagate(\n",
        "            edge_index, x=x, edge_weight=edge_weight, size=None\n",
        "        )\n",
        "        return out\n",
        "\n",
        "    def message(self, x_j, edge_weight):\n",
        "        return edge_weight.view(-1, 1) * x_j"
      ]
    },
    {
      "cell_type": "code",
      "source": [],
      "metadata": {
        "id": "kYGda6oJWSHb"
      },
      "execution_count": null,
      "outputs": []
    },
    {
      "cell_type": "code",
      "execution_count": null,
      "metadata": {
        "id": "pb8a8SbspZ3J"
      },
      "outputs": [],
      "source": [
        "# check a few examples\n",
        "def check_edge(idx):\n",
        "  print(f'\\nChecking edge #{idx}')\n",
        "  out_node, in_node = edge_index[:,idx]\n",
        "  print(f'...edge extends from {out_node} to {in_node}')\n",
        "  print(f'...corresponding entry in P: {P[out_node, in_node]}')\n",
        "  print(f'...corresponding entry in edge_weights: {edge_weight[idx]}')\n",
        "\n",
        "check_edge(29)\n",
        "check_edge(3)\n",
        "check_edge(0)"
      ]
    },
    {
      "cell_type": "markdown",
      "source": [
        "Evidently, PyG computes the exact same matrix $\\textbf{P}$ and maps it onto an edge weight vector `edge_weight`$\\in\\mathbb[0,1]^{2\\times|E|}$. Instead of multiplying matrices, PyG keeps track of edge lists and uses element-wise indexing/multiplication.\n",
        "\n",
        "So, we get the right normalization. That's great! Now how do we compute a message passing iteration without matrix multiplication by $\\mathbf{P}$?"
      ],
      "metadata": {
        "id": "oL08bIQhWatu"
      }
    },
    {
      "cell_type": "code",
      "source": [],
      "metadata": {
        "id": "_s0JgmYcWc-3"
      },
      "execution_count": null,
      "outputs": []
    },
    {
      "cell_type": "markdown",
      "source": [
        "Let's look at the forward pass:\n",
        "\n",
        "```\n",
        "def forward(self, x, edge_index,):\n",
        "    edge_index, edge_weight = gcn_norm(  \n",
        "        edge_index, x.size(self.node_dim),\n",
        "        self.add_self_loops\n",
        "    )\n",
        "    x = self.lin(x)\n",
        "    out = self.propagate(\n",
        "        edge_index, x=x, edge_weight=edge_weight, size=None\n",
        "    )\n",
        "    return out  \n",
        "```\n",
        "\n",
        "In the first lines we call the `normalize` function to build the $\\mathbf{P}$ matrix in the form of `edge_weights`. That checks out!\n",
        "\n",
        "$$ \\texttt{edge_weights}\\ \\leftrightarrow\\ \\mathbf{P}$$\n",
        "\n",
        "Next, we apply a learnable linear transform to our input feature, which is $\\sigma(X^{(\\ell)})$ from the previous hidden layer.\n",
        "\n",
        "$$ \\texttt{x = self.lin(x)}\\ \\leftrightarrow\\ \\mathbf{X}^{(\\ell+1)}=\\sigma(\\mathbf{X}^{(\\ell)})\\mathbf{W}^{(\\ell+1)}$$\n",
        "\n",
        "We then call `self.propagate`, which initiates message passing under the hood. This is a PyG convention; whenever `propagate` is called, pairs of nodes ($\\mathbf{x}_i, \\mathbf{x}_j$) connected by an edge in `edge_index` are formed and passed through the user-defined `message` function. Here, we've defined:\n",
        "\n",
        "```\n",
        "def message(self, x_j, edge_weight):\n",
        "        return edge_weight.view(-1, 1) * x_j\n",
        "```\n",
        "\n",
        "As we saw above, each message from node $j$ to node $i$ is just $\\frac{1}{c_{j,i}} \\cdot \\mathbf{x}_j^{(\\ell)}$, where $c_{j,i}=\\sqrt{\\text{deg}(j)+1}\\sqrt{\\text{deg}(i)+1}$ is the normalization constant in $\\mathbf{P}$ (`edge_weight`).\n",
        "\n",
        "Finally, PyG calls `aggregate` based on the user's choice of aggregation function. Since the GCN aggregation strategy is matrix multiplication, we're using `add` aggregation. We set this as a default kwarg in the `SimpleGCNConv` class. The PyG message passing `update` function updates the state of each node based on these aggregated messages (in general by applying another NN to them, but here we simply take the sum).\n",
        "\n",
        "$$ \\texttt{message}, \\texttt{aggregate} \\leftrightarrow\\ \\mathbf{P}\\sigma(\\mathbf{X}^{(\\ell)})\\mathbf{W}^{(\\ell+1)}$$\n",
        "$$ \\texttt{update}\\ \\leftrightarrow\\ \\mathbf{X}^{(\\ell+1)} = \\mathbf{P}\\sigma(\\mathbf{X}^{(\\ell)})\\mathbf{W}^{(\\ell+1)}$$\n"
      ],
      "metadata": {
        "id": "ewcvThBiWunR"
      }
    },
    {
      "cell_type": "code",
      "source": [],
      "metadata": {
        "id": "smTZlTP7WyN0"
      },
      "execution_count": null,
      "outputs": []
    },
    {
      "cell_type": "markdown",
      "source": [
        "Schematically, based on https://pytorch-geometric.readthedocs.io/en/latest/notes/sparse_tensor.html\n",
        "\n",
        "```\n",
        "from torch_scatter import scatter\n",
        "\n",
        "x = ...           # Node features of shape [num_nodes, num_features]\n",
        "edge_index = ...  # Edge indices of shape [2, num_edges]\n",
        "edge_weight = ... # Edge weights of shape [1, num_edges]\n",
        "\n",
        "x_j = x[edge_index[0]]  # Source node features [num_edges, num_features]\n",
        "x_i = x[edge_index[1]]  # Target node features [num_edges, num_features]\n",
        "\n",
        "msg = edge_weight.view(-1,1) * x_j  # Compute message for each edge\n",
        "\n",
        "# Aggregate messages based on target node indices\n",
        "out = scatter(msg, edge_index[1], dim=0, dim_size=x.size(0), reduce=\"add\")\n",
        "```\n"
      ],
      "metadata": {
        "id": "K79SRCtiXIgv"
      }
    },
    {
      "cell_type": "code",
      "source": [],
      "metadata": {
        "id": "oaago98ZXKvJ"
      },
      "execution_count": null,
      "outputs": []
    },
    {
      "cell_type": "code",
      "source": [],
      "metadata": {
        "id": "cLmVKu2IXRk5"
      },
      "execution_count": null,
      "outputs": []
    },
    {
      "cell_type": "markdown",
      "source": [
        "# answers to exercises:\n",
        "\n",
        "# Exercise 1.1a\n",
        "# print(karate_club.x)\n",
        "# print(karate_club.edge_index)\n",
        "# print(karate_club.y)\n",
        "\n",
        "# Exercise 1.1b\n",
        "# A = torch_geometric.utils.to_dense_adj(karate_club.edge_index).squeeze()\n",
        "#print('adjacency representation', A)\n",
        "\n",
        "# Exercise 1.1c\n",
        "# Batching in PyG works by concatenating nodes and creating a block diagonal adacency matrix.\n",
        "# Membership is tracked through the `batch` attribute appended to each graph batch.\n",
        "# See: https://pytorch-geometric.readthedocs.io/en/latest/advanced/batching.html\n",
        "\n",
        "# Exercise 2.2a\n",
        "# sum(cora.train_mask)\n",
        "# There are 140 training nodes, 20 from each of the 7 truth classes.\n",
        "# This means overtraining is a real possibility and regularization will be important.\n",
        "\n",
        "# Exercise 2.2b\n",
        "# Adding more layers doesn't help too much (and even hurts if the network becomes too deep)!\n",
        "# This is because node features get \"washed out\" across the graph.\n",
        "\n",
        "# Exercise 3a\n",
        "# 21 input features, 6 output classes\n",
        "# x = global_mean_pool(x, data.batch)\n",
        "\n",
        "# Exercise 3b\n",
        "# Just copy the train loop structure and the accuracy metric from the Cora train loop.\n",
        "# But remember accuracy is computed per-graph now!"
      ],
      "metadata": {
        "id": "hO0RI3VtXSp6"
      }
    },
    {
      "cell_type": "code",
      "source": [],
      "metadata": {
        "id": "de8zd1_hXU94"
      },
      "execution_count": null,
      "outputs": []
    },
    {
      "cell_type": "markdown",
      "source": [
        "https://colab.research.google.com/github/GageDeZoort/prc_gnn_tutorial/blob/main/gnn_tutorial.ipynb#scrollTo=quOauueqYuIZ"
      ],
      "metadata": {
        "id": "B-QIfoD3Xjk-"
      }
    },
    {
      "cell_type": "markdown",
      "source": [],
      "metadata": {
        "id": "8KPu0akXXm5y"
      }
    }
  ],
  "metadata": {
    "accelerator": "GPU",
    "colab": {
      "provenance": [],
      "include_colab_link": true
    },
    "kernelspec": {
      "display_name": "Python 3",
      "language": "python",
      "name": "python3"
    },
    "language_info": {
      "codemirror_mode": {
        "name": "ipython",
        "version": 3
      },
      "file_extension": ".py",
      "mimetype": "text/x-python",
      "name": "python",
      "nbconvert_exporter": "python",
      "pygments_lexer": "ipython3",
      "version": "3.7.0"
    }
  },
  "nbformat": 4,
  "nbformat_minor": 0
}